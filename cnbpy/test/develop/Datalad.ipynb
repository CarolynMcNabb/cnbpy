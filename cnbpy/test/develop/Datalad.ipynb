{
 "cells": [
  {
   "cell_type": "markdown",
   "metadata": {},
   "source": [
    "# Datalad stuff"
   ]
  },
  {
   "cell_type": "code",
   "execution_count": 1,
   "metadata": {},
   "outputs": [
    {
     "name": "stderr",
     "output_type": "stream",
     "text": [
      "It is highly recommended to configure Git before using DataLad. Set both 'user.name' and 'user.email' configuration variables.\n",
      "It is highly recommended to configure Git before using DataLad. Set both 'user.name' and 'user.email' configuration variables.\n"
     ]
    }
   ],
   "source": [
    "%load_ext autoreload\n",
    "%autoreload 2\n",
    "import os\n",
    "from cnbpy.datalad import DATASET,SUBJECT, ABIDE_DATASET\n",
    "from cnbpy.bids import BIDS\n",
    "from cnbpy.fmriprep import FMRIPREP"
   ]
  },
  {
   "cell_type": "markdown",
   "metadata": {},
   "source": [
    "To define a 'DATASET', we simply need a local path and a path to the datalad BIDS repository, as listed on http://datasets.datalad.org/"
   ]
  },
  {
   "cell_type": "code",
   "execution_count": 2,
   "metadata": {},
   "outputs": [],
   "source": [
    "local_path='/storage/research/cinn_comp/nicktest2'"
   ]
  },
  {
   "cell_type": "markdown",
   "metadata": {},
   "source": [
    "For instance, although the ABIDE dataset itself is not in BIDS format, the data from the individual sites is, hence we point to an individual site."
   ]
  },
  {
   "cell_type": "code",
   "execution_count": 3,
   "metadata": {},
   "outputs": [],
   "source": [
    "source='///abide2/RawData/GU_1'"
   ]
  },
  {
   "cell_type": "markdown",
   "metadata": {},
   "source": [
    "I define a dataset class. "
   ]
  },
  {
   "cell_type": "code",
   "execution_count": 4,
   "metadata": {},
   "outputs": [],
   "source": [
    "DSET=DATASET(local_path,source)"
   ]
  },
  {
   "cell_type": "code",
   "execution_count": 5,
   "metadata": {},
   "outputs": [],
   "source": [
    "DSET.install()"
   ]
  },
  {
   "cell_type": "markdown",
   "metadata": {},
   "source": [
    "Here we need to make 2 functions and add them to the DSET class\n",
    "\n",
    "\n",
    "1. a function called *make_flist* that lists the files in the local directory and returns them as *self.flist* \n",
    "\n",
    "2. a function called *get_info_files* that:\n",
    "\n",
    "a. filters the files in self.flist to return only .json and .csv files in self.infolist \n",
    "\n",
    "b. Uses the *self.get* method to download everything in *self.infolist*"
   ]
  },
  {
   "cell_type": "code",
   "execution_count": 33,
   "metadata": {},
   "outputs": [],
   "source": [
    "DSET.get_info_files()"
   ]
  },
  {
   "cell_type": "markdown",
   "metadata": {},
   "source": [
    "Which has an 'install' method."
   ]
  },
  {
   "cell_type": "markdown",
   "metadata": {},
   "source": [
    "This has 'installed the data' at the local_path location. We can see that it has installed a bunch directories that mimic the structure of the Actual data.\n",
    "\n",
    "This isn't populated with real data, however. "
   ]
  },
  {
   "cell_type": "code",
   "execution_count": 5,
   "metadata": {},
   "outputs": [
    {
     "data": {
      "text/plain": [
       "['sub-28817',\n",
       " 'sub-28744',\n",
       " 'sub-28825',\n",
       " 'sub-28798',\n",
       " 'sub-28776',\n",
       " 'sub-28792',\n",
       " 'sub-28804',\n",
       " 'sub-28757',\n",
       " 'sub-28836',\n",
       " 'sub-28841',\n",
       " 'sub-28781',\n",
       " 'sub-28765',\n",
       " 'sub-28786',\n",
       " 'sub-28768',\n",
       " 'dataset_description.json',\n",
       " 'sub-28762',\n",
       " '.git',\n",
       " 'sub-28846',\n",
       " 'sub-28831',\n",
       " 'sub-28750',\n",
       " 'sub-28809',\n",
       " 'sub-28803',\n",
       " 'sub-28771',\n",
       " 'sub-28795',\n",
       " 'sub-28822',\n",
       " 'sub-28828',\n",
       " 'sub-28743',\n",
       " 'sub-28749',\n",
       " 'sub-28810',\n",
       " 'sub-28747',\n",
       " 'sub-28814',\n",
       " '.datalad',\n",
       " 'sub-28791',\n",
       " 'sub-28775',\n",
       " 'sub-28826',\n",
       " 'sub-28754',\n",
       " 'sub-28807',\n",
       " 'sub-28766',\n",
       " 'sub-28788',\n",
       " 'task-rest_bold.json',\n",
       " 'sub-28782',\n",
       " 'sub-28842',\n",
       " 'sub-28835',\n",
       " 'sub-28832',\n",
       " 'sub-28845',\n",
       " 'T1w.json',\n",
       " 'sub-28838',\n",
       " 'sub-28761',\n",
       " 'sub-28785',\n",
       " 'sub-28800',\n",
       " 'participants.tsv',\n",
       " 'sub-28753',\n",
       " 'sub-28759',\n",
       " 'sub-28821',\n",
       " 'sub-28778',\n",
       " 'sub-28796',\n",
       " 'sub-28772',\n",
       " 'sub-28819',\n",
       " 'sub-28813',\n",
       " 'sub-28794',\n",
       " 'sub-28770',\n",
       " 'sub-28829',\n",
       " 'sub-28823',\n",
       " 'sub-28748',\n",
       " 'sub-28742',\n",
       " 'sub-28811',\n",
       " 'sub-28763',\n",
       " 'sub-28787',\n",
       " 'sub-28769',\n",
       " 'sub-28830',\n",
       " 'sub-28847',\n",
       " 'sub-28751',\n",
       " 'sub-28802',\n",
       " 'sub-28808',\n",
       " 'sub-28805',\n",
       " 'sub-28756',\n",
       " 'sub-28840',\n",
       " 'sub-28837',\n",
       " 'sub-28764',\n",
       " 'sub-28780',\n",
       " 'sub-28816',\n",
       " 'sub-28745',\n",
       " 'sub-28824',\n",
       " 'sub-28793',\n",
       " 'sub-28799',\n",
       " 'sub-28777',\n",
       " 'sub-28820',\n",
       " 'sub-28773',\n",
       " 'sub-28779',\n",
       " 'sub-28797',\n",
       " 'sub-28812',\n",
       " 'sub-28818',\n",
       " 'sub-28741',\n",
       " 'sub-28839',\n",
       " 'sub-28844',\n",
       " 'sub-28784',\n",
       " 'sub-28760',\n",
       " 'sub-28801',\n",
       " 'sub-28758',\n",
       " 'sub-28752',\n",
       " '.gitattributes',\n",
       " 'sub-28755',\n",
       " 'sub-28806',\n",
       " 'sub-28783',\n",
       " 'sub-28767',\n",
       " 'sub-28789',\n",
       " 'sub-28834',\n",
       " 'sub-28843',\n",
       " 'sub-28746',\n",
       " 'sub-28815',\n",
       " 'sub-28774',\n",
       " 'sub-28790',\n",
       " 'sub-28827']"
      ]
     },
     "execution_count": 5,
     "metadata": {},
     "output_type": "execute_result"
    }
   ],
   "source": [
    "os.listdir(DSET.local_base)"
   ]
  },
  {
   "cell_type": "markdown",
   "metadata": {},
   "source": [
    "Because the structure of the dataset already exists, we can leverage the BIDS class to get information about it (before we have actually downloaded anything)"
   ]
  },
  {
   "cell_type": "code",
   "execution_count": 7,
   "metadata": {},
   "outputs": [],
   "source": [
    "myBIDS=BIDS(DSET.local_base)"
   ]
  },
  {
   "cell_type": "markdown",
   "metadata": {},
   "source": [
    "Here, we need to make 3 functions and add them to the BIDS class.\n",
    "\n",
    "1. A function called *find_jsons* that finds the json files in self.path and returns them in *self.jsons*\n",
    "2. A function called *load_json* that loads a json and assigns it to an attribute of the BIDS class with the format '*json_nameofjsonfile*' e.g. json_T1w\n",
    "3. A function called *load_all_jsons* that calls *find_jsons* and then calls *load_json* for each of the items in *self.jsons*."
   ]
  },
  {
   "cell_type": "code",
   "execution_count": 9,
   "metadata": {},
   "outputs": [],
   "source": [
    "myBIDS.load_all_jsons()"
   ]
  },
  {
   "cell_type": "code",
   "execution_count": 10,
   "metadata": {},
   "outputs": [
    {
     "data": {
      "text/plain": [
       "{'Name': 'ABIDE2 - ABIDEII-GU_1',\n",
       " 'BIDSVersion': '1.4.2',\n",
       " 'License': 'Creative Commons, Attribution-NonCommercial-Share Alike License',\n",
       " 'ReferencesAndLinks': ['http://fcon_1000.projects.nitrc.org/indi/abide/abide_II.html']}"
      ]
     },
     "execution_count": 10,
     "metadata": {},
     "output_type": "execute_result"
    }
   ],
   "source": [
    "myBIDS.json_dataset_description"
   ]
  },
  {
   "cell_type": "code",
   "execution_count": 63,
   "metadata": {},
   "outputs": [
    {
     "data": {
      "text/plain": [
       "{'AcquisitionDuration': '8:05:00',\n",
       " 'AcquisitionMatrix': '256x256',\n",
       " 'EchoTime': '0.0035',\n",
       " 'FieldofViewDimensions': '256x256',\n",
       " 'FieldofViewShape': 'Rectangle',\n",
       " 'FlipAngle': 7,\n",
       " 'InversionTime': 1.1,\n",
       " 'MagneticFieldStrength': 3.0,\n",
       " 'Manufacturer': 'Siemens',\n",
       " 'ManufacturersModelName': 'TriTim',\n",
       " 'NumberOfSlices': 176,\n",
       " 'ParallelAcquisition': 'Yes',\n",
       " 'ParallelAcquisitionTechnique': 'GRAPPA',\n",
       " 'ParallelReductionFactorIn-plane': 2.0,\n",
       " 'PhaseEncodingDirection': 'j-',\n",
       " 'PixelBandwidth': 190.0,\n",
       " 'PixelSpacing': '1x1',\n",
       " 'PlaneOrientationSequence': 'Sagittal',\n",
       " 'ReceiveCoilName': '12 Chan',\n",
       " 'ReceiveCoilType': 'Head',\n",
       " 'RepetitionTime': '2.53',\n",
       " 'ScanningSequence': 'MPRAGE',\n",
       " 'SliceAcquisitionOrder': 'Interleaved Ascending',\n",
       " 'SliceEncodingDirection': 'i',\n",
       " 'SliceThickness': 1.0,\n",
       " 'SpacingBetweenSlices': 1.5}"
      ]
     },
     "execution_count": 63,
     "metadata": {},
     "output_type": "execute_result"
    }
   ],
   "source": [
    "myBIDS.json_T1w"
   ]
  },
  {
   "cell_type": "code",
   "execution_count": 64,
   "metadata": {},
   "outputs": [
    {
     "name": "stdout",
     "output_type": "stream",
     "text": [
      "Found 106 participant(s) ['28741', '28742', '28743', '28744', '28745', '28746', '28747', '28748', '28749', '28750', '28751', '28752', '28753', '28754', '28755', '28756', '28757', '28758', '28759', '28760', '28761', '28762', '28763', '28764', '28765', '28766', '28767', '28768', '28769', '28770', '28771', '28772', '28773', '28774', '28775', '28776', '28777', '28778', '28779', '28780', '28781', '28782', '28783', '28784', '28785', '28786', '28787', '28788', '28789', '28790', '28791', '28792', '28793', '28794', '28795', '28796', '28797', '28798', '28799', '28800', '28801', '28802', '28803', '28804', '28805', '28806', '28807', '28808', '28809', '28810', '28811', '28812', '28813', '28814', '28815', '28816', '28817', '28818', '28819', '28820', '28821', '28822', '28823', '28824', '28825', '28826', '28827', '28828', '28829', '28830', '28831', '28832', '28834', '28835', '28836', '28837', '28838', '28839', '28840', '28841', '28842', '28843', '28844', '28845', '28846', '28847']\n",
      "[\"Found 1 session(s) for sub-28741 ['1']\", \"Found 1 session(s) for sub-28742 ['1']\", \"Found 1 session(s) for sub-28743 ['1']\", \"Found 1 session(s) for sub-28744 ['1']\", \"Found 1 session(s) for sub-28745 ['1']\", \"Found 1 session(s) for sub-28746 ['1']\", \"Found 1 session(s) for sub-28747 ['1']\", \"Found 1 session(s) for sub-28748 ['1']\", \"Found 1 session(s) for sub-28749 ['1']\", \"Found 1 session(s) for sub-28750 ['1']\", \"Found 1 session(s) for sub-28751 ['1']\", \"Found 1 session(s) for sub-28752 ['1']\", \"Found 1 session(s) for sub-28753 ['1']\", \"Found 1 session(s) for sub-28754 ['1']\", \"Found 1 session(s) for sub-28755 ['1']\", \"Found 1 session(s) for sub-28756 ['1']\", \"Found 1 session(s) for sub-28757 ['1']\", \"Found 1 session(s) for sub-28758 ['1']\", \"Found 1 session(s) for sub-28759 ['1']\", \"Found 1 session(s) for sub-28760 ['1']\", \"Found 1 session(s) for sub-28761 ['1']\", \"Found 1 session(s) for sub-28762 ['1']\", \"Found 1 session(s) for sub-28763 ['1']\", \"Found 1 session(s) for sub-28764 ['1']\", \"Found 1 session(s) for sub-28765 ['1']\", \"Found 1 session(s) for sub-28766 ['1']\", \"Found 1 session(s) for sub-28767 ['1']\", \"Found 1 session(s) for sub-28768 ['1']\", \"Found 1 session(s) for sub-28769 ['1']\", \"Found 1 session(s) for sub-28770 ['1']\", \"Found 1 session(s) for sub-28771 ['1']\", \"Found 1 session(s) for sub-28772 ['1']\", \"Found 1 session(s) for sub-28773 ['1']\", \"Found 1 session(s) for sub-28774 ['1']\", \"Found 1 session(s) for sub-28775 ['1']\", \"Found 1 session(s) for sub-28776 ['1']\", \"Found 1 session(s) for sub-28777 ['1']\", \"Found 1 session(s) for sub-28778 ['1']\", \"Found 1 session(s) for sub-28779 ['1']\", \"Found 1 session(s) for sub-28780 ['1']\", \"Found 1 session(s) for sub-28781 ['1']\", \"Found 1 session(s) for sub-28782 ['1']\", \"Found 1 session(s) for sub-28783 ['1']\", \"Found 1 session(s) for sub-28784 ['1']\", \"Found 1 session(s) for sub-28785 ['1']\", \"Found 1 session(s) for sub-28786 ['1']\", \"Found 1 session(s) for sub-28787 ['1']\", \"Found 1 session(s) for sub-28788 ['1']\", \"Found 1 session(s) for sub-28789 ['1']\", \"Found 1 session(s) for sub-28790 ['1']\", \"Found 1 session(s) for sub-28791 ['1']\", \"Found 1 session(s) for sub-28792 ['1']\", \"Found 1 session(s) for sub-28793 ['1']\", \"Found 1 session(s) for sub-28794 ['1']\", \"Found 1 session(s) for sub-28795 ['1']\", \"Found 1 session(s) for sub-28796 ['1']\", \"Found 1 session(s) for sub-28797 ['1']\", \"Found 1 session(s) for sub-28798 ['1']\", \"Found 1 session(s) for sub-28799 ['1']\", \"Found 1 session(s) for sub-28800 ['1']\", \"Found 1 session(s) for sub-28801 ['1']\", \"Found 1 session(s) for sub-28802 ['1']\", \"Found 1 session(s) for sub-28803 ['1']\", \"Found 1 session(s) for sub-28804 ['1']\", \"Found 1 session(s) for sub-28805 ['1']\", \"Found 1 session(s) for sub-28806 ['1']\", \"Found 1 session(s) for sub-28807 ['1']\", \"Found 1 session(s) for sub-28808 ['1']\", \"Found 1 session(s) for sub-28809 ['1']\", \"Found 1 session(s) for sub-28810 ['1']\", \"Found 1 session(s) for sub-28811 ['1']\", \"Found 1 session(s) for sub-28812 ['1']\", \"Found 1 session(s) for sub-28813 ['1']\", \"Found 1 session(s) for sub-28814 ['1']\", \"Found 1 session(s) for sub-28815 ['1']\", \"Found 1 session(s) for sub-28816 ['1']\", \"Found 1 session(s) for sub-28817 ['1']\", \"Found 1 session(s) for sub-28818 ['1']\", \"Found 1 session(s) for sub-28819 ['1']\", \"Found 1 session(s) for sub-28820 ['1']\", \"Found 1 session(s) for sub-28821 ['1']\", \"Found 1 session(s) for sub-28822 ['1']\", \"Found 1 session(s) for sub-28823 ['1']\", \"Found 1 session(s) for sub-28824 ['1']\", \"Found 1 session(s) for sub-28825 ['1']\", \"Found 1 session(s) for sub-28826 ['1']\", \"Found 1 session(s) for sub-28827 ['1']\", \"Found 1 session(s) for sub-28828 ['1']\", \"Found 1 session(s) for sub-28829 ['1']\", \"Found 1 session(s) for sub-28830 ['1']\", \"Found 1 session(s) for sub-28831 ['1']\", \"Found 1 session(s) for sub-28832 ['1']\", \"Found 1 session(s) for sub-28834 ['1']\", \"Found 1 session(s) for sub-28835 ['1']\", \"Found 1 session(s) for sub-28836 ['1']\", \"Found 1 session(s) for sub-28837 ['1']\", \"Found 1 session(s) for sub-28838 ['1']\", \"Found 1 session(s) for sub-28839 ['1']\", \"Found 1 session(s) for sub-28840 ['1']\", \"Found 1 session(s) for sub-28841 ['1']\", \"Found 1 session(s) for sub-28842 ['1']\", \"Found 1 session(s) for sub-28843 ['1']\", \"Found 1 session(s) for sub-28844 ['1']\", \"Found 1 session(s) for sub-28845 ['1']\", \"Found 1 session(s) for sub-28846 ['1']\", \"Found 1 session(s) for sub-28847 ['1']\"]\n",
      "['Found 0 task(s) for sub-28741 and ses-1 []', \"Found 1 task(s) for sub-28742 and ses-1 ['rest']\", \"Found 1 task(s) for sub-28743 and ses-1 ['rest']\", \"Found 1 task(s) for sub-28744 and ses-1 ['rest']\", 'Found 0 task(s) for sub-28745 and ses-1 []', \"Found 1 task(s) for sub-28746 and ses-1 ['rest']\", \"Found 1 task(s) for sub-28747 and ses-1 ['rest']\", \"Found 1 task(s) for sub-28748 and ses-1 ['rest']\", \"Found 1 task(s) for sub-28749 and ses-1 ['rest']\", \"Found 1 task(s) for sub-28750 and ses-1 ['rest']\", 'Found 0 task(s) for sub-28751 and ses-1 []', \"Found 1 task(s) for sub-28752 and ses-1 ['rest']\", \"Found 1 task(s) for sub-28753 and ses-1 ['rest']\", \"Found 1 task(s) for sub-28754 and ses-1 ['rest']\", 'Found 0 task(s) for sub-28755 and ses-1 []', 'Found 0 task(s) for sub-28756 and ses-1 []', 'Found 0 task(s) for sub-28757 and ses-1 []', 'Found 0 task(s) for sub-28758 and ses-1 []', 'Found 0 task(s) for sub-28759 and ses-1 []', \"Found 1 task(s) for sub-28760 and ses-1 ['rest']\", 'Found 0 task(s) for sub-28761 and ses-1 []', 'Found 0 task(s) for sub-28762 and ses-1 []', 'Found 0 task(s) for sub-28763 and ses-1 []', 'Found 0 task(s) for sub-28764 and ses-1 []', 'Found 0 task(s) for sub-28765 and ses-1 []', 'Found 0 task(s) for sub-28766 and ses-1 []', 'Found 0 task(s) for sub-28767 and ses-1 []', 'Found 0 task(s) for sub-28768 and ses-1 []', 'Found 0 task(s) for sub-28769 and ses-1 []', 'Found 0 task(s) for sub-28770 and ses-1 []', 'Found 0 task(s) for sub-28771 and ses-1 []', 'Found 0 task(s) for sub-28772 and ses-1 []', 'Found 0 task(s) for sub-28773 and ses-1 []', 'Found 0 task(s) for sub-28774 and ses-1 []', 'Found 0 task(s) for sub-28775 and ses-1 []', 'Found 0 task(s) for sub-28776 and ses-1 []', 'Found 0 task(s) for sub-28777 and ses-1 []', 'Found 0 task(s) for sub-28778 and ses-1 []', 'Found 0 task(s) for sub-28779 and ses-1 []', 'Found 0 task(s) for sub-28780 and ses-1 []', 'Found 0 task(s) for sub-28781 and ses-1 []', 'Found 0 task(s) for sub-28782 and ses-1 []', 'Found 0 task(s) for sub-28783 and ses-1 []', \"Found 1 task(s) for sub-28784 and ses-1 ['rest']\", \"Found 1 task(s) for sub-28785 and ses-1 ['rest']\", \"Found 1 task(s) for sub-28786 and ses-1 ['rest']\", \"Found 1 task(s) for sub-28787 and ses-1 ['rest']\", \"Found 1 task(s) for sub-28788 and ses-1 ['rest']\", \"Found 1 task(s) for sub-28789 and ses-1 ['rest']\", \"Found 1 task(s) for sub-28790 and ses-1 ['rest']\", \"Found 1 task(s) for sub-28791 and ses-1 ['rest']\", \"Found 1 task(s) for sub-28792 and ses-1 ['rest']\", \"Found 1 task(s) for sub-28793 and ses-1 ['rest']\", \"Found 1 task(s) for sub-28794 and ses-1 ['rest']\", \"Found 1 task(s) for sub-28795 and ses-1 ['rest']\", \"Found 1 task(s) for sub-28796 and ses-1 ['rest']\", \"Found 1 task(s) for sub-28797 and ses-1 ['rest']\", \"Found 1 task(s) for sub-28798 and ses-1 ['rest']\", \"Found 1 task(s) for sub-28799 and ses-1 ['rest']\", \"Found 1 task(s) for sub-28800 and ses-1 ['rest']\", \"Found 1 task(s) for sub-28801 and ses-1 ['rest']\", \"Found 1 task(s) for sub-28802 and ses-1 ['rest']\", \"Found 1 task(s) for sub-28803 and ses-1 ['rest']\", \"Found 1 task(s) for sub-28804 and ses-1 ['rest']\", \"Found 1 task(s) for sub-28805 and ses-1 ['rest']\", \"Found 1 task(s) for sub-28806 and ses-1 ['rest']\", \"Found 1 task(s) for sub-28807 and ses-1 ['rest']\", \"Found 1 task(s) for sub-28808 and ses-1 ['rest']\", \"Found 1 task(s) for sub-28809 and ses-1 ['rest']\", \"Found 1 task(s) for sub-28810 and ses-1 ['rest']\", \"Found 1 task(s) for sub-28811 and ses-1 ['rest']\", \"Found 1 task(s) for sub-28812 and ses-1 ['rest']\", \"Found 1 task(s) for sub-28813 and ses-1 ['rest']\", \"Found 1 task(s) for sub-28814 and ses-1 ['rest']\", \"Found 1 task(s) for sub-28815 and ses-1 ['rest']\", \"Found 1 task(s) for sub-28816 and ses-1 ['rest']\", \"Found 1 task(s) for sub-28817 and ses-1 ['rest']\", \"Found 1 task(s) for sub-28818 and ses-1 ['rest']\", \"Found 1 task(s) for sub-28819 and ses-1 ['rest']\", \"Found 1 task(s) for sub-28820 and ses-1 ['rest']\", \"Found 1 task(s) for sub-28821 and ses-1 ['rest']\", \"Found 1 task(s) for sub-28822 and ses-1 ['rest']\", \"Found 1 task(s) for sub-28823 and ses-1 ['rest']\", \"Found 1 task(s) for sub-28824 and ses-1 ['rest']\", \"Found 1 task(s) for sub-28825 and ses-1 ['rest']\", \"Found 1 task(s) for sub-28826 and ses-1 ['rest']\", \"Found 1 task(s) for sub-28827 and ses-1 ['rest']\", \"Found 1 task(s) for sub-28828 and ses-1 ['rest']\", \"Found 1 task(s) for sub-28829 and ses-1 ['rest']\", \"Found 1 task(s) for sub-28830 and ses-1 ['rest']\", \"Found 1 task(s) for sub-28831 and ses-1 ['rest']\", \"Found 1 task(s) for sub-28832 and ses-1 ['rest']\", \"Found 1 task(s) for sub-28834 and ses-1 ['rest']\", \"Found 1 task(s) for sub-28835 and ses-1 ['rest']\", \"Found 1 task(s) for sub-28836 and ses-1 ['rest']\", \"Found 1 task(s) for sub-28837 and ses-1 ['rest']\", \"Found 1 task(s) for sub-28838 and ses-1 ['rest']\", \"Found 1 task(s) for sub-28839 and ses-1 ['rest']\", \"Found 1 task(s) for sub-28840 and ses-1 ['rest']\", \"Found 1 task(s) for sub-28841 and ses-1 ['rest']\", \"Found 1 task(s) for sub-28842 and ses-1 ['rest']\", \"Found 1 task(s) for sub-28843 and ses-1 ['rest']\", \"Found 1 task(s) for sub-28844 and ses-1 ['rest']\", \"Found 1 task(s) for sub-28845 and ses-1 ['rest']\", \"Found 1 task(s) for sub-28846 and ses-1 ['rest']\", \"Found 1 task(s) for sub-28847 and ses-1 ['rest']\"]\n"
     ]
    }
   ],
   "source": [
    "myBIDS.elaborate()"
   ]
  },
  {
   "cell_type": "code",
   "execution_count": 40,
   "metadata": {},
   "outputs": [
    {
     "data": {
      "text/plain": [
       "['/storage/research/cinn_comp/nicktest2/sub-28741/ses-1/anat/sub-28741_ses-1_run-1_T1w.nii.gz']"
      ]
     },
     "execution_count": 40,
     "metadata": {},
     "output_type": "execute_result"
    }
   ],
   "source": [
    "myBIDS.find_anats(sub='28741',ses='1')"
   ]
  },
  {
   "cell_type": "code",
   "execution_count": 43,
   "metadata": {},
   "outputs": [
    {
     "name": "stdout",
     "output_type": "stream",
     "text": [
      "/storage/research/cinn_comp/nicktest2/sub-28829/ses-1/func\n"
     ]
    },
    {
     "data": {
      "text/plain": [
       "['/storage/research/cinn_comp/nicktest2/sub-28829/ses-1/func/sub-28829_ses-1_task-rest_run-1_bold.nii.gz']"
      ]
     },
     "execution_count": 43,
     "metadata": {},
     "output_type": "execute_result"
    }
   ],
   "source": [
    "myBIDS.find_funcs(sub='28829',task='rest',ses='1')"
   ]
  },
  {
   "cell_type": "markdown",
   "metadata": {},
   "source": [
    "If we want to actually download some data, we can do this with the subject class. "
   ]
  },
  {
   "cell_type": "code",
   "execution_count": 44,
   "metadata": {},
   "outputs": [],
   "source": [
    "from cnbpy.datalad import SUBJECT"
   ]
  },
  {
   "cell_type": "code",
   "execution_count": 45,
   "metadata": {},
   "outputs": [],
   "source": [
    "mysubject=SUBJECT(DSET,'28846')"
   ]
  },
  {
   "cell_type": "markdown",
   "metadata": {},
   "source": [
    "This subject's data is now downloaded.  "
   ]
  },
  {
   "cell_type": "code",
   "execution_count": 46,
   "metadata": {},
   "outputs": [],
   "source": [
    "mysubject.get()"
   ]
  },
  {
   "cell_type": "markdown",
   "metadata": {},
   "source": [
    "We can remove as follows. "
   ]
  },
  {
   "cell_type": "code",
   "execution_count": 26,
   "metadata": {},
   "outputs": [],
   "source": [
    "mysubject.drop()"
   ]
  },
  {
   "cell_type": "markdown",
   "metadata": {},
   "source": [
    "And also re-add them just as easily."
   ]
  },
  {
   "cell_type": "code",
   "execution_count": 27,
   "metadata": {},
   "outputs": [],
   "source": [
    "mysubject.get()"
   ]
  },
  {
   "cell_type": "markdown",
   "metadata": {},
   "source": [
    "We can remove the entire dataset as follows."
   ]
  },
  {
   "cell_type": "code",
   "execution_count": 49,
   "metadata": {},
   "outputs": [],
   "source": [
    "DSET.remove()"
   ]
  },
  {
   "cell_type": "markdown",
   "metadata": {},
   "source": [
    "I also created an ABIDE superclass. This inherits all the properties of a DATSET class - but has additional properties.\n",
    "\n",
    "By doing things this way - we can write a base class for a DATASET and classes for specific datasets can be made just by adding the required additional methods. "
   ]
  },
  {
   "cell_type": "code",
   "execution_count": 50,
   "metadata": {},
   "outputs": [],
   "source": [
    "ABIDE=ABIDE_DATASET(local_path,source)"
   ]
  },
  {
   "cell_type": "markdown",
   "metadata": {},
   "source": [
    "For instance, it has the anatomical quality data"
   ]
  },
  {
   "cell_type": "code",
   "execution_count": 51,
   "metadata": {},
   "outputs": [
    {
     "data": {
      "text/html": [
       "<div>\n",
       "<style scoped>\n",
       "    .dataframe tbody tr th:only-of-type {\n",
       "        vertical-align: middle;\n",
       "    }\n",
       "\n",
       "    .dataframe tbody tr th {\n",
       "        vertical-align: top;\n",
       "    }\n",
       "\n",
       "    .dataframe thead th {\n",
       "        text-align: right;\n",
       "    }\n",
       "</style>\n",
       "<table border=\"1\" class=\"dataframe\">\n",
       "  <thead>\n",
       "    <tr style=\"text-align: right;\">\n",
       "      <th></th>\n",
       "      <th>Site_ID</th>\n",
       "      <th>Sub_ID</th>\n",
       "      <th>Session</th>\n",
       "      <th>Series</th>\n",
       "      <th>Unique_ID</th>\n",
       "      <th>CNR</th>\n",
       "      <th>SNR</th>\n",
       "      <th>Qi1</th>\n",
       "      <th>EFC</th>\n",
       "      <th>Smoothness_of_Voxels</th>\n",
       "      <th>FBER</th>\n",
       "      <th>Cortical Contrast</th>\n",
       "    </tr>\n",
       "  </thead>\n",
       "  <tbody>\n",
       "    <tr>\n",
       "      <th>0</th>\n",
       "      <td>ABIDEII-BNI_1</td>\n",
       "      <td>29006</td>\n",
       "      <td>session_1</td>\n",
       "      <td>anat_1</td>\n",
       "      <td>ABIDEII-BNI_1_29006_session_1_anat_1</td>\n",
       "      <td>3.739700</td>\n",
       "      <td>8.044581</td>\n",
       "      <td>0.029466</td>\n",
       "      <td>0.374966</td>\n",
       "      <td>4.444132</td>\n",
       "      <td>1623.309074</td>\n",
       "      <td>0.346157</td>\n",
       "    </tr>\n",
       "    <tr>\n",
       "      <th>1</th>\n",
       "      <td>ABIDEII-BNI_1</td>\n",
       "      <td>29007</td>\n",
       "      <td>session_1</td>\n",
       "      <td>anat_1</td>\n",
       "      <td>ABIDEII-BNI_1_29007_session_1_anat_1</td>\n",
       "      <td>3.909783</td>\n",
       "      <td>8.098633</td>\n",
       "      <td>0.027127</td>\n",
       "      <td>0.383418</td>\n",
       "      <td>4.723703</td>\n",
       "      <td>1687.366231</td>\n",
       "      <td>0.345985</td>\n",
       "    </tr>\n",
       "    <tr>\n",
       "      <th>2</th>\n",
       "      <td>ABIDEII-BNI_1</td>\n",
       "      <td>29008</td>\n",
       "      <td>session_1</td>\n",
       "      <td>anat_1</td>\n",
       "      <td>ABIDEII-BNI_1_29008_session_1_anat_1</td>\n",
       "      <td>3.539676</td>\n",
       "      <td>8.064538</td>\n",
       "      <td>0.027055</td>\n",
       "      <td>0.355422</td>\n",
       "      <td>4.387167</td>\n",
       "      <td>1568.398781</td>\n",
       "      <td>0.323096</td>\n",
       "    </tr>\n",
       "    <tr>\n",
       "      <th>3</th>\n",
       "      <td>ABIDEII-BNI_1</td>\n",
       "      <td>29009</td>\n",
       "      <td>session_1</td>\n",
       "      <td>anat_1</td>\n",
       "      <td>ABIDEII-BNI_1_29009_session_1_anat_1</td>\n",
       "      <td>4.340816</td>\n",
       "      <td>9.175651</td>\n",
       "      <td>0.022776</td>\n",
       "      <td>0.370577</td>\n",
       "      <td>4.325262</td>\n",
       "      <td>2212.091689</td>\n",
       "      <td>0.349804</td>\n",
       "    </tr>\n",
       "    <tr>\n",
       "      <th>4</th>\n",
       "      <td>ABIDEII-BNI_1</td>\n",
       "      <td>29010</td>\n",
       "      <td>session_1</td>\n",
       "      <td>anat_1</td>\n",
       "      <td>ABIDEII-BNI_1_29010_session_1_anat_1</td>\n",
       "      <td>4.287266</td>\n",
       "      <td>8.598315</td>\n",
       "      <td>0.041394</td>\n",
       "      <td>0.361352</td>\n",
       "      <td>4.494184</td>\n",
       "      <td>1389.710795</td>\n",
       "      <td>0.341943</td>\n",
       "    </tr>\n",
       "    <tr>\n",
       "      <th>...</th>\n",
       "      <td>...</td>\n",
       "      <td>...</td>\n",
       "      <td>...</td>\n",
       "      <td>...</td>\n",
       "      <td>...</td>\n",
       "      <td>...</td>\n",
       "      <td>...</td>\n",
       "      <td>...</td>\n",
       "      <td>...</td>\n",
       "      <td>...</td>\n",
       "      <td>...</td>\n",
       "      <td>...</td>\n",
       "    </tr>\n",
       "    <tr>\n",
       "      <th>1354</th>\n",
       "      <td>ABIDEII-UPSM_Long</td>\n",
       "      <td>50049</td>\n",
       "      <td>followup_1</td>\n",
       "      <td>anat_1</td>\n",
       "      <td>ABIDEII-UPSM_Long_50049_followup_1_anat_1</td>\n",
       "      <td>10.183135</td>\n",
       "      <td>19.976284</td>\n",
       "      <td>0.129605</td>\n",
       "      <td>0.414894</td>\n",
       "      <td>3.836040</td>\n",
       "      <td>429.727628</td>\n",
       "      <td>0.308980</td>\n",
       "    </tr>\n",
       "    <tr>\n",
       "      <th>1355</th>\n",
       "      <td>ABIDEII-UPSM_Long</td>\n",
       "      <td>50050</td>\n",
       "      <td>baseline</td>\n",
       "      <td>anat_1</td>\n",
       "      <td>ABIDEII-UPSM_Long_50050_baseline_anat_1</td>\n",
       "      <td>10.646528</td>\n",
       "      <td>18.945145</td>\n",
       "      <td>0.176975</td>\n",
       "      <td>0.476138</td>\n",
       "      <td>4.002291</td>\n",
       "      <td>283.147942</td>\n",
       "      <td>0.337274</td>\n",
       "    </tr>\n",
       "    <tr>\n",
       "      <th>1356</th>\n",
       "      <td>ABIDEII-UPSM_Long</td>\n",
       "      <td>50050</td>\n",
       "      <td>followup_1</td>\n",
       "      <td>anat_1</td>\n",
       "      <td>ABIDEII-UPSM_Long_50050_followup_1_anat_1</td>\n",
       "      <td>10.646528</td>\n",
       "      <td>18.945145</td>\n",
       "      <td>0.176975</td>\n",
       "      <td>0.476138</td>\n",
       "      <td>4.002291</td>\n",
       "      <td>283.147942</td>\n",
       "      <td>0.337274</td>\n",
       "    </tr>\n",
       "    <tr>\n",
       "      <th>1357</th>\n",
       "      <td>ABIDEII-UPSM_Long</td>\n",
       "      <td>50051</td>\n",
       "      <td>baseline</td>\n",
       "      <td>anat_1</td>\n",
       "      <td>ABIDEII-UPSM_Long_50051_baseline_anat_1</td>\n",
       "      <td>11.778542</td>\n",
       "      <td>20.563501</td>\n",
       "      <td>0.145473</td>\n",
       "      <td>0.458912</td>\n",
       "      <td>3.840600</td>\n",
       "      <td>352.891421</td>\n",
       "      <td>0.359032</td>\n",
       "    </tr>\n",
       "    <tr>\n",
       "      <th>1358</th>\n",
       "      <td>ABIDEII-UPSM_Long</td>\n",
       "      <td>50051</td>\n",
       "      <td>followup_1</td>\n",
       "      <td>anat_1</td>\n",
       "      <td>ABIDEII-UPSM_Long_50051_followup_1_anat_1</td>\n",
       "      <td>11.778542</td>\n",
       "      <td>20.563501</td>\n",
       "      <td>0.145473</td>\n",
       "      <td>0.458912</td>\n",
       "      <td>3.840600</td>\n",
       "      <td>352.891421</td>\n",
       "      <td>0.359032</td>\n",
       "    </tr>\n",
       "  </tbody>\n",
       "</table>\n",
       "<p>1359 rows × 12 columns</p>\n",
       "</div>"
      ],
      "text/plain": [
       "                Site_ID  Sub_ID     Session  Series  \\\n",
       "0         ABIDEII-BNI_1   29006   session_1  anat_1   \n",
       "1         ABIDEII-BNI_1   29007   session_1  anat_1   \n",
       "2         ABIDEII-BNI_1   29008   session_1  anat_1   \n",
       "3         ABIDEII-BNI_1   29009   session_1  anat_1   \n",
       "4         ABIDEII-BNI_1   29010   session_1  anat_1   \n",
       "...                 ...     ...         ...     ...   \n",
       "1354  ABIDEII-UPSM_Long   50049  followup_1  anat_1   \n",
       "1355  ABIDEII-UPSM_Long   50050    baseline  anat_1   \n",
       "1356  ABIDEII-UPSM_Long   50050  followup_1  anat_1   \n",
       "1357  ABIDEII-UPSM_Long   50051    baseline  anat_1   \n",
       "1358  ABIDEII-UPSM_Long   50051  followup_1  anat_1   \n",
       "\n",
       "                                      Unique_ID        CNR        SNR  \\\n",
       "0          ABIDEII-BNI_1_29006_session_1_anat_1   3.739700   8.044581   \n",
       "1          ABIDEII-BNI_1_29007_session_1_anat_1   3.909783   8.098633   \n",
       "2          ABIDEII-BNI_1_29008_session_1_anat_1   3.539676   8.064538   \n",
       "3          ABIDEII-BNI_1_29009_session_1_anat_1   4.340816   9.175651   \n",
       "4          ABIDEII-BNI_1_29010_session_1_anat_1   4.287266   8.598315   \n",
       "...                                         ...        ...        ...   \n",
       "1354  ABIDEII-UPSM_Long_50049_followup_1_anat_1  10.183135  19.976284   \n",
       "1355    ABIDEII-UPSM_Long_50050_baseline_anat_1  10.646528  18.945145   \n",
       "1356  ABIDEII-UPSM_Long_50050_followup_1_anat_1  10.646528  18.945145   \n",
       "1357    ABIDEII-UPSM_Long_50051_baseline_anat_1  11.778542  20.563501   \n",
       "1358  ABIDEII-UPSM_Long_50051_followup_1_anat_1  11.778542  20.563501   \n",
       "\n",
       "           Qi1       EFC  Smoothness_of_Voxels         FBER  Cortical Contrast  \n",
       "0     0.029466  0.374966              4.444132  1623.309074           0.346157  \n",
       "1     0.027127  0.383418              4.723703  1687.366231           0.345985  \n",
       "2     0.027055  0.355422              4.387167  1568.398781           0.323096  \n",
       "3     0.022776  0.370577              4.325262  2212.091689           0.349804  \n",
       "4     0.041394  0.361352              4.494184  1389.710795           0.341943  \n",
       "...        ...       ...                   ...          ...                ...  \n",
       "1354  0.129605  0.414894              3.836040   429.727628           0.308980  \n",
       "1355  0.176975  0.476138              4.002291   283.147942           0.337274  \n",
       "1356  0.176975  0.476138              4.002291   283.147942           0.337274  \n",
       "1357  0.145473  0.458912              3.840600   352.891421           0.359032  \n",
       "1358  0.145473  0.458912              3.840600   352.891421           0.359032  \n",
       "\n",
       "[1359 rows x 12 columns]"
      ]
     },
     "execution_count": 51,
     "metadata": {},
     "output_type": "execute_result"
    }
   ],
   "source": [
    "ABIDE.anat_q"
   ]
  },
  {
   "cell_type": "markdown",
   "metadata": {},
   "source": [
    "And also the demographic data"
   ]
  },
  {
   "cell_type": "code",
   "execution_count": 52,
   "metadata": {},
   "outputs": [
    {
     "data": {
      "text/html": [
       "<div>\n",
       "<style scoped>\n",
       "    .dataframe tbody tr th:only-of-type {\n",
       "        vertical-align: middle;\n",
       "    }\n",
       "\n",
       "    .dataframe tbody tr th {\n",
       "        vertical-align: top;\n",
       "    }\n",
       "\n",
       "    .dataframe thead th {\n",
       "        text-align: right;\n",
       "    }\n",
       "</style>\n",
       "<table border=\"1\" class=\"dataframe\">\n",
       "  <thead>\n",
       "    <tr style=\"text-align: right;\">\n",
       "      <th></th>\n",
       "      <th>SITE_ID</th>\n",
       "      <th>SUB_ID</th>\n",
       "      <th>NDAR_GUID</th>\n",
       "      <th>DX_GROUP</th>\n",
       "      <th>PDD_DSM_IV_TR</th>\n",
       "      <th>ASD_DSM_5</th>\n",
       "      <th>AGE_AT_SCAN</th>\n",
       "      <th>SEX</th>\n",
       "      <th>HANDEDNESS_CATEGORY</th>\n",
       "      <th>HANDEDNESS_SCORES</th>\n",
       "      <th>...</th>\n",
       "      <th>ADI_R_C3_TOTAL</th>\n",
       "      <th>ADI_R_C4_REPETITIVE_USE_OBJECTS</th>\n",
       "      <th>ADI_R_C4_HIGHER</th>\n",
       "      <th>ADI_R_C4_UNUSUAL_SENSORY_INTERESTS</th>\n",
       "      <th>ADI_R_C4_TOTAL</th>\n",
       "      <th>ADI_R_D_AGE_PARENT_NOTICED</th>\n",
       "      <th>ADI_R_D_AGE_FIRST_SINGLE_WORDS</th>\n",
       "      <th>ADI_R_D_AGE_FIRST_PHRASES</th>\n",
       "      <th>ADI_R_D_AGE_WHEN_ABNORMALITY</th>\n",
       "      <th>ADI_R_D_INTERVIEWER_JUDGMENT</th>\n",
       "    </tr>\n",
       "  </thead>\n",
       "  <tbody>\n",
       "    <tr>\n",
       "      <th>0</th>\n",
       "      <td>ABIDEII-BNI_1</td>\n",
       "      <td>29006</td>\n",
       "      <td>NaN</td>\n",
       "      <td>1</td>\n",
       "      <td>NaN</td>\n",
       "      <td>NaN</td>\n",
       "      <td>48.0000</td>\n",
       "      <td>1</td>\n",
       "      <td>1.0</td>\n",
       "      <td>NaN</td>\n",
       "      <td>...</td>\n",
       "      <td>NaN</td>\n",
       "      <td>NaN</td>\n",
       "      <td>NaN</td>\n",
       "      <td>NaN</td>\n",
       "      <td>NaN</td>\n",
       "      <td>NaN</td>\n",
       "      <td>NaN</td>\n",
       "      <td>NaN</td>\n",
       "      <td>NaN</td>\n",
       "      <td>NaN</td>\n",
       "    </tr>\n",
       "    <tr>\n",
       "      <th>1</th>\n",
       "      <td>ABIDEII-BNI_1</td>\n",
       "      <td>29007</td>\n",
       "      <td>NaN</td>\n",
       "      <td>1</td>\n",
       "      <td>NaN</td>\n",
       "      <td>NaN</td>\n",
       "      <td>41.0000</td>\n",
       "      <td>1</td>\n",
       "      <td>1.0</td>\n",
       "      <td>NaN</td>\n",
       "      <td>...</td>\n",
       "      <td>NaN</td>\n",
       "      <td>NaN</td>\n",
       "      <td>NaN</td>\n",
       "      <td>NaN</td>\n",
       "      <td>NaN</td>\n",
       "      <td>NaN</td>\n",
       "      <td>NaN</td>\n",
       "      <td>NaN</td>\n",
       "      <td>NaN</td>\n",
       "      <td>NaN</td>\n",
       "    </tr>\n",
       "    <tr>\n",
       "      <th>2</th>\n",
       "      <td>ABIDEII-BNI_1</td>\n",
       "      <td>29008</td>\n",
       "      <td>NaN</td>\n",
       "      <td>1</td>\n",
       "      <td>NaN</td>\n",
       "      <td>NaN</td>\n",
       "      <td>59.0000</td>\n",
       "      <td>1</td>\n",
       "      <td>1.0</td>\n",
       "      <td>NaN</td>\n",
       "      <td>...</td>\n",
       "      <td>NaN</td>\n",
       "      <td>NaN</td>\n",
       "      <td>NaN</td>\n",
       "      <td>NaN</td>\n",
       "      <td>NaN</td>\n",
       "      <td>NaN</td>\n",
       "      <td>NaN</td>\n",
       "      <td>NaN</td>\n",
       "      <td>NaN</td>\n",
       "      <td>NaN</td>\n",
       "    </tr>\n",
       "    <tr>\n",
       "      <th>3</th>\n",
       "      <td>ABIDEII-BNI_1</td>\n",
       "      <td>29009</td>\n",
       "      <td>NaN</td>\n",
       "      <td>1</td>\n",
       "      <td>NaN</td>\n",
       "      <td>NaN</td>\n",
       "      <td>57.0000</td>\n",
       "      <td>1</td>\n",
       "      <td>1.0</td>\n",
       "      <td>NaN</td>\n",
       "      <td>...</td>\n",
       "      <td>NaN</td>\n",
       "      <td>NaN</td>\n",
       "      <td>NaN</td>\n",
       "      <td>NaN</td>\n",
       "      <td>NaN</td>\n",
       "      <td>NaN</td>\n",
       "      <td>NaN</td>\n",
       "      <td>NaN</td>\n",
       "      <td>NaN</td>\n",
       "      <td>NaN</td>\n",
       "    </tr>\n",
       "    <tr>\n",
       "      <th>4</th>\n",
       "      <td>ABIDEII-BNI_1</td>\n",
       "      <td>29010</td>\n",
       "      <td>NaN</td>\n",
       "      <td>1</td>\n",
       "      <td>NaN</td>\n",
       "      <td>NaN</td>\n",
       "      <td>45.0000</td>\n",
       "      <td>1</td>\n",
       "      <td>1.0</td>\n",
       "      <td>NaN</td>\n",
       "      <td>...</td>\n",
       "      <td>NaN</td>\n",
       "      <td>NaN</td>\n",
       "      <td>NaN</td>\n",
       "      <td>NaN</td>\n",
       "      <td>NaN</td>\n",
       "      <td>NaN</td>\n",
       "      <td>NaN</td>\n",
       "      <td>NaN</td>\n",
       "      <td>NaN</td>\n",
       "      <td>NaN</td>\n",
       "    </tr>\n",
       "    <tr>\n",
       "      <th>...</th>\n",
       "      <td>...</td>\n",
       "      <td>...</td>\n",
       "      <td>...</td>\n",
       "      <td>...</td>\n",
       "      <td>...</td>\n",
       "      <td>...</td>\n",
       "      <td>...</td>\n",
       "      <td>...</td>\n",
       "      <td>...</td>\n",
       "      <td>...</td>\n",
       "      <td>...</td>\n",
       "      <td>...</td>\n",
       "      <td>...</td>\n",
       "      <td>...</td>\n",
       "      <td>...</td>\n",
       "      <td>...</td>\n",
       "      <td>...</td>\n",
       "      <td>...</td>\n",
       "      <td>...</td>\n",
       "      <td>...</td>\n",
       "      <td>...</td>\n",
       "    </tr>\n",
       "    <tr>\n",
       "      <th>1109</th>\n",
       "      <td>ABIDEII-USM_1</td>\n",
       "      <td>29523</td>\n",
       "      <td>NDARCL516DV3</td>\n",
       "      <td>2</td>\n",
       "      <td>0.0</td>\n",
       "      <td>NaN</td>\n",
       "      <td>36.1451</td>\n",
       "      <td>1</td>\n",
       "      <td>NaN</td>\n",
       "      <td>NaN</td>\n",
       "      <td>...</td>\n",
       "      <td>NaN</td>\n",
       "      <td>NaN</td>\n",
       "      <td>NaN</td>\n",
       "      <td>NaN</td>\n",
       "      <td>NaN</td>\n",
       "      <td>NaN</td>\n",
       "      <td>NaN</td>\n",
       "      <td>NaN</td>\n",
       "      <td>NaN</td>\n",
       "      <td>NaN</td>\n",
       "    </tr>\n",
       "    <tr>\n",
       "      <th>1110</th>\n",
       "      <td>ABIDEII-USM_1</td>\n",
       "      <td>29524</td>\n",
       "      <td>NDARKC441AZJ</td>\n",
       "      <td>2</td>\n",
       "      <td>0.0</td>\n",
       "      <td>NaN</td>\n",
       "      <td>11.7892</td>\n",
       "      <td>1</td>\n",
       "      <td>NaN</td>\n",
       "      <td>NaN</td>\n",
       "      <td>...</td>\n",
       "      <td>NaN</td>\n",
       "      <td>NaN</td>\n",
       "      <td>NaN</td>\n",
       "      <td>NaN</td>\n",
       "      <td>NaN</td>\n",
       "      <td>NaN</td>\n",
       "      <td>NaN</td>\n",
       "      <td>NaN</td>\n",
       "      <td>NaN</td>\n",
       "      <td>NaN</td>\n",
       "    </tr>\n",
       "    <tr>\n",
       "      <th>1111</th>\n",
       "      <td>ABIDEII-USM_1</td>\n",
       "      <td>29525</td>\n",
       "      <td>NDARCF644GKW</td>\n",
       "      <td>2</td>\n",
       "      <td>0.0</td>\n",
       "      <td>NaN</td>\n",
       "      <td>23.2909</td>\n",
       "      <td>1</td>\n",
       "      <td>1.0</td>\n",
       "      <td>80.0</td>\n",
       "      <td>...</td>\n",
       "      <td>NaN</td>\n",
       "      <td>NaN</td>\n",
       "      <td>NaN</td>\n",
       "      <td>NaN</td>\n",
       "      <td>NaN</td>\n",
       "      <td>NaN</td>\n",
       "      <td>NaN</td>\n",
       "      <td>NaN</td>\n",
       "      <td>NaN</td>\n",
       "      <td>NaN</td>\n",
       "    </tr>\n",
       "    <tr>\n",
       "      <th>1112</th>\n",
       "      <td>ABIDEII-USM_1</td>\n",
       "      <td>29526</td>\n",
       "      <td>NDARLE058ZZK</td>\n",
       "      <td>2</td>\n",
       "      <td>0.0</td>\n",
       "      <td>NaN</td>\n",
       "      <td>32.6242</td>\n",
       "      <td>1</td>\n",
       "      <td>NaN</td>\n",
       "      <td>NaN</td>\n",
       "      <td>...</td>\n",
       "      <td>NaN</td>\n",
       "      <td>NaN</td>\n",
       "      <td>NaN</td>\n",
       "      <td>NaN</td>\n",
       "      <td>NaN</td>\n",
       "      <td>NaN</td>\n",
       "      <td>NaN</td>\n",
       "      <td>NaN</td>\n",
       "      <td>NaN</td>\n",
       "      <td>NaN</td>\n",
       "    </tr>\n",
       "    <tr>\n",
       "      <th>1113</th>\n",
       "      <td>ABIDEII-USM_1</td>\n",
       "      <td>29527</td>\n",
       "      <td>NaN</td>\n",
       "      <td>2</td>\n",
       "      <td>0.0</td>\n",
       "      <td>NaN</td>\n",
       "      <td>11.4962</td>\n",
       "      <td>1</td>\n",
       "      <td>NaN</td>\n",
       "      <td>NaN</td>\n",
       "      <td>...</td>\n",
       "      <td>NaN</td>\n",
       "      <td>NaN</td>\n",
       "      <td>NaN</td>\n",
       "      <td>NaN</td>\n",
       "      <td>NaN</td>\n",
       "      <td>NaN</td>\n",
       "      <td>NaN</td>\n",
       "      <td>NaN</td>\n",
       "      <td>NaN</td>\n",
       "      <td>NaN</td>\n",
       "    </tr>\n",
       "  </tbody>\n",
       "</table>\n",
       "<p>1114 rows × 348 columns</p>\n",
       "</div>"
      ],
      "text/plain": [
       "            SITE_ID  SUB_ID     NDAR_GUID  DX_GROUP  PDD_DSM_IV_TR  ASD_DSM_5  \\\n",
       "0     ABIDEII-BNI_1   29006           NaN         1            NaN        NaN   \n",
       "1     ABIDEII-BNI_1   29007           NaN         1            NaN        NaN   \n",
       "2     ABIDEII-BNI_1   29008           NaN         1            NaN        NaN   \n",
       "3     ABIDEII-BNI_1   29009           NaN         1            NaN        NaN   \n",
       "4     ABIDEII-BNI_1   29010           NaN         1            NaN        NaN   \n",
       "...             ...     ...           ...       ...            ...        ...   \n",
       "1109  ABIDEII-USM_1   29523  NDARCL516DV3         2            0.0        NaN   \n",
       "1110  ABIDEII-USM_1   29524  NDARKC441AZJ         2            0.0        NaN   \n",
       "1111  ABIDEII-USM_1   29525  NDARCF644GKW         2            0.0        NaN   \n",
       "1112  ABIDEII-USM_1   29526  NDARLE058ZZK         2            0.0        NaN   \n",
       "1113  ABIDEII-USM_1   29527           NaN         2            0.0        NaN   \n",
       "\n",
       "      AGE_AT_SCAN   SEX  HANDEDNESS_CATEGORY  HANDEDNESS_SCORES  ...  \\\n",
       "0          48.0000    1                  1.0                NaN  ...   \n",
       "1          41.0000    1                  1.0                NaN  ...   \n",
       "2          59.0000    1                  1.0                NaN  ...   \n",
       "3          57.0000    1                  1.0                NaN  ...   \n",
       "4          45.0000    1                  1.0                NaN  ...   \n",
       "...            ...  ...                  ...                ...  ...   \n",
       "1109       36.1451    1                  NaN                NaN  ...   \n",
       "1110       11.7892    1                  NaN                NaN  ...   \n",
       "1111       23.2909    1                  1.0               80.0  ...   \n",
       "1112       32.6242    1                  NaN                NaN  ...   \n",
       "1113       11.4962    1                  NaN                NaN  ...   \n",
       "\n",
       "      ADI_R_C3_TOTAL  ADI_R_C4_REPETITIVE_USE_OBJECTS  ADI_R_C4_HIGHER  \\\n",
       "0                NaN                              NaN              NaN   \n",
       "1                NaN                              NaN              NaN   \n",
       "2                NaN                              NaN              NaN   \n",
       "3                NaN                              NaN              NaN   \n",
       "4                NaN                              NaN              NaN   \n",
       "...              ...                              ...              ...   \n",
       "1109             NaN                              NaN              NaN   \n",
       "1110             NaN                              NaN              NaN   \n",
       "1111             NaN                              NaN              NaN   \n",
       "1112             NaN                              NaN              NaN   \n",
       "1113             NaN                              NaN              NaN   \n",
       "\n",
       "     ADI_R_C4_UNUSUAL_SENSORY_INTERESTS ADI_R_C4_TOTAL  \\\n",
       "0                                   NaN            NaN   \n",
       "1                                   NaN            NaN   \n",
       "2                                   NaN            NaN   \n",
       "3                                   NaN            NaN   \n",
       "4                                   NaN            NaN   \n",
       "...                                 ...            ...   \n",
       "1109                                NaN            NaN   \n",
       "1110                                NaN            NaN   \n",
       "1111                                NaN            NaN   \n",
       "1112                                NaN            NaN   \n",
       "1113                                NaN            NaN   \n",
       "\n",
       "     ADI_R_D_AGE_PARENT_NOTICED  ADI_R_D_AGE_FIRST_SINGLE_WORDS  \\\n",
       "0                           NaN                             NaN   \n",
       "1                           NaN                             NaN   \n",
       "2                           NaN                             NaN   \n",
       "3                           NaN                             NaN   \n",
       "4                           NaN                             NaN   \n",
       "...                         ...                             ...   \n",
       "1109                        NaN                             NaN   \n",
       "1110                        NaN                             NaN   \n",
       "1111                        NaN                             NaN   \n",
       "1112                        NaN                             NaN   \n",
       "1113                        NaN                             NaN   \n",
       "\n",
       "      ADI_R_D_AGE_FIRST_PHRASES  ADI_R_D_AGE_WHEN_ABNORMALITY  \\\n",
       "0                           NaN                           NaN   \n",
       "1                           NaN                           NaN   \n",
       "2                           NaN                           NaN   \n",
       "3                           NaN                           NaN   \n",
       "4                           NaN                           NaN   \n",
       "...                         ...                           ...   \n",
       "1109                        NaN                           NaN   \n",
       "1110                        NaN                           NaN   \n",
       "1111                        NaN                           NaN   \n",
       "1112                        NaN                           NaN   \n",
       "1113                        NaN                           NaN   \n",
       "\n",
       "      ADI_R_D_INTERVIEWER_JUDGMENT  \n",
       "0                              NaN  \n",
       "1                              NaN  \n",
       "2                              NaN  \n",
       "3                              NaN  \n",
       "4                              NaN  \n",
       "...                            ...  \n",
       "1109                           NaN  \n",
       "1110                           NaN  \n",
       "1111                           NaN  \n",
       "1112                           NaN  \n",
       "1113                           NaN  \n",
       "\n",
       "[1114 rows x 348 columns]"
      ]
     },
     "execution_count": 52,
     "metadata": {},
     "output_type": "execute_result"
    }
   ],
   "source": [
    "ABIDE.demofile"
   ]
  },
  {
   "cell_type": "code",
   "execution_count": 53,
   "metadata": {},
   "outputs": [
    {
     "name": "stderr",
     "output_type": "stream",
     "text": [
      "[INFO] Cloning dataset to Dataset(/storage/research/cinn_comp/nicktest2) \n",
      "[INFO] Attempting to clone from http://datasets.datalad.org/abide2/RawData/GU_1 to /storage/research/cinn_comp/nicktest2 \n",
      "[INFO] Attempting to clone from http://datasets.datalad.org/abide2/RawData/GU_1/.git to /storage/research/cinn_comp/nicktest2 \n",
      "[INFO] Start enumerating objects \n",
      "[INFO] Start counting objects \n",
      "[INFO] Start compressing objects \n",
      "[INFO] Completed clone attempts for Dataset(/storage/research/cinn_comp/nicktest2) \n",
      "[INFO] Scanning for unlocked files (this may take some time) \n"
     ]
    }
   ],
   "source": [
    "ABIDE.install()"
   ]
  },
  {
   "cell_type": "code",
   "execution_count": 32,
   "metadata": {},
   "outputs": [],
   "source": [
    "ABIDE.remove()"
   ]
  },
  {
   "cell_type": "markdown",
   "metadata": {},
   "source": [
    "An ABIDE_SUBJECT is defined as follows - giving access to their demographic as well as anatomical and functional quality information."
   ]
  },
  {
   "cell_type": "code",
   "execution_count": 72,
   "metadata": {},
   "outputs": [],
   "source": [
    "from cnbpy.datalad import ABIDE_SUBJECT\n",
    "mysubject=ABIDE_SUBJECT(ABIDE,'28846')"
   ]
  },
  {
   "cell_type": "code",
   "execution_count": 73,
   "metadata": {},
   "outputs": [
    {
     "data": {
      "text/plain": [
       "SITE_ID                           ABIDEII-GU_1\n",
       "SUB_ID                                   28846\n",
       "NDAR_GUID                                  NaN\n",
       "DX_GROUP                                     2\n",
       "PDD_DSM_IV_TR                                0\n",
       "                                      ...     \n",
       "ADI_R_D_AGE_PARENT_NOTICED                 NaN\n",
       "ADI_R_D_AGE_FIRST_SINGLE_WORDS             NaN\n",
       "ADI_R_D_AGE_FIRST_PHRASES                  NaN\n",
       "ADI_R_D_AGE_WHEN_ABNORMALITY               NaN\n",
       "ADI_R_D_INTERVIEWER_JUDGMENT               NaN\n",
       "Name: 253, Length: 348, dtype: object"
      ]
     },
     "execution_count": 73,
     "metadata": {},
     "output_type": "execute_result"
    }
   ],
   "source": [
    "mysubject.demorow"
   ]
  },
  {
   "cell_type": "code",
   "execution_count": 74,
   "metadata": {},
   "outputs": [
    {
     "data": {
      "text/plain": [
       "Site_ID                                               ABIDEII-GU_1\n",
       "Sub_ID                                                       28846\n",
       "Session                                                  session_1\n",
       "Series                                                      rest_1\n",
       "Unique_ID                      ABIDEII-GU_1_28846_session_1_rest_1\n",
       "SNR                                                        12.1649\n",
       "EFC                                                       0.546966\n",
       "Smoothness_of_Voxels                                       1.94886\n",
       "FBER                                                       31.6306\n",
       "GSR                                                      0.0404274\n",
       "mFD                                                      0.0735193\n",
       "PercentFD_greater_than_0.20                                  3.268\n",
       "NumFD_greater_than_0.20                                          5\n",
       "DVARS                                                        1.001\n",
       "Outliers                                                0.00155776\n",
       "GCORR                                                   0.00629631\n",
       "Median_Distance_Index                                     0.058618\n",
       "Unnamed: 17                    ABIDEII-GU_1_28846_session_1_rest_1\n",
       "Name: 253, dtype: object"
      ]
     },
     "execution_count": 74,
     "metadata": {},
     "output_type": "execute_result"
    }
   ],
   "source": [
    "mysubject.funcrow"
   ]
  },
  {
   "cell_type": "code",
   "execution_count": 75,
   "metadata": {},
   "outputs": [
    {
     "data": {
      "text/plain": [
       "Site_ID                                        ABIDEII-GU_1\n",
       "Sub_ID                                                28846\n",
       "Session                                           session_1\n",
       "Series                                               anat_1\n",
       "Unique_ID               ABIDEII-GU_1_28846_session_1_anat_1\n",
       "CNR                                                 12.0686\n",
       "SNR                                                  21.412\n",
       "Qi1                                               0.0689278\n",
       "EFC                                                0.387546\n",
       "Smoothness_of_Voxels                                2.87615\n",
       "FBER                                                880.668\n",
       "Cortical Contrast                                  0.405104\n",
       "Name: 253, dtype: object"
      ]
     },
     "execution_count": 75,
     "metadata": {},
     "output_type": "execute_result"
    }
   ],
   "source": [
    "mysubject.anatrow"
   ]
  }
 ],
 "metadata": {
  "kernelspec": {
   "display_name": "Python 3",
   "language": "python",
   "name": "python3"
  },
  "language_info": {
   "codemirror_mode": {
    "name": "ipython",
    "version": 3
   },
   "file_extension": ".py",
   "mimetype": "text/x-python",
   "name": "python",
   "nbconvert_exporter": "python",
   "pygments_lexer": "ipython3",
   "version": "3.6.10"
  }
 },
 "nbformat": 4,
 "nbformat_minor": 4
}
