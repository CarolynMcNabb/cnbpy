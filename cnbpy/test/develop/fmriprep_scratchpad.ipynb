{
 "cells": [
  {
   "cell_type": "code",
   "execution_count": 2,
   "metadata": {},
   "outputs": [
    {
     "name": "stdout",
     "output_type": "stream",
     "text": [
      "The autoreload extension is already loaded. To reload it, use:\n",
      "  %reload_ext autoreload\n"
     ]
    }
   ],
   "source": [
    "%load_ext autoreload\n",
    "%autoreload 2\n",
    "from cnbpy.fmriprep import FMRIPREP"
   ]
  },
  {
   "cell_type": "code",
   "execution_count": 3,
   "metadata": {},
   "outputs": [],
   "source": [
    "myfmriprep=FMRIPREP()"
   ]
  },
  {
   "cell_type": "code",
   "execution_count": 4,
   "metadata": {},
   "outputs": [
    {
     "data": {
      "text/plain": [
       "'#!/bin/bash\\n\\n#SBATCH -J ---J---\\n#SBATCH -N ---N---\\n#SBATCH --cpus-per-task=---cpus-per-task---\\n#SBATCH --mem-per-cpu=---mem-per-cpu---\\n#SBATCH --mail-user=---mail-user---\\n#SBATCH --error=---error---\\n\\n#SBATCH --mail-type=ALL\\n\\n\\n\\n\\nsingularity run --cleanenv ---mounts--- ---imagepath--- ---datapath--- ---outpath--- --participant-label ---pid--- -w ---workpath--- --output-spaces ---output_spaces--- --mem_mb ---mem_mb--- --fs-subjects-dir ---fsdir--- --omp-nthreads ---ot--- --nthreads ---nt--- --fs-license-file ---fsli--- ---optionals---\\n\\n'"
      ]
     },
     "execution_count": 4,
     "metadata": {},
     "output_type": "execute_result"
    }
   ],
   "source": [
    "myfmriprep.working_string"
   ]
  },
  {
   "cell_type": "code",
   "execution_count": 15,
   "metadata": {},
   "outputs": [],
   "source": [
    "myfmriprep.reload_yaml()"
   ]
  },
  {
   "cell_type": "code",
   "execution_count": 6,
   "metadata": {},
   "outputs": [
    {
     "data": {
      "text/plain": [
       "{'---cpus-per-task---': '16',\n",
       " '---mem-per-cpu---': '4',\n",
       " '--mail-user---': 'nhedger1@gmail.com',\n",
       " '---N---': '1-1'}"
      ]
     },
     "execution_count": 6,
     "metadata": {},
     "output_type": "execute_result"
    }
   ],
   "source": [
    "import re\n",
    "myfmriprep.slurm_dict"
   ]
  },
  {
   "cell_type": "code",
   "execution_count": 7,
   "metadata": {},
   "outputs": [
    {
     "data": {
      "text/plain": [
       "{'---cpus-per-task---': '16',\n",
       " '---mem-per-cpu---': '4',\n",
       " '--mail-user---': 'nhedger1@gmail.com',\n",
       " '---N---': '1-1'}"
      ]
     },
     "execution_count": 7,
     "metadata": {},
     "output_type": "execute_result"
    }
   ],
   "source": [
    "myfmriprep.slurm_dict"
   ]
  },
  {
   "cell_type": "code",
   "execution_count": 18,
   "metadata": {},
   "outputs": [],
   "source": [
    "myfmriprep.make_mounts()"
   ]
  },
  {
   "cell_type": "code",
   "execution_count": 17,
   "metadata": {},
   "outputs": [
    {
     "data": {
      "text/plain": [
       "{'---mounts---': '-B /storage/research/cinn_comp/Resources/freesurfer/license.txt:/freesurfer/license.txt -B /storage/research/cinn_comp/Resources/freesurfer:/freesurfer -B /storage/research/cinn_comp/Resources/templateflow:/templateflow'}"
      ]
     },
     "execution_count": 17,
     "metadata": {},
     "output_type": "execute_result"
    }
   ],
   "source": [
    "myfmriprep.mountdict"
   ]
  },
  {
   "cell_type": "code",
   "execution_count": 19,
   "metadata": {},
   "outputs": [
    {
     "name": "stdout",
     "output_type": "stream",
     "text": [
      "#!/bin/bash\n",
      "\n",
      "#SBATCH -J ---J---\n",
      "#SBATCH -N 1-1\n",
      "#SBATCH --cpus-per-task=16\n",
      "#SBATCH --mem-per-cpu=4\n",
      "#SBATCH --mail-user=-nhedger1@gmail.com\n",
      "#SBATCH --error=---error---\n",
      "\n",
      "#SBATCH --mail-type=ALL\n",
      "\n",
      "\n",
      "\n",
      "\n",
      "singularity run --cleanenv -B /storage/research/cinn_comp/Resources/freesurfer/license.txt:/freesurfer/license.txt -B /storage/research/cinn_comp/Resources/freesurfer:/freesurfer -B /storage/research/cinn_comp/Resources/templateflow:/templateflow ---imagepath--- ---datapath--- ---outpath--- --participant-label ---pid--- -w ---workpath--- --output-spaces ---output_spaces--- --mem_mb ---mem_mb--- --fs-subjects-dir ---fsdir--- --omp-nthreads ---ot--- --nthreads ---nt--- --fs-license-file ---fsli--- ---optionals---\n",
      "\n",
      "\n"
     ]
    }
   ],
   "source": [
    "myfmriprep.populate(myfmriprep.slurm_dict)\n",
    "myfmriprep.populate(myfmriprep.mount_dict)\n",
    "print(myfmriprep.working_string)"
   ]
  },
  {
   "cell_type": "code",
   "execution_count": 11,
   "metadata": {},
   "outputs": [
    {
     "name": "stdout",
     "output_type": "stream",
     "text": [
      "#!/bin/bash\n",
      "\n",
      "#SBATCH -J ---J---\n",
      "#SBATCH -N 1-1\n",
      "#SBATCH --cpus-per-task=16\n",
      "#SBATCH --mem-per-cpu=4\n",
      "#SBATCH --mail-user=-nhedger1@gmail.com\n",
      "#SBATCH --error=---error---\n",
      "\n",
      "#SBATCH --mail-type=ALL\n",
      "\n",
      "\n",
      "\n",
      "\n",
      "singularity run --cleanenv ---mounts--- ---imagepath--- ---datapath--- ---outpath--- --participant-label ---pid--- -w ---workpath--- --output-spaces ---output_spaces--- --mem_mb ---mem_mb--- --fs-subjects-dir ---fsdir--- --omp-nthreads ---ot--- --nthreads ---nt--- --fs-license-file ---fsli--- ---optionals---\n",
      "\n",
      "\n"
     ]
    }
   ],
   "source": []
  },
  {
   "cell_type": "code",
   "execution_count": 35,
   "metadata": {},
   "outputs": [
    {
     "name": "stdout",
     "output_type": "stream",
     "text": [
      "#!/bin/bash\n",
      "\n",
      "#SBATCH -J ---J---\n",
      "#SBATCH -N 1-1\n",
      "#SBATCH --cpus-per-task=16\n",
      "#SBATCH --mem-per-cpu=4\n",
      "#SBATCH --mail-user=-nhedger1@gmail.com\n",
      "#SBATCH --error=---error---\n",
      "\n",
      "#SBATCH --mail-type=ALL\n",
      "\n",
      "\n",
      "\n",
      "\n",
      "singularity run --cleanenv ---mounts--- ---imagepath--- ---datapath--- ---outpath--- --participant-label ---pid--- -w ---workpath--- --output-spaces ---output_spaces--- --mem_mb ---mem_mb--- --fs-subjects-dir ---fsdir--- --omp-nthreads ---ot--- --nthreads ---nt--- --fs-license-file ---fsli--- ---optionals---\n",
      "\n",
      "\n"
     ]
    }
   ],
   "source": [
    "print(myfmriprep.working_string)"
   ]
  },
  {
   "cell_type": "code",
   "execution_count": 36,
   "metadata": {},
   "outputs": [],
   "source": [
    "myfmriprep.make_mounts()"
   ]
  },
  {
   "cell_type": "code",
   "execution_count": 37,
   "metadata": {},
   "outputs": [
    {
     "data": {
      "text/plain": [
       "['-B /freesurfer/license.txt:/freesurfer/license.txt',\n",
       " '-B /freesurfer:/freesurfer',\n",
       " '-B /templateflow:/templateflow']"
      ]
     },
     "execution_count": 37,
     "metadata": {},
     "output_type": "execute_result"
    }
   ],
   "source": [
    "myfmriprep.mounts"
   ]
  }
 ],
 "metadata": {
  "kernelspec": {
   "display_name": "Python 3",
   "language": "python",
   "name": "python3"
  },
  "language_info": {
   "codemirror_mode": {
    "name": "ipython",
    "version": 3
   },
   "file_extension": ".py",
   "mimetype": "text/x-python",
   "name": "python",
   "nbconvert_exporter": "python",
   "pygments_lexer": "ipython3",
   "version": "3.6.10"
  }
 },
 "nbformat": 4,
 "nbformat_minor": 4
}
