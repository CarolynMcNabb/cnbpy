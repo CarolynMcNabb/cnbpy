{
 "cells": [
  {
   "cell_type": "markdown",
   "metadata": {},
   "source": [
    "# FMRIPREP stuff"
   ]
  },
  {
   "cell_type": "code",
   "execution_count": 2,
   "metadata": {},
   "outputs": [
    {
     "name": "stdout",
     "output_type": "stream",
     "text": [
      "The autoreload extension is already loaded. To reload it, use:\n",
      "  %reload_ext autoreload\n"
     ]
    }
   ],
   "source": [
    "%load_ext autoreload\n",
    "%autoreload 2\n",
    "from cnbpy.fmriprep import FMRIPREP"
   ]
  },
  {
   "cell_type": "markdown",
   "metadata": {},
   "source": [
    "We define an FMRIPREP object. This reads in a template .sh file and information from a yaml file. This yaml file is in /test/data"
   ]
  },
  {
   "cell_type": "code",
   "execution_count": 3,
   "metadata": {},
   "outputs": [],
   "source": [
    "myfmriprep=FMRIPREP(jobname='nick_fmriprep3')"
   ]
  },
  {
   "cell_type": "markdown",
   "metadata": {},
   "source": [
    "We can view the current version of the script as follows. This is a bunch of placeholders which will be populated by the information in the yaml file."
   ]
  },
  {
   "cell_type": "code",
   "execution_count": 4,
   "metadata": {},
   "outputs": [
    {
     "name": "stdout",
     "output_type": "stream",
     "text": [
      "#!/bin/bash\n",
      "\n",
      "#SBATCH -J ---J---\n",
      "#SBATCH -N ---N---\n",
      "#SBATCH --cpus-per-task=---cpus-per-task---\n",
      "#SBATCH --mem-per-cpu=---mem-per-cpu---\n",
      "#SBATCH --mail-user=---mail-user---\n",
      "#SBATCH --error=---error---\n",
      "\n",
      "#SBATCH --mail-type=ALL\n",
      "\n",
      "\n",
      "\n",
      "\n",
      "singularity run --cleanenv ---mounts--- ---imagepath--- ---datapath--- ---outpath--- --participant-label ---pid--- -w ---workpath--- --output-spaces ---output_spaces--- --mem_mb ---mem_mb--- --fs-subjects-dir ---fsdir--- --omp-nthreads ---ot--- --nthreads ---nt--- --fs-license-file ---fsli--- ---optionals---\n",
      "\n",
      "\n"
     ]
    }
   ],
   "source": [
    "print(myfmriprep.working_string)"
   ]
  },
  {
   "cell_type": "code",
   "execution_count": 5,
   "metadata": {},
   "outputs": [
    {
     "data": {
      "text/plain": [
       "{'slurm': {'---cpus-per-task---': '16',\n",
       "  '---mem-per-cpu---': '4G',\n",
       "  '--mail-user---': 'nhedger1@gmail.com',\n",
       "  '---N---': '1-1',\n",
       "  '---error---': '/storage/research/cinn_comp/DUMP/JOBS/nick_fmriprep3.err'},\n",
       " 'lpaths': {'---fsli---': '/storage/research/cinn_comp/Resources/freesurfer/license.txt',\n",
       "  '---fspath---': '/storage/research/cinn_comp/Resources/freesurfer',\n",
       "  '---tfpath---': '/storage/research/cinn_comp/Resources/templateflow',\n",
       "  '---datapath---': '/storage/research/cinn_comp/nicktest',\n",
       "  '---imagepath---': '/storage/research/cinn_comp/Resources/poldracklab_fmriprep_latest-2020-04-09-30f9d1d80eba.simg',\n",
       "  'job_path': '/storage/research/cinn_comp/DUMP/JOBS',\n",
       "  'job_wildcard': '{jobname}.sh',\n",
       "  'err_wildcard': '{jobname}.err',\n",
       "  'workpath_base': '/storage/research/cinn_comp/DUMP/WORK',\n",
       "  'outpath_base': '/storage/research/cinn_comp/DUMP/OUTPUT',\n",
       "  '---outpath---': '/storage/research/cinn_comp/DUMP/OUTPUT/nick_fmriprep3',\n",
       "  '---workpath---': '/storage/research/cinn_comp/DUMP/WORK/nick_fmriprep3'},\n",
       " 'spaths': {'---fsli---': '/freesurfer/license.txt',\n",
       "  '---fspath---': '/freesurfer',\n",
       "  '---workpath---': '/work',\n",
       "  '---outpath---': '/out',\n",
       "  '---datapath---': '/data',\n",
       "  '---tfpath---': '/templateflow'},\n",
       " 'mounts': {'st_paths2mount': ['---fsli---',\n",
       "   '---fspath---',\n",
       "   '---tfpath---',\n",
       "   '---workpath---',\n",
       "   '---outpath---',\n",
       "   '---datapath---']},\n",
       " 'execution': {'---type---': 'sbatch', '---execute---': False},\n",
       " 'call': {'---output_spaces---': 'fsaverage',\n",
       "  '---optionals---': '--write-graph --ignore slicetiming --low-mem',\n",
       "  '---mem_mb---': '30000',\n",
       "  '---ot---': '8',\n",
       "  '---nt---': '12'}}"
      ]
     },
     "execution_count": 5,
     "metadata": {},
     "output_type": "execute_result"
    }
   ],
   "source": [
    "myfmriprep.yaml"
   ]
  },
  {
   "cell_type": "markdown",
   "metadata": {},
   "source": [
    "We can populate as follows. (not finished)"
   ]
  },
  {
   "cell_type": "code",
   "execution_count": 6,
   "metadata": {},
   "outputs": [],
   "source": [
    "myfmriprep.populate_all()"
   ]
  },
  {
   "cell_type": "code",
   "execution_count": 7,
   "metadata": {},
   "outputs": [
    {
     "name": "stdout",
     "output_type": "stream",
     "text": [
      "#!/bin/bash\n",
      "\n",
      "#SBATCH -J ---J---\n",
      "#SBATCH -N 1-1\n",
      "#SBATCH --cpus-per-task=16\n",
      "#SBATCH --mem-per-cpu=4G\n",
      "#SBATCH --mail-user=-nhedger1@gmail.com\n",
      "#SBATCH --error=/storage/research/cinn_comp/DUMP/JOBS/nick_fmriprep3.err\n",
      "\n",
      "#SBATCH --mail-type=ALL\n",
      "\n",
      "\n",
      "\n",
      "\n",
      "singularity run --cleanenv -B /storage/research/cinn_comp/Resources/freesurfer/license.txt:/freesurfer/license.txt -B /storage/research/cinn_comp/Resources/freesurfer:/freesurfer -B /storage/research/cinn_comp/Resources/templateflow:/templateflow -B /storage/research/cinn_comp/DUMP/WORK/nick_fmriprep3:/work -B /storage/research/cinn_comp/DUMP/OUTPUT/nick_fmriprep3:/out -B /storage/research/cinn_comp/nicktest:/data /storage/research/cinn_comp/Resources/poldracklab_fmriprep_latest-2020-04-09-30f9d1d80eba.simg /storage/research/cinn_comp/nicktest /storage/research/cinn_comp/DUMP/OUTPUT/nick_fmriprep3 --participant-label ---pid--- -w /storage/research/cinn_comp/DUMP/WORK/nick_fmriprep3 --output-spaces fsaverage --mem_mb 30000 --fs-subjects-dir ---fsdir--- --omp-nthreads 8 --nthreads 12 --fs-license-file /storage/research/cinn_comp/Resources/freesurfer/license.txt --write-graph --ignore slicetiming --low-mem\n",
      "\n",
      "\n"
     ]
    }
   ],
   "source": [
    "print(myfmriprep.working_string)"
   ]
  },
  {
   "cell_type": "markdown",
   "metadata": {},
   "source": [
    "We can then writeout this file as follows."
   ]
  },
  {
   "cell_type": "code",
   "execution_count": 8,
   "metadata": {},
   "outputs": [],
   "source": [
    "myfmriprep.writeout()"
   ]
  },
  {
   "cell_type": "markdown",
   "metadata": {},
   "source": [
    "The file will be written out to this location."
   ]
  },
  {
   "cell_type": "code",
   "execution_count": 9,
   "metadata": {},
   "outputs": [
    {
     "data": {
      "text/plain": [
       "'/storage/research/cinn_comp/DUMP/JOBS/nick_fmriprep3.sh'"
      ]
     },
     "execution_count": 9,
     "metadata": {},
     "output_type": "execute_result"
    }
   ],
   "source": [
    "myfmriprep.outfile"
   ]
  },
  {
   "cell_type": "markdown",
   "metadata": {},
   "source": [
    "When run, outputs will be stored here."
   ]
  },
  {
   "cell_type": "code",
   "execution_count": 10,
   "metadata": {},
   "outputs": [
    {
     "data": {
      "text/plain": [
       "'/storage/research/cinn_comp/DUMP/OUTPUT/nick_fmriprep3'"
      ]
     },
     "execution_count": 10,
     "metadata": {},
     "output_type": "execute_result"
    }
   ],
   "source": [
    "myfmriprep.out_path"
   ]
  }
 ],
 "metadata": {
  "kernelspec": {
   "display_name": "Python 3",
   "language": "python",
   "name": "python3"
  },
  "language_info": {
   "codemirror_mode": {
    "name": "ipython",
    "version": 3
   },
   "file_extension": ".py",
   "mimetype": "text/x-python",
   "name": "python",
   "nbconvert_exporter": "python",
   "pygments_lexer": "ipython3",
   "version": "3.6.10"
  }
 },
 "nbformat": 4,
 "nbformat_minor": 4
}
