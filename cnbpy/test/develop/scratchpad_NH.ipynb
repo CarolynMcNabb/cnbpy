{
 "cells": [
  {
   "cell_type": "code",
   "execution_count": 5,
   "metadata": {},
   "outputs": [],
   "source": [
    "import nest_asyncio\n",
    "nest_asyncio.apply()\n",
    "import os"
   ]
  },
  {
   "cell_type": "code",
   "execution_count": 2,
   "metadata": {},
   "outputs": [
    {
     "name": "stderr",
     "output_type": "stream",
     "text": [
      "It is highly recommended to configure Git before using DataLad. Set both 'user.name' and 'user.email' configuration variables.\n",
      "It is highly recommended to configure Git before using DataLad. Set both 'user.name' and 'user.email' configuration variables.\n"
     ]
    }
   ],
   "source": [
    "import datalad.api as dl"
   ]
  },
  {
   "cell_type": "code",
   "execution_count": 3,
   "metadata": {},
   "outputs": [
    {
     "name": "stderr",
     "output_type": "stream",
     "text": [
      "[INFO] Creating a new annex repo at /storage/research/cinn_comp/DUMP/test \n",
      "[INFO] Scanning for unlocked files (this may take some time) \n"
     ]
    }
   ],
   "source": [
    "mset=dl.Dataset.create('/storage/research/cinn_comp/DUMP/test')"
   ]
  },
  {
   "cell_type": "code",
   "execution_count": 7,
   "metadata": {},
   "outputs": [],
   "source": [
    "os.chdir(mset.path)"
   ]
  },
  {
   "cell_type": "markdown",
   "metadata": {},
   "source": [
    "I can initialize a connection to an S3 bucket as follows. Here I just choose a functional directory for a single subject."
   ]
  },
  {
   "cell_type": "code",
   "execution_count": 10,
   "metadata": {},
   "outputs": [
    {
     "name": "stderr",
     "output_type": "stream",
     "text": [
      "[INFO] Creating a pipeline for the fcp-indi bucket \n",
      "[WARNING] ATM we assume prefixes to correspond only to directories, adding / \n"
     ]
    }
   ],
   "source": [
    "dl.crawl_init(template='simple_s3',save=True,args=['bucket=fcp-indi','prefix=data/Projects/ABIDE2/Outputs/fmriprep/fmriprep/sub-51315/ses-1/func','drop_immediately=True'])"
   ]
  },
  {
   "cell_type": "markdown",
   "metadata": {},
   "source": [
    "Now I can crawl. I don't know how to do this without downloading it. The only option seems to be to download and then drop after. ¯\\\\\\_(ツ)_/¯"
   ]
  },
  {
   "cell_type": "code",
   "execution_count": 11,
   "metadata": {},
   "outputs": [
    {
     "name": "stderr",
     "output_type": "stream",
     "text": [
      "[INFO] Loading pipeline specification from ./.datalad/crawl/crawl.cfg \n",
      "[INFO] Creating a pipeline for the fcp-indi bucket \n",
      "[WARNING] ATM we assume prefixes to correspond only to directories, adding / \n",
      "[INFO] Running pipeline [<datalad_crawler.nodes.s3.crawl_s3 object at 0x2af2aca3a7b8>, switch(default=None, key='datalad_action', mapping=<<{'commit': <fu++328 chars++0>>}>>, re=False)] \n",
      "[INFO] Need to download 39 Bytes from s3://fcp-indi/data/Projects/ABIDE2/Outputs/fmriprep/fmriprep/sub-51315/ses-1/func/sub-51315_ses-1_task-rest_run-1_AROMAnoiseICs.csv?versionId=KLLhzp7gV4DZBZzxS4blamv4LBomlmbi. No progress indication will be reported \n",
      "[INFO] Dropping /storage/research/cinn_comp/DUMP/test/sub-51315_ses-1_task-rest_run-1_AROMAnoiseICs.csv \n",
      "[INFO] Need to download 49 Bytes from s3://fcp-indi/data/Projects/ABIDE2/Outputs/fmriprep/fmriprep/sub-51315/ses-1/func/sub-51315_ses-1_task-rest_run-1_bold.dtseries.json?versionId=rAuXqW1n.j25H9KW3xtIm4aZnObw5Dvo. No progress indication will be reported \n",
      "[INFO] Dropping /storage/research/cinn_comp/DUMP/test/sub-51315_ses-1_task-rest_run-1_bold.dtseries.json \n",
      "[INFO] Need to download 47.5 MB from s3://fcp-indi/data/Projects/ABIDE2/Outputs/fmriprep/fmriprep/sub-51315/ses-1/func/sub-51315_ses-1_task-rest_run-1_bold.dtseries.nii?versionId=HJYxhxkWVcwlS3Pp1kH6CYxV6Kt66Uft. No progress indication will be reported \n",
      "[INFO] Dropping /storage/research/cinn_comp/DUMP/test/sub-51315_ses-1_task-rest_run-1_bold.dtseries.nii \n",
      "[INFO] Need to download 91.7 kB from s3://fcp-indi/data/Projects/ABIDE2/Outputs/fmriprep/fmriprep/sub-51315/ses-1/func/sub-51315_ses-1_task-rest_run-1_desc-MELODIC_mixing.tsv?versionId=KfxMZ3LiNKyJf.JItiArEq0pMaVyHjsX. No progress indication will be reported \n",
      "[INFO] Dropping /storage/research/cinn_comp/DUMP/test/sub-51315_ses-1_task-rest_run-1_desc-MELODIC_mixing.tsv \n",
      "[INFO] Need to download 70.9 kB from s3://fcp-indi/data/Projects/ABIDE2/Outputs/fmriprep/fmriprep/sub-51315/ses-1/func/sub-51315_ses-1_task-rest_run-1_desc-confounds_regressors.tsv?versionId=SPtqvQKrNCJrHjDqIUvexLJxfT3J2qi1. No progress indication will be reported \n",
      "[INFO] Dropping /storage/research/cinn_comp/DUMP/test/sub-51315_ses-1_task-rest_run-1_desc-confounds_regressors.tsv \n",
      "[INFO] Need to download 2.3 MB from s3://fcp-indi/data/Projects/ABIDE2/Outputs/fmriprep/fmriprep/sub-51315/ses-1/func/sub-51315_ses-1_task-rest_run-1_space-MNI152NLin2009cAsym_boldref.nii.gz?versionId=rRHrxtPgYeUUAULhWrOs2sbltQMf8Jqe. No progress indication will be reported \n",
      "[INFO] Dropping /storage/research/cinn_comp/DUMP/test/sub-51315_ses-1_task-rest_run-1_space-MNI152NLin2009cAsym_boldref.nii.gz \n",
      "[INFO] Need to download 53.0 kB from s3://fcp-indi/data/Projects/ABIDE2/Outputs/fmriprep/fmriprep/sub-51315/ses-1/func/sub-51315_ses-1_task-rest_run-1_space-MNI152NLin2009cAsym_desc-brain_mask.nii.gz?versionId=M_EiFtiSneViks9CVv531zNYVR4XlR1s. No progress indication will be reported \n",
      "[INFO] Dropping /storage/research/cinn_comp/DUMP/test/sub-51315_ses-1_task-rest_run-1_space-MNI152NLin2009cAsym_desc-brain_mask.nii.gz \n",
      "[INFO] Need to download 148.2 MB from s3://fcp-indi/data/Projects/ABIDE2/Outputs/fmriprep/fmriprep/sub-51315/ses-1/func/sub-51315_ses-1_task-rest_run-1_space-MNI152NLin2009cAsym_desc-preproc_bold.nii.gz?versionId=MoAx.5fg8HBoXL0BOGVx16oXU9DaY5yN. No progress indication will be reported \n",
      "[INFO] Dropping /storage/research/cinn_comp/DUMP/test/sub-51315_ses-1_task-rest_run-1_space-MNI152NLin2009cAsym_desc-preproc_bold.nii.gz \n",
      "[INFO] Need to download 253.7 MB from s3://fcp-indi/data/Projects/ABIDE2/Outputs/fmriprep/fmriprep/sub-51315/ses-1/func/sub-51315_ses-1_task-rest_run-1_space-MNI152NLin2009cAsym_desc-smoothAROMAnonaggr_bold.nii.gz?versionId=3Ne7wHcQZ2i2RibmkKJrcYDmn_oPRAyJ. No progress indication will be reported \n",
      "[INFO] Dropping /storage/research/cinn_comp/DUMP/test/sub-51315_ses-1_task-rest_run-1_space-MNI152NLin2009cAsym_desc-smoothAROMAnonaggr_bold.nii.gz \n",
      "[INFO] Need to download 31.0 kB from s3://fcp-indi/data/Projects/ABIDE2/Outputs/fmriprep/fmriprep/sub-51315/ses-1/func/sub-51315_ses-1_task-rest_run-1_space-T1w_desc-aparcaseg_dseg.nii.gz?versionId=jwbtpBPm9wez8TwwJqxtnkAn4jBd4.p6. No progress indication will be reported \n",
      "[INFO] Dropping /storage/research/cinn_comp/DUMP/test/sub-51315_ses-1_task-rest_run-1_space-T1w_desc-aparcaseg_dseg.nii.gz \n",
      "[INFO] Need to download 28.6 kB from s3://fcp-indi/data/Projects/ABIDE2/Outputs/fmriprep/fmriprep/sub-51315/ses-1/func/sub-51315_ses-1_task-rest_run-1_space-T1w_desc-aseg_dseg.nii.gz?versionId=O4q1RX8TSGKqqzn6eGaebkGQNOerUM3R. No progress indication will be reported \n",
      "[INFO] Dropping /storage/research/cinn_comp/DUMP/test/sub-51315_ses-1_task-rest_run-1_space-T1w_desc-aseg_dseg.nii.gz \n",
      "[INFO] Need to download 5.2 MB from s3://fcp-indi/data/Projects/ABIDE2/Outputs/fmriprep/fmriprep/sub-51315/ses-1/func/sub-51315_ses-1_task-rest_run-1_space-fsaverage5_hemi-L.func.gii?versionId=mebN91UIRdLdmcg7gP_Uqqc2caK6hu6Q. No progress indication will be reported \n",
      "[INFO] Dropping /storage/research/cinn_comp/DUMP/test/sub-51315_ses-1_task-rest_run-1_space-fsaverage5_hemi-L.func.gii \n",
      "[INFO] Need to download 5.2 MB from s3://fcp-indi/data/Projects/ABIDE2/Outputs/fmriprep/fmriprep/sub-51315/ses-1/func/sub-51315_ses-1_task-rest_run-1_space-fsaverage5_hemi-R.func.gii?versionId=j4scUXKy2rg0TbeU9rpvd6lJ.qRIkULL. No progress indication will be reported \n",
      "[INFO] Dropping /storage/research/cinn_comp/DUMP/test/sub-51315_ses-1_task-rest_run-1_space-fsaverage5_hemi-R.func.gii \n",
      "[INFO] Repository found dirty -- adding and committing \n",
      "[INFO] Finished running pipeline: URLs processed: 13, downloaded: 13, size: 462.5 MB,  Files processed: 13, +annex: 13 \n",
      "[INFO] Total stats: URLs processed: 13, downloaded: 13, size: 462.5 MB,  Files processed: 13, +annex: 13,  Datasets crawled: 1 \n"
     ]
    },
    {
     "data": {
      "text/plain": [
       "([{'datalad_stats': ActivityStats(datasets_crawled=1)}],\n",
       " ActivityStats(files=13, urls=13, add_annex=13, downloaded=13, downloaded_size=462503071, datasets_crawled=1, versions=['0.0.20190305']))"
      ]
     },
     "execution_count": 11,
     "metadata": {},
     "output_type": "execute_result"
    }
   ],
   "source": [
    "dl.crawl()"
   ]
  },
  {
   "cell_type": "markdown",
   "metadata": {},
   "source": [
    "I can now interact as with a regular datalad object."
   ]
  },
  {
   "cell_type": "code",
   "execution_count": 12,
   "metadata": {},
   "outputs": [
    {
     "name": "stdout",
     "output_type": "stream",
     "text": [
      "13 annex'd files (0.0 B/441.1 MB present/total size)\n",
      "nothing to save, working tree clean\n",
      "13 annex'd files (0.0 B/441.1 MB present/total size)\n",
      "nothing to save, working tree clean\n"
     ]
    },
    {
     "data": {
      "text/plain": [
       "[{'type': 'file',\n",
       "  'gitshasum': 'b540820107ca5718dc0f196a08edf3729239bfef',\n",
       "  'bytesize': 125,\n",
       "  'prev_gitshasum': 'b540820107ca5718dc0f196a08edf3729239bfef',\n",
       "  'state': 'clean',\n",
       "  'path': '/storage/research/cinn_comp/DUMP/test/.datalad/.gitattributes',\n",
       "  'parentds': '/storage/research/cinn_comp/DUMP/test',\n",
       "  'refds': '/storage/research/cinn_comp/DUMP/test',\n",
       "  'action': 'status',\n",
       "  'status': 'ok'},\n",
       " {'type': 'file',\n",
       "  'gitshasum': '4890fc4db023f90477385a9b49d50bc44da8bef7',\n",
       "  'bytesize': 63,\n",
       "  'prev_gitshasum': '4890fc4db023f90477385a9b49d50bc44da8bef7',\n",
       "  'state': 'clean',\n",
       "  'path': '/storage/research/cinn_comp/DUMP/test/.datalad/config',\n",
       "  'parentds': '/storage/research/cinn_comp/DUMP/test',\n",
       "  'refds': '/storage/research/cinn_comp/DUMP/test',\n",
       "  'action': 'status',\n",
       "  'status': 'ok'},\n",
       " {'type': 'file',\n",
       "  'gitshasum': 'bd8c3f1b507e7f357a1330feae97bca4c4d4d231',\n",
       "  'bytesize': 161,\n",
       "  'prev_gitshasum': 'bd8c3f1b507e7f357a1330feae97bca4c4d4d231',\n",
       "  'state': 'clean',\n",
       "  'path': '/storage/research/cinn_comp/DUMP/test/.datalad/crawl/crawl.cfg',\n",
       "  'parentds': '/storage/research/cinn_comp/DUMP/test',\n",
       "  'refds': '/storage/research/cinn_comp/DUMP/test',\n",
       "  'action': 'status',\n",
       "  'status': 'ok'},\n",
       " {'type': 'file',\n",
       "  'gitshasum': '4dcf726619abb47cdeb4d2bc58954c7d456e092e',\n",
       "  'bytesize': 309,\n",
       "  'prev_gitshasum': '4dcf726619abb47cdeb4d2bc58954c7d456e092e',\n",
       "  'state': 'clean',\n",
       "  'path': '/storage/research/cinn_comp/DUMP/test/.datalad/crawl/versions/master.json',\n",
       "  'parentds': '/storage/research/cinn_comp/DUMP/test',\n",
       "  'refds': '/storage/research/cinn_comp/DUMP/test',\n",
       "  'action': 'status',\n",
       "  'status': 'ok'},\n",
       " {'type': 'file',\n",
       "  'gitshasum': 'c3aaefef9a2470b31ba9213350046ff7cde75737',\n",
       "  'bytesize': 55,\n",
       "  'prev_gitshasum': 'c3aaefef9a2470b31ba9213350046ff7cde75737',\n",
       "  'state': 'clean',\n",
       "  'path': '/storage/research/cinn_comp/DUMP/test/.gitattributes',\n",
       "  'parentds': '/storage/research/cinn_comp/DUMP/test',\n",
       "  'refds': '/storage/research/cinn_comp/DUMP/test',\n",
       "  'action': 'status',\n",
       "  'status': 'ok'},\n",
       " {'type': 'file',\n",
       "  'gitshasum': '2adab9fcb01c5f6c5a9ce173a5d97d066fc95ade',\n",
       "  'bytesize': 39,\n",
       "  'prev_gitshasum': '2adab9fcb01c5f6c5a9ce173a5d97d066fc95ade',\n",
       "  'state': 'clean',\n",
       "  'mtime': 'unknown',\n",
       "  'keyname': 'f0a0b876412099e529397e9acf1791c7.csv',\n",
       "  'backend': 'MD5E',\n",
       "  'key': 'MD5E-s39--f0a0b876412099e529397e9acf1791c7.csv',\n",
       "  'humansize': '39 B',\n",
       "  'error-messages': [],\n",
       "  'hashdirmixed': 'pZ/F4/',\n",
       "  'hashdirlower': 'f54/cfc/',\n",
       "  'has_content': False,\n",
       "  'path': '/storage/research/cinn_comp/DUMP/test/sub-51315_ses-1_task-rest_run-1_AROMAnoiseICs.csv',\n",
       "  'parentds': '/storage/research/cinn_comp/DUMP/test',\n",
       "  'refds': '/storage/research/cinn_comp/DUMP/test',\n",
       "  'action': 'status',\n",
       "  'status': 'ok'},\n",
       " {'type': 'file',\n",
       "  'gitshasum': '926e0b1dfad343910fe14faf2f23bcec29bef44d',\n",
       "  'bytesize': 49,\n",
       "  'prev_gitshasum': '926e0b1dfad343910fe14faf2f23bcec29bef44d',\n",
       "  'state': 'clean',\n",
       "  'mtime': 'unknown',\n",
       "  'keyname': '78badcf91ee66da634673e856093b1d6.json',\n",
       "  'backend': 'MD5E',\n",
       "  'key': 'MD5E-s49--78badcf91ee66da634673e856093b1d6.json',\n",
       "  'humansize': '49 B',\n",
       "  'error-messages': [],\n",
       "  'hashdirmixed': 'Q8/6k/',\n",
       "  'hashdirlower': '88e/598/',\n",
       "  'has_content': False,\n",
       "  'path': '/storage/research/cinn_comp/DUMP/test/sub-51315_ses-1_task-rest_run-1_bold.dtseries.json',\n",
       "  'parentds': '/storage/research/cinn_comp/DUMP/test',\n",
       "  'refds': '/storage/research/cinn_comp/DUMP/test',\n",
       "  'action': 'status',\n",
       "  'status': 'ok'},\n",
       " {'type': 'file',\n",
       "  'gitshasum': 'bc1b33e750d22209d184240893ebcdda50fcedab',\n",
       "  'bytesize': 47516592,\n",
       "  'prev_gitshasum': 'bc1b33e750d22209d184240893ebcdda50fcedab',\n",
       "  'state': 'clean',\n",
       "  'mtime': 'unknown',\n",
       "  'keyname': '07b56caefb4f76afc924edd70cec0fdf.nii',\n",
       "  'backend': 'MD5E',\n",
       "  'key': 'MD5E-s47516592--07b56caefb4f76afc924edd70cec0fdf.nii',\n",
       "  'humansize': '47.52 MB',\n",
       "  'error-messages': [],\n",
       "  'hashdirmixed': 'zW/WF/',\n",
       "  'hashdirlower': 'bcf/af1/',\n",
       "  'has_content': False,\n",
       "  'path': '/storage/research/cinn_comp/DUMP/test/sub-51315_ses-1_task-rest_run-1_bold.dtseries.nii',\n",
       "  'parentds': '/storage/research/cinn_comp/DUMP/test',\n",
       "  'refds': '/storage/research/cinn_comp/DUMP/test',\n",
       "  'action': 'status',\n",
       "  'status': 'ok'},\n",
       " {'type': 'file',\n",
       "  'gitshasum': '91a86198c2690a5c8e5d0c3dc4239948423461d7',\n",
       "  'bytesize': 91732,\n",
       "  'prev_gitshasum': '91a86198c2690a5c8e5d0c3dc4239948423461d7',\n",
       "  'state': 'clean',\n",
       "  'mtime': 'unknown',\n",
       "  'keyname': '6e4761982b2a80d1e753c5dbb3ca914b.tsv',\n",
       "  'backend': 'MD5E',\n",
       "  'key': 'MD5E-s91732--6e4761982b2a80d1e753c5dbb3ca914b.tsv',\n",
       "  'humansize': '91.73 kB',\n",
       "  'error-messages': [],\n",
       "  'hashdirmixed': '0x/fP/',\n",
       "  'hashdirlower': '0de/853/',\n",
       "  'has_content': False,\n",
       "  'path': '/storage/research/cinn_comp/DUMP/test/sub-51315_ses-1_task-rest_run-1_desc-MELODIC_mixing.tsv',\n",
       "  'parentds': '/storage/research/cinn_comp/DUMP/test',\n",
       "  'refds': '/storage/research/cinn_comp/DUMP/test',\n",
       "  'action': 'status',\n",
       "  'status': 'ok'},\n",
       " {'type': 'file',\n",
       "  'gitshasum': '69b2e873d5bf6ceda227260768432bc8c482ad1b',\n",
       "  'bytesize': 70906,\n",
       "  'prev_gitshasum': '69b2e873d5bf6ceda227260768432bc8c482ad1b',\n",
       "  'state': 'clean',\n",
       "  'mtime': 'unknown',\n",
       "  'keyname': '944ac7e32ac385cba433219f99759982.tsv',\n",
       "  'backend': 'MD5E',\n",
       "  'key': 'MD5E-s70906--944ac7e32ac385cba433219f99759982.tsv',\n",
       "  'humansize': '70.91 kB',\n",
       "  'error-messages': [],\n",
       "  'hashdirmixed': '1z/q1/',\n",
       "  'hashdirlower': '4a1/82c/',\n",
       "  'has_content': False,\n",
       "  'path': '/storage/research/cinn_comp/DUMP/test/sub-51315_ses-1_task-rest_run-1_desc-confounds_regressors.tsv',\n",
       "  'parentds': '/storage/research/cinn_comp/DUMP/test',\n",
       "  'refds': '/storage/research/cinn_comp/DUMP/test',\n",
       "  'action': 'status',\n",
       "  'status': 'ok'},\n",
       " {'type': 'file',\n",
       "  'gitshasum': '7104d585b3e0c84fbf0f6c584e55ceb377b3f32d',\n",
       "  'bytesize': 2335672,\n",
       "  'prev_gitshasum': '7104d585b3e0c84fbf0f6c584e55ceb377b3f32d',\n",
       "  'state': 'clean',\n",
       "  'mtime': 'unknown',\n",
       "  'keyname': '40773dfbea87d37b895eb9eebf19d2a6.nii.gz',\n",
       "  'backend': 'MD5E',\n",
       "  'key': 'MD5E-s2335672--40773dfbea87d37b895eb9eebf19d2a6.nii.gz',\n",
       "  'humansize': '2.34 MB',\n",
       "  'error-messages': [],\n",
       "  'hashdirmixed': '9W/PG/',\n",
       "  'hashdirlower': '5cd/afb/',\n",
       "  'has_content': False,\n",
       "  'path': '/storage/research/cinn_comp/DUMP/test/sub-51315_ses-1_task-rest_run-1_space-MNI152NLin2009cAsym_boldref.nii.gz',\n",
       "  'parentds': '/storage/research/cinn_comp/DUMP/test',\n",
       "  'refds': '/storage/research/cinn_comp/DUMP/test',\n",
       "  'action': 'status',\n",
       "  'status': 'ok'},\n",
       " {'type': 'file',\n",
       "  'gitshasum': '10edf92be9f76ddefd5a93c7d3388e1515f6527f',\n",
       "  'bytesize': 52958,\n",
       "  'prev_gitshasum': '10edf92be9f76ddefd5a93c7d3388e1515f6527f',\n",
       "  'state': 'clean',\n",
       "  'mtime': 'unknown',\n",
       "  'keyname': 'e3dde2179d2d8e450ceb88f896374898.nii.gz',\n",
       "  'backend': 'MD5E',\n",
       "  'key': 'MD5E-s52958--e3dde2179d2d8e450ceb88f896374898.nii.gz',\n",
       "  'humansize': '52.96 kB',\n",
       "  'error-messages': [],\n",
       "  'hashdirmixed': 'Gm/Zf/',\n",
       "  'hashdirlower': '6f4/fd5/',\n",
       "  'has_content': False,\n",
       "  'path': '/storage/research/cinn_comp/DUMP/test/sub-51315_ses-1_task-rest_run-1_space-MNI152NLin2009cAsym_desc-brain_mask.nii.gz',\n",
       "  'parentds': '/storage/research/cinn_comp/DUMP/test',\n",
       "  'refds': '/storage/research/cinn_comp/DUMP/test',\n",
       "  'action': 'status',\n",
       "  'status': 'ok'},\n",
       " {'type': 'file',\n",
       "  'gitshasum': 'bdb667848e8d8ef8b82a4365d9d8ae4f527cfa1a',\n",
       "  'bytesize': 148247473,\n",
       "  'prev_gitshasum': 'bdb667848e8d8ef8b82a4365d9d8ae4f527cfa1a',\n",
       "  'state': 'clean',\n",
       "  'mtime': 'unknown',\n",
       "  'keyname': '8f59930a59a3b5d364f567f632c6a388.nii.gz',\n",
       "  'backend': 'MD5E',\n",
       "  'key': 'MD5E-s148247473--8f59930a59a3b5d364f567f632c6a388.nii.gz',\n",
       "  'humansize': '148.25 MB',\n",
       "  'error-messages': [],\n",
       "  'hashdirmixed': 'KM/j6/',\n",
       "  'hashdirlower': '5a6/6b2/',\n",
       "  'has_content': False,\n",
       "  'path': '/storage/research/cinn_comp/DUMP/test/sub-51315_ses-1_task-rest_run-1_space-MNI152NLin2009cAsym_desc-preproc_bold.nii.gz',\n",
       "  'parentds': '/storage/research/cinn_comp/DUMP/test',\n",
       "  'refds': '/storage/research/cinn_comp/DUMP/test',\n",
       "  'action': 'status',\n",
       "  'status': 'ok'},\n",
       " {'type': 'file',\n",
       "  'gitshasum': '2a3ff79d7fba2e5cd76b0966a5bd325cc9cc32e7',\n",
       "  'bytesize': 253664657,\n",
       "  'prev_gitshasum': '2a3ff79d7fba2e5cd76b0966a5bd325cc9cc32e7',\n",
       "  'state': 'clean',\n",
       "  'mtime': 'unknown',\n",
       "  'keyname': '9d9c2415c6642a02e1b98cf082f4e4a6.nii.gz',\n",
       "  'backend': 'MD5E',\n",
       "  'key': 'MD5E-s253664657--9d9c2415c6642a02e1b98cf082f4e4a6.nii.gz',\n",
       "  'humansize': '253.66 MB',\n",
       "  'error-messages': [],\n",
       "  'hashdirmixed': 'kK/Ff/',\n",
       "  'hashdirlower': 'b94/b7d/',\n",
       "  'has_content': False,\n",
       "  'path': '/storage/research/cinn_comp/DUMP/test/sub-51315_ses-1_task-rest_run-1_space-MNI152NLin2009cAsym_desc-smoothAROMAnonaggr_bold.nii.gz',\n",
       "  'parentds': '/storage/research/cinn_comp/DUMP/test',\n",
       "  'refds': '/storage/research/cinn_comp/DUMP/test',\n",
       "  'action': 'status',\n",
       "  'status': 'ok'},\n",
       " {'type': 'file',\n",
       "  'gitshasum': '3b308b0809926b976f53062ac32669c5eaf6334a',\n",
       "  'bytesize': 31033,\n",
       "  'prev_gitshasum': '3b308b0809926b976f53062ac32669c5eaf6334a',\n",
       "  'state': 'clean',\n",
       "  'mtime': 'unknown',\n",
       "  'keyname': '38094bc41b04ba110dae71d597f2aec0.nii.gz',\n",
       "  'backend': 'MD5E',\n",
       "  'key': 'MD5E-s31033--38094bc41b04ba110dae71d597f2aec0.nii.gz',\n",
       "  'humansize': '31.03 kB',\n",
       "  'error-messages': [],\n",
       "  'hashdirmixed': 'Z7/jw/',\n",
       "  'hashdirlower': '671/5b3/',\n",
       "  'has_content': False,\n",
       "  'path': '/storage/research/cinn_comp/DUMP/test/sub-51315_ses-1_task-rest_run-1_space-T1w_desc-aparcaseg_dseg.nii.gz',\n",
       "  'parentds': '/storage/research/cinn_comp/DUMP/test',\n",
       "  'refds': '/storage/research/cinn_comp/DUMP/test',\n",
       "  'action': 'status',\n",
       "  'status': 'ok'},\n",
       " {'type': 'file',\n",
       "  'gitshasum': 'd651faf13e9dea5f2377ee3d286784f35736ae68',\n",
       "  'bytesize': 28611,\n",
       "  'prev_gitshasum': 'd651faf13e9dea5f2377ee3d286784f35736ae68',\n",
       "  'state': 'clean',\n",
       "  'mtime': 'unknown',\n",
       "  'keyname': 'ff039405bbbb2f21c652fcdde229fa31.nii.gz',\n",
       "  'backend': 'MD5E',\n",
       "  'key': 'MD5E-s28611--ff039405bbbb2f21c652fcdde229fa31.nii.gz',\n",
       "  'humansize': '28.61 kB',\n",
       "  'error-messages': [],\n",
       "  'hashdirmixed': 'WX/pf/',\n",
       "  'hashdirlower': '384/f4f/',\n",
       "  'has_content': False,\n",
       "  'path': '/storage/research/cinn_comp/DUMP/test/sub-51315_ses-1_task-rest_run-1_space-T1w_desc-aseg_dseg.nii.gz',\n",
       "  'parentds': '/storage/research/cinn_comp/DUMP/test',\n",
       "  'refds': '/storage/research/cinn_comp/DUMP/test',\n",
       "  'action': 'status',\n",
       "  'status': 'ok'},\n",
       " {'type': 'file',\n",
       "  'gitshasum': 'afaabcbd4537c0255988b4f5ff705219c4afbc3d',\n",
       "  'bytesize': 5221384,\n",
       "  'prev_gitshasum': 'afaabcbd4537c0255988b4f5ff705219c4afbc3d',\n",
       "  'state': 'clean',\n",
       "  'mtime': 'unknown',\n",
       "  'keyname': '8067b8f690f9c278ea2fc4cc52476b1c.func.gii',\n",
       "  'backend': 'MD5E',\n",
       "  'key': 'MD5E-s5221384--8067b8f690f9c278ea2fc4cc52476b1c.func.gii',\n",
       "  'humansize': '5.22 MB',\n",
       "  'error-messages': [],\n",
       "  'hashdirmixed': 'gp/zV/',\n",
       "  'hashdirlower': '93b/4a9/',\n",
       "  'has_content': False,\n",
       "  'path': '/storage/research/cinn_comp/DUMP/test/sub-51315_ses-1_task-rest_run-1_space-fsaverage5_hemi-L.func.gii',\n",
       "  'parentds': '/storage/research/cinn_comp/DUMP/test',\n",
       "  'refds': '/storage/research/cinn_comp/DUMP/test',\n",
       "  'action': 'status',\n",
       "  'status': 'ok'},\n",
       " {'type': 'file',\n",
       "  'gitshasum': 'f0b1258d719276c90f9b6f03b1b9d8745eb9017a',\n",
       "  'bytesize': 5241965,\n",
       "  'prev_gitshasum': 'f0b1258d719276c90f9b6f03b1b9d8745eb9017a',\n",
       "  'state': 'clean',\n",
       "  'mtime': 'unknown',\n",
       "  'keyname': 'd49a103de2682990016a777bf91fcb8b.func.gii',\n",
       "  'backend': 'MD5E',\n",
       "  'key': 'MD5E-s5241965--d49a103de2682990016a777bf91fcb8b.func.gii',\n",
       "  'humansize': '5.24 MB',\n",
       "  'error-messages': [],\n",
       "  'hashdirmixed': 'fG/q6/',\n",
       "  'hashdirlower': '3d6/5ac/',\n",
       "  'has_content': False,\n",
       "  'path': '/storage/research/cinn_comp/DUMP/test/sub-51315_ses-1_task-rest_run-1_space-fsaverage5_hemi-R.func.gii',\n",
       "  'parentds': '/storage/research/cinn_comp/DUMP/test',\n",
       "  'refds': '/storage/research/cinn_comp/DUMP/test',\n",
       "  'action': 'status',\n",
       "  'status': 'ok'}]"
      ]
     },
     "execution_count": 12,
     "metadata": {},
     "output_type": "execute_result"
    }
   ],
   "source": [
    "mset.status(annex='all')"
   ]
  },
  {
   "cell_type": "markdown",
   "metadata": {},
   "source": [
    "Meaning that I can get arbitrary files."
   ]
  },
  {
   "cell_type": "code",
   "execution_count": 15,
   "metadata": {},
   "outputs": [],
   "source": [
    "file2get='sub-51315_ses-1_task-rest_run-1_space-fsaverage5_hemi-R.func.gii'"
   ]
  },
  {
   "cell_type": "code",
   "execution_count": 13,
   "metadata": {},
   "outputs": [
    {
     "data": {
      "text/plain": [
       "[{'type': 'file',\n",
       "  'refds': '/storage/research/cinn_comp/DUMP/test',\n",
       "  'status': 'ok',\n",
       "  'path': '/storage/research/cinn_comp/DUMP/test/sub-51315_ses-1_task-rest_run-1_space-fsaverage5_hemi-R.func.gii',\n",
       "  'action': 'get',\n",
       "  'annexkey': 'MD5E-s5241965--d49a103de2682990016a777bf91fcb8b.func.gii',\n",
       "  'message': 'from datalad...'}]"
      ]
     },
     "execution_count": 13,
     "metadata": {},
     "output_type": "execute_result"
    }
   ],
   "source": [
    "mset.get(file2get)"
   ]
  },
  {
   "cell_type": "markdown",
   "metadata": {},
   "source": [
    "To prove that I have got this data."
   ]
  },
  {
   "cell_type": "code",
   "execution_count": 14,
   "metadata": {},
   "outputs": [],
   "source": [
    "import nibabel as nb"
   ]
  },
  {
   "cell_type": "code",
   "execution_count": 16,
   "metadata": {},
   "outputs": [
    {
     "name": "stderr",
     "output_type": "stream",
     "text": [
      "/home/users/yg916972/.conda/envs/p3env/lib/python3.6/site-packages/ipykernel_launcher.py:1: DeprecationWarning: giftiio.read function deprecated. Use nibabel.load() instead.\n",
      "\n",
      "* deprecated from version: 2.1\n",
      "* Will raise <class 'nibabel.deprecator.ExpiredDeprecationError'> as of version: 4.0\n",
      "  \"\"\"Entry point for launching an IPython kernel.\n"
     ]
    }
   ],
   "source": [
    "mygift=nb.gifti.giftiio.read(os.path.join(mset.path,file2get))"
   ]
  },
  {
   "cell_type": "code",
   "execution_count": 18,
   "metadata": {},
   "outputs": [],
   "source": [
    "ts_data=mygift.agg_data()"
   ]
  },
  {
   "cell_type": "markdown",
   "metadata": {},
   "source": [
    "A time series in fsaverage space!"
   ]
  },
  {
   "cell_type": "code",
   "execution_count": 19,
   "metadata": {},
   "outputs": [
    {
     "data": {
      "text/plain": [
       "(10242, 120)"
      ]
     },
     "execution_count": 19,
     "metadata": {},
     "output_type": "execute_result"
    }
   ],
   "source": [
    "ts_data.shape"
   ]
  },
  {
   "cell_type": "code",
   "execution_count": 21,
   "metadata": {},
   "outputs": [],
   "source": [
    "import numpy as np\n",
    "mvol=np.mean(ts_data,axis=1)"
   ]
  },
  {
   "cell_type": "code",
   "execution_count": null,
   "metadata": {},
   "outputs": [],
   "source": [
    "mvol"
   ]
  }
 ],
 "metadata": {
  "kernelspec": {
   "display_name": "Python 3",
   "language": "python",
   "name": "python3"
  },
  "language_info": {
   "codemirror_mode": {
    "name": "ipython",
    "version": 3
   },
   "file_extension": ".py",
   "mimetype": "text/x-python",
   "name": "python",
   "nbconvert_exporter": "python",
   "pygments_lexer": "ipython3",
   "version": "3.6.10"
  }
 },
 "nbformat": 4,
 "nbformat_minor": 4
}
