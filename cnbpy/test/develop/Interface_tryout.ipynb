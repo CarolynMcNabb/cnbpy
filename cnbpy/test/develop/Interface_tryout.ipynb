{
 "cells": [
  {
   "cell_type": "markdown",
   "metadata": {},
   "source": [
    "# Work so far."
   ]
  },
  {
   "cell_type": "code",
   "execution_count": 3,
   "metadata": {},
   "outputs": [
    {
     "name": "stdout",
     "output_type": "stream",
     "text": [
      "The autoreload extension is already loaded. To reload it, use:\n",
      "  %reload_ext autoreload\n"
     ]
    }
   ],
   "source": [
    "%load_ext autoreload\n",
    "%autoreload 2\n",
    "import os\n",
    "from cnbpy.datalad import DATASET,SUBJECT\n",
    "from cnbpy.bids import BIDS"
   ]
  },
  {
   "cell_type": "markdown",
   "metadata": {},
   "source": [
    "To define a 'DATASET', we simply need a local path and a path to the datalad BIDS repository, as listed on http://datasets.datalad.org/"
   ]
  },
  {
   "cell_type": "code",
   "execution_count": 4,
   "metadata": {},
   "outputs": [],
   "source": [
    "local_path='/Users/nicholashedger/Documents/DATALAD_TEST'"
   ]
  },
  {
   "cell_type": "markdown",
   "metadata": {},
   "source": [
    "For instance, although the ABIDE dataset itself is not in BIDS format, the data from the individual sites is, hence we point to an individual site."
   ]
  },
  {
   "cell_type": "code",
   "execution_count": 5,
   "metadata": {},
   "outputs": [],
   "source": [
    "source='///abide2/RawData/BNI_1'"
   ]
  },
  {
   "cell_type": "markdown",
   "metadata": {},
   "source": [
    "I define a dataset class. "
   ]
  },
  {
   "cell_type": "code",
   "execution_count": 6,
   "metadata": {},
   "outputs": [],
   "source": [
    "DSET=DATASET(local_path,source)"
   ]
  },
  {
   "cell_type": "markdown",
   "metadata": {},
   "source": [
    "Which has an 'install' method."
   ]
  },
  {
   "cell_type": "code",
   "execution_count": 7,
   "metadata": {},
   "outputs": [
    {
     "name": "stderr",
     "output_type": "stream",
     "text": [
      "[INFO] Cloning dataset to Dataset(/Users/nicholashedger/Documents/DATALAD_TEST) \n",
      "[INFO] Attempting to clone from http://datasets.datalad.org/abide2/RawData/BNI_1 to /Users/nicholashedger/Documents/DATALAD_TEST \n",
      "[INFO] Attempting to clone from http://datasets.datalad.org/abide2/RawData/BNI_1/.git to /Users/nicholashedger/Documents/DATALAD_TEST \n",
      "[INFO] Start enumerating objects \n",
      "[INFO] Start counting objects \n",
      "[INFO] Start compressing objects \n",
      "[INFO] Start receiving objects \n",
      "[INFO] Start resolving deltas \n",
      "[INFO] Completed clone attempts for Dataset(/Users/nicholashedger/Documents/DATALAD_TEST) \n",
      "[INFO] Scanning for unlocked files (this may take some time) \n"
     ]
    }
   ],
   "source": [
    "DSET.install()"
   ]
  },
  {
   "cell_type": "markdown",
   "metadata": {},
   "source": [
    "This has 'installed the data' at the local_path location. We can see that it has installed a bunch directories that mimic the structure of the Actual data.\n",
    "\n",
    "This isn't populated with real data, however. "
   ]
  },
  {
   "cell_type": "code",
   "execution_count": 8,
   "metadata": {},
   "outputs": [
    {
     "data": {
      "text/plain": [
       "['task-rest_bold.json',\n",
       " 'sub-29042',\n",
       " 'sub-30150',\n",
       " 'sub-29045',\n",
       " 'sub-29011',\n",
       " 'sub-29029',\n",
       " 'sub-29016',\n",
       " 'sub-29020',\n",
       " 'sub-29018',\n",
       " 'sub-29027',\n",
       " 'sub-29044',\n",
       " 'sub-29043',\n",
       " 'sub-30151',\n",
       " 'sub-29019',\n",
       " 'sub-29026',\n",
       " 'derivatives',\n",
       " 'sub-29021',\n",
       " 'sub-29028',\n",
       " 'sub-29017',\n",
       " 'sub-29010',\n",
       " 'sub-29032',\n",
       " 'sub-29035',\n",
       " 'sub-29050',\n",
       " 'sub-29034',\n",
       " 'sub-29033',\n",
       " 'sub-30144',\n",
       " 'sub-29056',\n",
       " 'sub-29051',\n",
       " '.bidsignore',\n",
       " 'dataset_description.json',\n",
       " 'T1w.json',\n",
       " 'sub-29015',\n",
       " 'sub-29012',\n",
       " 'sub-29024',\n",
       " 'sub-29023',\n",
       " 'sub-29048',\n",
       " 'sub-29046',\n",
       " 'sub-29041',\n",
       " '.gitattributes',\n",
       " 'sub-29022',\n",
       " 'sub-29025',\n",
       " 'sub-29013',\n",
       " 'sub-29014',\n",
       " 'sub-29040',\n",
       " 'sub-29047',\n",
       " 'sub-29049',\n",
       " 'sub-30146',\n",
       " 'sub-29054',\n",
       " 'sub-29053',\n",
       " 'sub-30148',\n",
       " 'sub-29036',\n",
       " 'sub-29009',\n",
       " 'sub-29031',\n",
       " 'participants.tsv',\n",
       " 'sub-29007',\n",
       " 'sub-29038',\n",
       " 'sub-30149',\n",
       " '.git',\n",
       " 'sub-29052',\n",
       " 'sub-30147',\n",
       " 'sub-29055',\n",
       " 'sub-29006',\n",
       " 'sub-29039',\n",
       " 'sub-29030',\n",
       " 'sub-29037',\n",
       " 'sub-29008',\n",
       " '.datalad']"
      ]
     },
     "execution_count": 8,
     "metadata": {},
     "output_type": "execute_result"
    }
   ],
   "source": [
    "os.listdir(DSET.local_base)"
   ]
  },
  {
   "cell_type": "markdown",
   "metadata": {},
   "source": [
    "Because the structure of the dataset already exists, we can leverage the BIDS class to get information about it (before we have actually downloaded anything)"
   ]
  },
  {
   "cell_type": "code",
   "execution_count": 9,
   "metadata": {},
   "outputs": [],
   "source": [
    "myBIDS=BIDS(DSET.local_base)"
   ]
  },
  {
   "cell_type": "code",
   "execution_count": 10,
   "metadata": {},
   "outputs": [
    {
     "name": "stdout",
     "output_type": "stream",
     "text": [
      "Found 58 participant(s) ['29006', '29007', '29008', '29009', '29010', '29011', '29012', '29013', '29014', '29015', '29016', '29017', '29018', '29019', '29020', '29021', '29022', '29023', '29024', '29025', '29026', '29027', '29028', '29029', '29030', '29031', '29032', '29033', '29034', '29035', '29036', '29037', '29038', '29039', '29040', '29041', '29042', '29043', '29044', '29045', '29046', '29047', '29048', '29049', '29050', '29051', '29052', '29053', '29054', '29055', '29056', '30144', '30146', '30147', '30148', '30149', '30150', '30151']\n",
      "[\"Found 1 session(s) for sub-29006 ['1']\", \"Found 1 session(s) for sub-29007 ['1']\", \"Found 1 session(s) for sub-29008 ['1']\", \"Found 1 session(s) for sub-29009 ['1']\", \"Found 1 session(s) for sub-29010 ['1']\", \"Found 1 session(s) for sub-29011 ['1']\", \"Found 1 session(s) for sub-29012 ['1']\", \"Found 1 session(s) for sub-29013 ['1']\", \"Found 1 session(s) for sub-29014 ['1']\", \"Found 1 session(s) for sub-29015 ['1']\", \"Found 1 session(s) for sub-29016 ['1']\", \"Found 1 session(s) for sub-29017 ['1']\", \"Found 1 session(s) for sub-29018 ['1']\", \"Found 1 session(s) for sub-29019 ['1']\", \"Found 1 session(s) for sub-29020 ['1']\", \"Found 1 session(s) for sub-29021 ['1']\", \"Found 1 session(s) for sub-29022 ['1']\", \"Found 1 session(s) for sub-29023 ['1']\", \"Found 1 session(s) for sub-29024 ['1']\", \"Found 1 session(s) for sub-29025 ['1']\", \"Found 1 session(s) for sub-29026 ['1']\", \"Found 1 session(s) for sub-29027 ['1']\", \"Found 1 session(s) for sub-29028 ['1']\", \"Found 1 session(s) for sub-29029 ['1']\", \"Found 1 session(s) for sub-29030 ['1']\", \"Found 1 session(s) for sub-29031 ['1']\", \"Found 1 session(s) for sub-29032 ['1']\", \"Found 1 session(s) for sub-29033 ['1']\", \"Found 1 session(s) for sub-29034 ['1']\", \"Found 1 session(s) for sub-29035 ['1']\", \"Found 1 session(s) for sub-29036 ['1']\", \"Found 1 session(s) for sub-29037 ['1']\", \"Found 1 session(s) for sub-29038 ['1']\", \"Found 1 session(s) for sub-29039 ['1']\", \"Found 1 session(s) for sub-29040 ['1']\", \"Found 1 session(s) for sub-29041 ['1']\", \"Found 1 session(s) for sub-29042 ['1']\", \"Found 1 session(s) for sub-29043 ['1']\", \"Found 1 session(s) for sub-29044 ['1']\", \"Found 1 session(s) for sub-29045 ['1']\", \"Found 1 session(s) for sub-29046 ['1']\", \"Found 1 session(s) for sub-29047 ['1']\", \"Found 1 session(s) for sub-29048 ['1']\", \"Found 1 session(s) for sub-29049 ['1']\", \"Found 1 session(s) for sub-29050 ['1']\", \"Found 1 session(s) for sub-29051 ['1']\", \"Found 1 session(s) for sub-29052 ['1']\", \"Found 1 session(s) for sub-29053 ['1']\", \"Found 1 session(s) for sub-29054 ['1']\", \"Found 1 session(s) for sub-29055 ['1']\", \"Found 1 session(s) for sub-29056 ['1']\", \"Found 1 session(s) for sub-30144 ['1']\", \"Found 1 session(s) for sub-30146 ['1']\", \"Found 1 session(s) for sub-30147 ['1']\", \"Found 1 session(s) for sub-30148 ['1']\", \"Found 1 session(s) for sub-30149 ['1']\", \"Found 1 session(s) for sub-30150 ['1']\", \"Found 1 session(s) for sub-30151 ['1']\"]\n",
      "[\"Found 1 task(s) for sub-29006 and ses-1 ['rest']\", \"Found 1 task(s) for sub-29007 and ses-1 ['rest']\", \"Found 1 task(s) for sub-29008 and ses-1 ['rest']\", \"Found 1 task(s) for sub-29009 and ses-1 ['rest']\", \"Found 1 task(s) for sub-29010 and ses-1 ['rest']\", \"Found 1 task(s) for sub-29011 and ses-1 ['rest']\", \"Found 1 task(s) for sub-29012 and ses-1 ['rest']\", \"Found 1 task(s) for sub-29013 and ses-1 ['rest']\", \"Found 1 task(s) for sub-29014 and ses-1 ['rest']\", \"Found 1 task(s) for sub-29015 and ses-1 ['rest']\", \"Found 1 task(s) for sub-29016 and ses-1 ['rest']\", \"Found 1 task(s) for sub-29017 and ses-1 ['rest']\", \"Found 1 task(s) for sub-29018 and ses-1 ['rest']\", \"Found 1 task(s) for sub-29019 and ses-1 ['rest']\", \"Found 1 task(s) for sub-29020 and ses-1 ['rest']\", \"Found 1 task(s) for sub-29021 and ses-1 ['rest']\", \"Found 1 task(s) for sub-29022 and ses-1 ['rest']\", \"Found 1 task(s) for sub-29023 and ses-1 ['rest']\", \"Found 1 task(s) for sub-29024 and ses-1 ['rest']\", \"Found 1 task(s) for sub-29025 and ses-1 ['rest']\", \"Found 1 task(s) for sub-29026 and ses-1 ['rest']\", \"Found 1 task(s) for sub-29027 and ses-1 ['rest']\", \"Found 1 task(s) for sub-29028 and ses-1 ['rest']\", \"Found 1 task(s) for sub-29029 and ses-1 ['rest']\", \"Found 1 task(s) for sub-29030 and ses-1 ['rest']\", \"Found 1 task(s) for sub-29031 and ses-1 ['rest']\", \"Found 1 task(s) for sub-29032 and ses-1 ['rest']\", \"Found 1 task(s) for sub-29033 and ses-1 ['rest']\", \"Found 1 task(s) for sub-29034 and ses-1 ['rest']\", \"Found 1 task(s) for sub-29035 and ses-1 ['rest']\", \"Found 1 task(s) for sub-29036 and ses-1 ['rest']\", \"Found 1 task(s) for sub-29037 and ses-1 ['rest']\", \"Found 1 task(s) for sub-29038 and ses-1 ['rest']\", \"Found 1 task(s) for sub-29039 and ses-1 ['rest']\", \"Found 1 task(s) for sub-29040 and ses-1 ['rest']\", \"Found 1 task(s) for sub-29041 and ses-1 ['rest']\", \"Found 1 task(s) for sub-29042 and ses-1 ['rest']\", \"Found 1 task(s) for sub-29043 and ses-1 ['rest']\", \"Found 1 task(s) for sub-29044 and ses-1 ['rest']\", \"Found 1 task(s) for sub-29045 and ses-1 ['rest']\", \"Found 1 task(s) for sub-29046 and ses-1 ['rest']\", \"Found 1 task(s) for sub-29047 and ses-1 ['rest']\", \"Found 1 task(s) for sub-29048 and ses-1 ['rest']\", \"Found 1 task(s) for sub-29049 and ses-1 ['rest']\", \"Found 1 task(s) for sub-29050 and ses-1 ['rest']\", \"Found 1 task(s) for sub-29051 and ses-1 ['rest']\", \"Found 1 task(s) for sub-29052 and ses-1 ['rest']\", \"Found 1 task(s) for sub-29053 and ses-1 ['rest']\", \"Found 1 task(s) for sub-29054 and ses-1 ['rest']\", \"Found 1 task(s) for sub-29055 and ses-1 ['rest']\", \"Found 1 task(s) for sub-29056 and ses-1 ['rest']\", \"Found 1 task(s) for sub-30144 and ses-1 ['rest']\", \"Found 1 task(s) for sub-30146 and ses-1 ['rest']\", \"Found 1 task(s) for sub-30147 and ses-1 ['rest']\", \"Found 1 task(s) for sub-30148 and ses-1 ['rest']\", \"Found 1 task(s) for sub-30149 and ses-1 ['rest']\", \"Found 1 task(s) for sub-30150 and ses-1 ['rest']\", \"Found 1 task(s) for sub-30151 and ses-1 ['rest']\"]\n"
     ]
    }
   ],
   "source": [
    "myBIDS.elaborate()"
   ]
  },
  {
   "cell_type": "code",
   "execution_count": 11,
   "metadata": {},
   "outputs": [
    {
     "data": {
      "text/plain": [
       "['/Users/nicholashedger/Documents/DATALAD_TEST/sub-29006/ses-1/anat/sub-29006_ses-1_run-1_T1w.nii.gz']"
      ]
     },
     "execution_count": 11,
     "metadata": {},
     "output_type": "execute_result"
    }
   ],
   "source": [
    "myBIDS.find_anats('29006','1')"
   ]
  },
  {
   "cell_type": "code",
   "execution_count": 12,
   "metadata": {},
   "outputs": [
    {
     "data": {
      "text/plain": [
       "['/Users/nicholashedger/Documents/DATALAD_TEST/sub-29006/ses-1/func/sub-29006_ses-1_task-rest_run-1_bold.nii.gz']"
      ]
     },
     "execution_count": 12,
     "metadata": {},
     "output_type": "execute_result"
    }
   ],
   "source": [
    "myBIDS.find_funcs('29006','1','rest')"
   ]
  },
  {
   "cell_type": "markdown",
   "metadata": {},
   "source": [
    "If we want to actually download some data, we can do this with the subject class. "
   ]
  },
  {
   "cell_type": "code",
   "execution_count": 14,
   "metadata": {},
   "outputs": [],
   "source": [
    "from cnbpy.datalad import SUBJECT"
   ]
  },
  {
   "cell_type": "code",
   "execution_count": 15,
   "metadata": {},
   "outputs": [],
   "source": [
    "mysubject=SUBJECT(DSET,'29006')"
   ]
  },
  {
   "cell_type": "code",
   "execution_count": 16,
   "metadata": {},
   "outputs": [],
   "source": [
    "mysubject.get()"
   ]
  },
  {
   "cell_type": "markdown",
   "metadata": {},
   "source": [
    "This subject's data is now downloaded.  "
   ]
  },
  {
   "cell_type": "markdown",
   "metadata": {},
   "source": [
    "We can remove as follows. "
   ]
  },
  {
   "cell_type": "code",
   "execution_count": 17,
   "metadata": {},
   "outputs": [],
   "source": [
    "mysubject.remove()"
   ]
  },
  {
   "cell_type": "markdown",
   "metadata": {},
   "source": [
    "We can remove the entire dataset as follows."
   ]
  },
  {
   "cell_type": "code",
   "execution_count": 18,
   "metadata": {},
   "outputs": [],
   "source": [
    "DSET.remove()"
   ]
  },
  {
   "cell_type": "code",
   "execution_count": 19,
   "metadata": {},
   "outputs": [
    {
     "ename": "FileNotFoundError",
     "evalue": "[Errno 2] No such file or directory: '/Users/nicholashedger/Documents/DATALAD_TEST'",
     "output_type": "error",
     "traceback": [
      "\u001b[0;31m---------------------------------------------------------------------------\u001b[0m",
      "\u001b[0;31mFileNotFoundError\u001b[0m                         Traceback (most recent call last)",
      "\u001b[0;32m<ipython-input-19-54f769a7bee5>\u001b[0m in \u001b[0;36m<module>\u001b[0;34m\u001b[0m\n\u001b[0;32m----> 1\u001b[0;31m \u001b[0mos\u001b[0m\u001b[0;34m.\u001b[0m\u001b[0mlistdir\u001b[0m\u001b[0;34m(\u001b[0m\u001b[0mDSET\u001b[0m\u001b[0;34m.\u001b[0m\u001b[0mlocal_base\u001b[0m\u001b[0;34m)\u001b[0m\u001b[0;34m\u001b[0m\u001b[0;34m\u001b[0m\u001b[0m\n\u001b[0m",
      "\u001b[0;31mFileNotFoundError\u001b[0m: [Errno 2] No such file or directory: '/Users/nicholashedger/Documents/DATALAD_TEST'"
     ]
    }
   ],
   "source": [
    "os.listdir(DSET.local_base)"
   ]
  },
  {
   "cell_type": "markdown",
   "metadata": {},
   "source": [
    "I have written help for all of the methods written so far. "
   ]
  },
  {
   "cell_type": "code",
   "execution_count": 20,
   "metadata": {},
   "outputs": [
    {
     "name": "stdout",
     "output_type": "stream",
     "text": [
      "Help on DATASET in module cnbpy.datalad object:\n",
      "\n",
      "class DATASET(builtins.object)\n",
      " |  DATASET\n",
      " |  Class for initialising a dataset, using datalad.\n",
      " |  \n",
      " |  Methods defined here:\n",
      " |  \n",
      " |  __init__(self, local_base, source, isabide=False)\n",
      " |      Initialise the DATASET class.\n",
      " |      \n",
      " |      Parameters\n",
      " |      ----------\n",
      " |      local_base: Path to the local directory where the dataset is to be stored (string)\n",
      " |      source: path to the datalad BIDS repository, as listed on http://datasets.datalad.org/ (string)\n",
      " |      isabide: If this is the ABIDE dataset, will load in extra info.\n",
      " |      \n",
      " |      Returns\n",
      " |      -------\n",
      " |      self.source: source\n",
      " |      self.local_base: local base\n",
      " |      self.dset: datalad class\n",
      " |      \n",
      " |      Notes\n",
      " |      -------\n",
      " |      1. The idea is to set the 'source' to a BIDS directory, that is populated by 'sub-' directories.\n",
      " |      2. This doesn't seem to behave well on my removable storage.\n",
      " |  \n",
      " |  get_abide_info(self)\n",
      " |      Retrieves ABIDE information.\n",
      " |      \n",
      " |      Returns\n",
      " |      -------\n",
      " |      self.demofile: The demographic files (pandas dataframe).\n",
      " |      self.anat_q: The anatomical quality file (pandas dataframe).\n",
      " |      self.func_q: The functional quality file (pandas dataframe).\n",
      " |  \n",
      " |  install(self)\n",
      " |      Installs the dataset using http://docs.datalad.org/en/stable/generated/man/datalad-install.html\n",
      " |      It will create a bunch of symbolic links to the dataset.\n",
      " |      The subject data itself can be retrieved using the 'subject' class.\n",
      " |  \n",
      " |  remove(self)\n",
      " |      Removes the dataset using http://docs.datalad.org/en/stable/generated/man/datalad-remove.html\n",
      " |  \n",
      " |  ----------------------------------------------------------------------\n",
      " |  Data descriptors defined here:\n",
      " |  \n",
      " |  __dict__\n",
      " |      dictionary for instance variables (if defined)\n",
      " |  \n",
      " |  __weakref__\n",
      " |      list of weak references to the object (if defined)\n",
      "\n"
     ]
    }
   ],
   "source": [
    "help(DSET)"
   ]
  },
  {
   "cell_type": "code",
   "execution_count": 46,
   "metadata": {},
   "outputs": [
    {
     "name": "stdout",
     "output_type": "stream",
     "text": [
      "Help on method find_anats in module cnbpy.bids:\n",
      "\n",
      "find_anats(sub, ses, weight='T1') method of cnbpy.bids.BIDS instance\n",
      "    Finds anatomical files for a given subject, session.\n",
      "    \n",
      "    Parameters\n",
      "    ----------\n",
      "    sub: Subject identifier (string)\n",
      "    ses: Session identifier (string)\n",
      "    weight: What type of weight (optional, default ='T1')\n",
      "    \n",
      "    Returns\n",
      "    -------\n",
      "    anats: Anatomical files that meet the criteria (list).\n",
      "\n"
     ]
    }
   ],
   "source": [
    "help(myBIDS.find_anats)"
   ]
  },
  {
   "cell_type": "code",
   "execution_count": null,
   "metadata": {},
   "outputs": [],
   "source": []
  }
 ],
 "metadata": {
  "kernelspec": {
   "display_name": "py3env",
   "language": "python",
   "name": "py3env"
  },
  "language_info": {
   "codemirror_mode": {
    "name": "ipython",
    "version": 3
   },
   "file_extension": ".py",
   "mimetype": "text/x-python",
   "name": "python",
   "nbconvert_exporter": "python",
   "pygments_lexer": "ipython3",
   "version": "3.6.10"
  }
 },
 "nbformat": 4,
 "nbformat_minor": 4
}
