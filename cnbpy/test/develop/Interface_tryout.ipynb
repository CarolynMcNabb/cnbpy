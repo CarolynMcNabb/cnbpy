{
 "cells": [
  {
   "cell_type": "markdown",
   "metadata": {},
   "source": [
    "# Work so far."
   ]
  },
  {
   "cell_type": "code",
   "execution_count": 33,
   "metadata": {},
   "outputs": [],
   "source": [
    "import numpy as np"
   ]
  },
  {
   "cell_type": "code",
   "execution_count": 1,
   "metadata": {},
   "outputs": [
    {
     "name": "stderr",
     "output_type": "stream",
     "text": [
      "It is highly recommended to configure Git before using DataLad. Set both 'user.name' and 'user.email' configuration variables.\n",
      "It is highly recommended to configure Git before using DataLad. Set both 'user.name' and 'user.email' configuration variables.\n"
     ]
    }
   ],
   "source": [
    "%load_ext autoreload\n",
    "%autoreload 2\n",
    "import os\n",
    "from cnbpy.datalad import DATASET,SUBJECT, ABIDE_DATASET\n",
    "from cnbpy.bids import BIDS\n",
    "from cnbpy.fmriprep import FMRIPREP"
   ]
  },
  {
   "cell_type": "markdown",
   "metadata": {},
   "source": [
    "To define a 'DATASET', we simply need a local path and a path to the datalad BIDS repository, as listed on http://datasets.datalad.org/"
   ]
  },
  {
   "cell_type": "code",
   "execution_count": 2,
   "metadata": {},
   "outputs": [],
   "source": [
    "local_path='/storage/research/cinn_comp/nicktest'"
   ]
  },
  {
   "cell_type": "markdown",
   "metadata": {},
   "source": [
    "For instance, although the ABIDE dataset itself is not in BIDS format, the data from the individual sites is, hence we point to an individual site."
   ]
  },
  {
   "cell_type": "code",
   "execution_count": 3,
   "metadata": {},
   "outputs": [],
   "source": [
    "source='///abide2/RawData/GU_1'"
   ]
  },
  {
   "cell_type": "markdown",
   "metadata": {},
   "source": [
    "I define a dataset class. "
   ]
  },
  {
   "cell_type": "code",
   "execution_count": 4,
   "metadata": {},
   "outputs": [],
   "source": [
    "DSET=DATASET(local_path,source)"
   ]
  },
  {
   "cell_type": "markdown",
   "metadata": {},
   "source": [
    "Which has an 'install' method."
   ]
  },
  {
   "cell_type": "code",
   "execution_count": 39,
   "metadata": {},
   "outputs": [],
   "source": [
    "DSET.remove()"
   ]
  },
  {
   "cell_type": "code",
   "execution_count": 5,
   "metadata": {},
   "outputs": [
    {
     "name": "stderr",
     "output_type": "stream",
     "text": [
      "[INFO] Cloning dataset to Dataset(/storage/research/cinn_comp/nicktest) \n",
      "[INFO] Attempting to clone from http://datasets.datalad.org/abide2/RawData/GU_1 to /storage/research/cinn_comp/nicktest \n",
      "[INFO] Attempting to clone from http://datasets.datalad.org/abide2/RawData/GU_1/.git to /storage/research/cinn_comp/nicktest \n",
      "[INFO] Start enumerating objects \n",
      "[INFO] Start counting objects \n",
      "[INFO] Start compressing objects \n",
      "[INFO] Completed clone attempts for Dataset(/storage/research/cinn_comp/nicktest) \n",
      "[INFO] Scanning for unlocked files (this may take some time) \n"
     ]
    }
   ],
   "source": [
    "DSET.install()"
   ]
  },
  {
   "cell_type": "markdown",
   "metadata": {},
   "source": [
    "This has 'installed the data' at the local_path location. We can see that it has installed a bunch directories that mimic the structure of the Actual data.\n",
    "\n",
    "This isn't populated with real data, however. "
   ]
  },
  {
   "cell_type": "code",
   "execution_count": 6,
   "metadata": {},
   "outputs": [
    {
     "data": {
      "text/plain": [
       "['sub-28771',\n",
       " 'sub-28795',\n",
       " 'sub-28822',\n",
       " 'sub-28828',\n",
       " '.datalad',\n",
       " 'sub-28743',\n",
       " 'sub-28749',\n",
       " 'sub-28810',\n",
       " 'sub-28786',\n",
       " 'sub-28768',\n",
       " 'sub-28762',\n",
       " '.git',\n",
       " 'sub-28831',\n",
       " 'sub-28846',\n",
       " 'sub-28750',\n",
       " 'sub-28809',\n",
       " 'sub-28803',\n",
       " 'sub-28804',\n",
       " 'sub-28757',\n",
       " 'sub-28841',\n",
       " 'sub-28836',\n",
       " 'sub-28781',\n",
       " 'T1w.json',\n",
       " 'sub-28765',\n",
       " 'sub-28817',\n",
       " '.gitattributes',\n",
       " 'sub-28744',\n",
       " 'sub-28825',\n",
       " 'sub-28798',\n",
       " 'sub-28776',\n",
       " 'sub-28792',\n",
       " 'sub-28821',\n",
       " 'sub-28778',\n",
       " 'sub-28796',\n",
       " 'sub-28772',\n",
       " 'sub-28819',\n",
       " 'sub-28813',\n",
       " 'sub-28845',\n",
       " 'sub-28832',\n",
       " 'sub-28838',\n",
       " 'sub-28761',\n",
       " 'sub-28785',\n",
       " 'sub-28800',\n",
       " 'sub-28753',\n",
       " 'sub-28759',\n",
       " 'sub-28754',\n",
       " 'sub-28807',\n",
       " 'sub-28766',\n",
       " 'sub-28788',\n",
       " 'sub-28782',\n",
       " 'sub-28835',\n",
       " 'sub-28842',\n",
       " 'sub-28747',\n",
       " 'sub-28814',\n",
       " 'sub-28791',\n",
       " 'sub-28775',\n",
       " 'sub-28826',\n",
       " 'sub-28816',\n",
       " 'sub-28745',\n",
       " 'sub-28824',\n",
       " 'sub-28793',\n",
       " 'sub-28799',\n",
       " 'sub-28777',\n",
       " 'sub-28805',\n",
       " 'sub-28756',\n",
       " 'sub-28837',\n",
       " 'sub-28840',\n",
       " 'sub-28764',\n",
       " 'sub-28780',\n",
       " 'task-rest_bold.json',\n",
       " 'sub-28763',\n",
       " 'sub-28787',\n",
       " 'sub-28769',\n",
       " 'sub-28847',\n",
       " 'sub-28830',\n",
       " 'sub-28751',\n",
       " 'sub-28802',\n",
       " 'dataset_description.json',\n",
       " 'sub-28808',\n",
       " 'sub-28794',\n",
       " 'sub-28770',\n",
       " 'sub-28829',\n",
       " 'sub-28823',\n",
       " 'sub-28748',\n",
       " 'sub-28742',\n",
       " 'sub-28811',\n",
       " 'sub-28746',\n",
       " 'sub-28815',\n",
       " 'sub-28774',\n",
       " 'sub-28790',\n",
       " 'sub-28827',\n",
       " 'sub-28755',\n",
       " 'sub-28806',\n",
       " 'sub-28783',\n",
       " 'sub-28767',\n",
       " 'sub-28789',\n",
       " 'sub-28843',\n",
       " 'sub-28834',\n",
       " 'participants.tsv',\n",
       " 'sub-28839',\n",
       " 'sub-28844',\n",
       " 'sub-28784',\n",
       " 'sub-28760',\n",
       " 'sub-28801',\n",
       " 'sub-28758',\n",
       " 'sub-28752',\n",
       " 'sub-28820',\n",
       " 'sub-28773',\n",
       " 'sub-28779',\n",
       " 'sub-28797',\n",
       " 'sub-28812',\n",
       " 'sub-28818',\n",
       " 'sub-28741']"
      ]
     },
     "execution_count": 6,
     "metadata": {},
     "output_type": "execute_result"
    }
   ],
   "source": [
    "os.listdir(DSET.local_base)"
   ]
  },
  {
   "cell_type": "markdown",
   "metadata": {},
   "source": [
    "Because the structure of the dataset already exists, we can leverage the BIDS class to get information about it (before we have actually downloaded anything)"
   ]
  },
  {
   "cell_type": "code",
   "execution_count": 42,
   "metadata": {},
   "outputs": [],
   "source": [
    "myBIDS=BIDS(DSET.local_base)"
   ]
  },
  {
   "cell_type": "code",
   "execution_count": 43,
   "metadata": {},
   "outputs": [
    {
     "name": "stdout",
     "output_type": "stream",
     "text": [
      "Found 58 participant(s) ['29006', '29007', '29008', '29009', '29010', '29011', '29012', '29013', '29014', '29015', '29016', '29017', '29018', '29019', '29020', '29021', '29022', '29023', '29024', '29025', '29026', '29027', '29028', '29029', '29030', '29031', '29032', '29033', '29034', '29035', '29036', '29037', '29038', '29039', '29040', '29041', '29042', '29043', '29044', '29045', '29046', '29047', '29048', '29049', '29050', '29051', '29052', '29053', '29054', '29055', '29056', '30144', '30146', '30147', '30148', '30149', '30150', '30151']\n",
      "[\"Found 1 session(s) for sub-29006 ['1']\", \"Found 1 session(s) for sub-29007 ['1']\", \"Found 1 session(s) for sub-29008 ['1']\", \"Found 1 session(s) for sub-29009 ['1']\", \"Found 1 session(s) for sub-29010 ['1']\", \"Found 1 session(s) for sub-29011 ['1']\", \"Found 1 session(s) for sub-29012 ['1']\", \"Found 1 session(s) for sub-29013 ['1']\", \"Found 1 session(s) for sub-29014 ['1']\", \"Found 1 session(s) for sub-29015 ['1']\", \"Found 1 session(s) for sub-29016 ['1']\", \"Found 1 session(s) for sub-29017 ['1']\", \"Found 1 session(s) for sub-29018 ['1']\", \"Found 1 session(s) for sub-29019 ['1']\", \"Found 1 session(s) for sub-29020 ['1']\", \"Found 1 session(s) for sub-29021 ['1']\", \"Found 1 session(s) for sub-29022 ['1']\", \"Found 1 session(s) for sub-29023 ['1']\", \"Found 1 session(s) for sub-29024 ['1']\", \"Found 1 session(s) for sub-29025 ['1']\", \"Found 1 session(s) for sub-29026 ['1']\", \"Found 1 session(s) for sub-29027 ['1']\", \"Found 1 session(s) for sub-29028 ['1']\", \"Found 1 session(s) for sub-29029 ['1']\", \"Found 1 session(s) for sub-29030 ['1']\", \"Found 1 session(s) for sub-29031 ['1']\", \"Found 1 session(s) for sub-29032 ['1']\", \"Found 1 session(s) for sub-29033 ['1']\", \"Found 1 session(s) for sub-29034 ['1']\", \"Found 1 session(s) for sub-29035 ['1']\", \"Found 1 session(s) for sub-29036 ['1']\", \"Found 1 session(s) for sub-29037 ['1']\", \"Found 1 session(s) for sub-29038 ['1']\", \"Found 1 session(s) for sub-29039 ['1']\", \"Found 1 session(s) for sub-29040 ['1']\", \"Found 1 session(s) for sub-29041 ['1']\", \"Found 1 session(s) for sub-29042 ['1']\", \"Found 1 session(s) for sub-29043 ['1']\", \"Found 1 session(s) for sub-29044 ['1']\", \"Found 1 session(s) for sub-29045 ['1']\", \"Found 1 session(s) for sub-29046 ['1']\", \"Found 1 session(s) for sub-29047 ['1']\", \"Found 1 session(s) for sub-29048 ['1']\", \"Found 1 session(s) for sub-29049 ['1']\", \"Found 1 session(s) for sub-29050 ['1']\", \"Found 1 session(s) for sub-29051 ['1']\", \"Found 1 session(s) for sub-29052 ['1']\", \"Found 1 session(s) for sub-29053 ['1']\", \"Found 1 session(s) for sub-29054 ['1']\", \"Found 1 session(s) for sub-29055 ['1']\", \"Found 1 session(s) for sub-29056 ['1']\", \"Found 1 session(s) for sub-30144 ['1']\", \"Found 1 session(s) for sub-30146 ['1']\", \"Found 1 session(s) for sub-30147 ['1']\", \"Found 1 session(s) for sub-30148 ['1']\", \"Found 1 session(s) for sub-30149 ['1']\", \"Found 1 session(s) for sub-30150 ['1']\", \"Found 1 session(s) for sub-30151 ['1']\"]\n",
      "[\"Found 1 task(s) for sub-29006 and ses-1 ['rest']\", \"Found 1 task(s) for sub-29007 and ses-1 ['rest']\", \"Found 1 task(s) for sub-29008 and ses-1 ['rest']\", \"Found 1 task(s) for sub-29009 and ses-1 ['rest']\", \"Found 1 task(s) for sub-29010 and ses-1 ['rest']\", \"Found 1 task(s) for sub-29011 and ses-1 ['rest']\", \"Found 1 task(s) for sub-29012 and ses-1 ['rest']\", \"Found 1 task(s) for sub-29013 and ses-1 ['rest']\", \"Found 1 task(s) for sub-29014 and ses-1 ['rest']\", \"Found 1 task(s) for sub-29015 and ses-1 ['rest']\", \"Found 1 task(s) for sub-29016 and ses-1 ['rest']\", \"Found 1 task(s) for sub-29017 and ses-1 ['rest']\", \"Found 1 task(s) for sub-29018 and ses-1 ['rest']\", \"Found 1 task(s) for sub-29019 and ses-1 ['rest']\", \"Found 1 task(s) for sub-29020 and ses-1 ['rest']\", \"Found 1 task(s) for sub-29021 and ses-1 ['rest']\", \"Found 1 task(s) for sub-29022 and ses-1 ['rest']\", \"Found 1 task(s) for sub-29023 and ses-1 ['rest']\", \"Found 1 task(s) for sub-29024 and ses-1 ['rest']\", \"Found 1 task(s) for sub-29025 and ses-1 ['rest']\", \"Found 1 task(s) for sub-29026 and ses-1 ['rest']\", \"Found 1 task(s) for sub-29027 and ses-1 ['rest']\", \"Found 1 task(s) for sub-29028 and ses-1 ['rest']\", \"Found 1 task(s) for sub-29029 and ses-1 ['rest']\", \"Found 1 task(s) for sub-29030 and ses-1 ['rest']\", \"Found 1 task(s) for sub-29031 and ses-1 ['rest']\", \"Found 1 task(s) for sub-29032 and ses-1 ['rest']\", \"Found 1 task(s) for sub-29033 and ses-1 ['rest']\", \"Found 1 task(s) for sub-29034 and ses-1 ['rest']\", \"Found 1 task(s) for sub-29035 and ses-1 ['rest']\", \"Found 1 task(s) for sub-29036 and ses-1 ['rest']\", \"Found 1 task(s) for sub-29037 and ses-1 ['rest']\", \"Found 1 task(s) for sub-29038 and ses-1 ['rest']\", \"Found 1 task(s) for sub-29039 and ses-1 ['rest']\", \"Found 1 task(s) for sub-29040 and ses-1 ['rest']\", \"Found 1 task(s) for sub-29041 and ses-1 ['rest']\", \"Found 1 task(s) for sub-29042 and ses-1 ['rest']\", \"Found 1 task(s) for sub-29043 and ses-1 ['rest']\", \"Found 1 task(s) for sub-29044 and ses-1 ['rest']\", \"Found 1 task(s) for sub-29045 and ses-1 ['rest']\", \"Found 1 task(s) for sub-29046 and ses-1 ['rest']\", \"Found 1 task(s) for sub-29047 and ses-1 ['rest']\", \"Found 1 task(s) for sub-29048 and ses-1 ['rest']\", \"Found 1 task(s) for sub-29049 and ses-1 ['rest']\", \"Found 1 task(s) for sub-29050 and ses-1 ['rest']\", \"Found 1 task(s) for sub-29051 and ses-1 ['rest']\", \"Found 1 task(s) for sub-29052 and ses-1 ['rest']\", \"Found 1 task(s) for sub-29053 and ses-1 ['rest']\", \"Found 1 task(s) for sub-29054 and ses-1 ['rest']\", \"Found 1 task(s) for sub-29055 and ses-1 ['rest']\", \"Found 1 task(s) for sub-29056 and ses-1 ['rest']\", \"Found 1 task(s) for sub-30144 and ses-1 ['rest']\", \"Found 1 task(s) for sub-30146 and ses-1 ['rest']\", \"Found 1 task(s) for sub-30147 and ses-1 ['rest']\", \"Found 1 task(s) for sub-30148 and ses-1 ['rest']\", \"Found 1 task(s) for sub-30149 and ses-1 ['rest']\", \"Found 1 task(s) for sub-30150 and ses-1 ['rest']\", \"Found 1 task(s) for sub-30151 and ses-1 ['rest']\"]\n"
     ]
    }
   ],
   "source": [
    "myBIDS.elaborate()"
   ]
  },
  {
   "cell_type": "code",
   "execution_count": 86,
   "metadata": {},
   "outputs": [
    {
     "data": {
      "text/plain": [
       "['/Users/nicholashedger/Documents/DATALAD_TEST/sub-29006/ses-1/anat/sub-29006_ses-1_run-1_T1w.nii.gz']"
      ]
     },
     "execution_count": 86,
     "metadata": {},
     "output_type": "execute_result"
    }
   ],
   "source": [
    "myBIDS.find_anats('29006','1')"
   ]
  },
  {
   "cell_type": "code",
   "execution_count": 91,
   "metadata": {},
   "outputs": [
    {
     "name": "stdout",
     "output_type": "stream",
     "text": [
      "/Users/nicholashedger/Documents/DATALAD_TEST/sub-29006/func\n"
     ]
    },
    {
     "ename": "ValueError",
     "evalue": "Could not find functional data with the following parameters:\nsub-29006, ses-None, task-rest",
     "output_type": "error",
     "traceback": [
      "\u001b[0;31m------------------------------------------------------------------------\u001b[0m",
      "\u001b[0;31mValueError\u001b[0m                             Traceback (most recent call last)",
      "\u001b[0;32m<ipython-input-91-836ddb95bc2f>\u001b[0m in \u001b[0;36m<module>\u001b[0;34m\u001b[0m\n\u001b[0;32m----> 1\u001b[0;31m \u001b[0mmyBIDS\u001b[0m\u001b[0;34m.\u001b[0m\u001b[0mfind_funcs\u001b[0m\u001b[0;34m(\u001b[0m\u001b[0msub\u001b[0m\u001b[0;34m=\u001b[0m\u001b[0;34m'29006'\u001b[0m\u001b[0;34m,\u001b[0m\u001b[0mtask\u001b[0m\u001b[0;34m=\u001b[0m\u001b[0;34m'rest'\u001b[0m\u001b[0;34m)\u001b[0m\u001b[0;34m\u001b[0m\u001b[0;34m\u001b[0m\u001b[0m\n\u001b[0m",
      "\u001b[0;32m~/cnbpy/cnbpy/bids.py\u001b[0m in \u001b[0;36mfind_funcs\u001b[0;34m(self, sub, task, ses)\u001b[0m\n\u001b[1;32m    138\u001b[0m         \u001b[0;32mif\u001b[0m \u001b[0;32mnot\u001b[0m \u001b[0mfuncs\u001b[0m\u001b[0;34m:\u001b[0m\u001b[0;34m\u001b[0m\u001b[0;34m\u001b[0m\u001b[0m\n\u001b[1;32m    139\u001b[0m             raise ValueError(\n\u001b[0;32m--> 140\u001b[0;31m                 \u001b[0;34m\"Could not find functional data with the following parameters:\\n\"\u001b[0m\u001b[0;34m\u001b[0m\u001b[0;34m\u001b[0m\u001b[0m\n\u001b[0m\u001b[1;32m    141\u001b[0m                 f\"sub-{sub}, ses-{ses}, task-{task}\")\n\u001b[1;32m    142\u001b[0m         \u001b[0;32mreturn\u001b[0m \u001b[0mfuncs\u001b[0m\u001b[0;34m\u001b[0m\u001b[0;34m\u001b[0m\u001b[0m\n",
      "\u001b[0;31mValueError\u001b[0m: Could not find functional data with the following parameters:\nsub-29006, ses-None, task-rest"
     ]
    }
   ],
   "source": [
    "myBIDS.find_funcs(sub='29006',task='rest')"
   ]
  },
  {
   "cell_type": "code",
   "execution_count": null,
   "metadata": {},
   "outputs": [],
   "source": [
    "locals()"
   ]
  },
  {
   "cell_type": "code",
   "execution_count": 79,
   "metadata": {},
   "outputs": [],
   "source": [
    "def path(subject,task,session=None):\n",
    "    if session !=None:\n",
    "        print(op.join(subject,session,task))\n",
    "        \n",
    "    else: \n",
    "        print(op.join(subject,task))\n",
    "    "
   ]
  },
  {
   "cell_type": "code",
   "execution_count": 81,
   "metadata": {},
   "outputs": [
    {
     "name": "stdout",
     "output_type": "stream",
     "text": [
      "mysub/1/rest\n"
     ]
    }
   ],
   "source": [
    "path(subject='mysub',task='rest',session='1')"
   ]
  },
  {
   "cell_type": "code",
   "execution_count": null,
   "metadata": {},
   "outputs": [],
   "source": [
    "path()"
   ]
  },
  {
   "cell_type": "code",
   "execution_count": 47,
   "metadata": {},
   "outputs": [],
   "source": [
    "mlist=['davey','chavey']"
   ]
  },
  {
   "cell_type": "code",
   "execution_count": 48,
   "metadata": {},
   "outputs": [],
   "source": [
    "import os.path as op\n",
    "ffunc_dir = op.join(*mlist)"
   ]
  },
  {
   "cell_type": "code",
   "execution_count": 49,
   "metadata": {},
   "outputs": [
    {
     "data": {
      "text/plain": [
       "'davey/chavey'"
      ]
     },
     "execution_count": 49,
     "metadata": {},
     "output_type": "execute_result"
    }
   ],
   "source": [
    "ffunc_dir"
   ]
  },
  {
   "cell_type": "code",
   "execution_count": 10,
   "metadata": {},
   "outputs": [
    {
     "data": {
      "text/plain": [
       "['/Users/nicholashedger/Documents/DATALAD_TEST/sub-29006/ses-1/func/sub-29006_ses-1_task-rest_run-1_bold.nii.gz']"
      ]
     },
     "execution_count": 10,
     "metadata": {},
     "output_type": "execute_result"
    }
   ],
   "source": [
    "myBIDS.find_funcs('29006','1','rest')"
   ]
  },
  {
   "cell_type": "markdown",
   "metadata": {},
   "source": [
    "If we want to actually download some data, we can do this with the subject class. "
   ]
  },
  {
   "cell_type": "code",
   "execution_count": 28,
   "metadata": {},
   "outputs": [],
   "source": [
    "from cnbpy.datalad import SUBJECT"
   ]
  },
  {
   "cell_type": "code",
   "execution_count": 29,
   "metadata": {},
   "outputs": [],
   "source": [
    "mysubject=SUBJECT(DSET,'29006')"
   ]
  },
  {
   "cell_type": "markdown",
   "metadata": {},
   "source": [
    "This subject's data is now downloaded.  "
   ]
  },
  {
   "cell_type": "markdown",
   "metadata": {},
   "source": [
    "We can remove as follows. "
   ]
  },
  {
   "cell_type": "code",
   "execution_count": 30,
   "metadata": {},
   "outputs": [],
   "source": [
    "mysubject.get()"
   ]
  },
  {
   "cell_type": "code",
   "execution_count": 14,
   "metadata": {},
   "outputs": [
    {
     "name": "stdout",
     "output_type": "stream",
     "text": [
      "402 annex'd files (58.4 MB/3.6 GB present/total size)\n",
      "nothing to save, working tree clean\n",
      "402 annex'd files (58.4 MB/3.6 GB present/total size)\n",
      "nothing to save, working tree clean\n"
     ]
    }
   ],
   "source": [
    "DSET.get_size()"
   ]
  },
  {
   "cell_type": "code",
   "execution_count": 31,
   "metadata": {},
   "outputs": [],
   "source": [
    "mysubject.drop()"
   ]
  },
  {
   "cell_type": "markdown",
   "metadata": {},
   "source": [
    "And also re-add them just as easily."
   ]
  },
  {
   "cell_type": "code",
   "execution_count": 32,
   "metadata": {},
   "outputs": [],
   "source": [
    "mysubject.get()"
   ]
  },
  {
   "cell_type": "markdown",
   "metadata": {},
   "source": [
    "We can remove the entire dataset as follows."
   ]
  },
  {
   "cell_type": "code",
   "execution_count": 21,
   "metadata": {},
   "outputs": [],
   "source": [
    "DSET.remove()"
   ]
  },
  {
   "cell_type": "code",
   "execution_count": 28,
   "metadata": {},
   "outputs": [
    {
     "ename": "FileNotFoundError",
     "evalue": "[Errno 2] No such file or directory: '/Users/nicholashedger/Documents/DATALAD_TEST'",
     "output_type": "error",
     "traceback": [
      "\u001b[0;31m---------------------------------------------------------------------------\u001b[0m",
      "\u001b[0;31mFileNotFoundError\u001b[0m                         Traceback (most recent call last)",
      "\u001b[0;32m<ipython-input-28-54f769a7bee5>\u001b[0m in \u001b[0;36m<module>\u001b[0;34m\u001b[0m\n\u001b[0;32m----> 1\u001b[0;31m \u001b[0mos\u001b[0m\u001b[0;34m.\u001b[0m\u001b[0mlistdir\u001b[0m\u001b[0;34m(\u001b[0m\u001b[0mDSET\u001b[0m\u001b[0;34m.\u001b[0m\u001b[0mlocal_base\u001b[0m\u001b[0;34m)\u001b[0m\u001b[0;34m\u001b[0m\u001b[0;34m\u001b[0m\u001b[0m\n\u001b[0m",
      "\u001b[0;31mFileNotFoundError\u001b[0m: [Errno 2] No such file or directory: '/Users/nicholashedger/Documents/DATALAD_TEST'"
     ]
    }
   ],
   "source": [
    "os.listdir(DSET.local_base)"
   ]
  },
  {
   "cell_type": "markdown",
   "metadata": {},
   "source": [
    "I also created an ABIDE superclass. This inherits all the properties of a DATSET class - but has additional properties.\n",
    "\n",
    "By doing things this way - we can write a base class for a DATASET and classes for specific datasets can be made just by adding the required additional methods. "
   ]
  },
  {
   "cell_type": "code",
   "execution_count": 26,
   "metadata": {},
   "outputs": [],
   "source": [
    "ABIDE=ABIDE_DATASET(local_path,source)"
   ]
  },
  {
   "cell_type": "markdown",
   "metadata": {},
   "source": [
    "For instance, it has the anatomical quality data"
   ]
  },
  {
   "cell_type": "code",
   "execution_count": 27,
   "metadata": {},
   "outputs": [
    {
     "data": {
      "text/html": [
       "<div>\n",
       "<style scoped>\n",
       "    .dataframe tbody tr th:only-of-type {\n",
       "        vertical-align: middle;\n",
       "    }\n",
       "\n",
       "    .dataframe tbody tr th {\n",
       "        vertical-align: top;\n",
       "    }\n",
       "\n",
       "    .dataframe thead th {\n",
       "        text-align: right;\n",
       "    }\n",
       "</style>\n",
       "<table border=\"1\" class=\"dataframe\">\n",
       "  <thead>\n",
       "    <tr style=\"text-align: right;\">\n",
       "      <th></th>\n",
       "      <th>Site_ID</th>\n",
       "      <th>Sub_ID</th>\n",
       "      <th>Session</th>\n",
       "      <th>Series</th>\n",
       "      <th>Unique_ID</th>\n",
       "      <th>CNR</th>\n",
       "      <th>SNR</th>\n",
       "      <th>Qi1</th>\n",
       "      <th>EFC</th>\n",
       "      <th>Smoothness_of_Voxels</th>\n",
       "      <th>FBER</th>\n",
       "      <th>Cortical Contrast</th>\n",
       "    </tr>\n",
       "  </thead>\n",
       "  <tbody>\n",
       "    <tr>\n",
       "      <th>0</th>\n",
       "      <td>ABIDEII-BNI_1</td>\n",
       "      <td>29006</td>\n",
       "      <td>session_1</td>\n",
       "      <td>anat_1</td>\n",
       "      <td>ABIDEII-BNI_1_29006_session_1_anat_1</td>\n",
       "      <td>3.739700</td>\n",
       "      <td>8.044581</td>\n",
       "      <td>0.029466</td>\n",
       "      <td>0.374966</td>\n",
       "      <td>4.444132</td>\n",
       "      <td>1623.309074</td>\n",
       "      <td>0.346157</td>\n",
       "    </tr>\n",
       "    <tr>\n",
       "      <th>1</th>\n",
       "      <td>ABIDEII-BNI_1</td>\n",
       "      <td>29007</td>\n",
       "      <td>session_1</td>\n",
       "      <td>anat_1</td>\n",
       "      <td>ABIDEII-BNI_1_29007_session_1_anat_1</td>\n",
       "      <td>3.909783</td>\n",
       "      <td>8.098633</td>\n",
       "      <td>0.027127</td>\n",
       "      <td>0.383418</td>\n",
       "      <td>4.723703</td>\n",
       "      <td>1687.366231</td>\n",
       "      <td>0.345985</td>\n",
       "    </tr>\n",
       "    <tr>\n",
       "      <th>2</th>\n",
       "      <td>ABIDEII-BNI_1</td>\n",
       "      <td>29008</td>\n",
       "      <td>session_1</td>\n",
       "      <td>anat_1</td>\n",
       "      <td>ABIDEII-BNI_1_29008_session_1_anat_1</td>\n",
       "      <td>3.539676</td>\n",
       "      <td>8.064538</td>\n",
       "      <td>0.027055</td>\n",
       "      <td>0.355422</td>\n",
       "      <td>4.387167</td>\n",
       "      <td>1568.398781</td>\n",
       "      <td>0.323096</td>\n",
       "    </tr>\n",
       "    <tr>\n",
       "      <th>3</th>\n",
       "      <td>ABIDEII-BNI_1</td>\n",
       "      <td>29009</td>\n",
       "      <td>session_1</td>\n",
       "      <td>anat_1</td>\n",
       "      <td>ABIDEII-BNI_1_29009_session_1_anat_1</td>\n",
       "      <td>4.340816</td>\n",
       "      <td>9.175651</td>\n",
       "      <td>0.022776</td>\n",
       "      <td>0.370577</td>\n",
       "      <td>4.325262</td>\n",
       "      <td>2212.091689</td>\n",
       "      <td>0.349804</td>\n",
       "    </tr>\n",
       "    <tr>\n",
       "      <th>4</th>\n",
       "      <td>ABIDEII-BNI_1</td>\n",
       "      <td>29010</td>\n",
       "      <td>session_1</td>\n",
       "      <td>anat_1</td>\n",
       "      <td>ABIDEII-BNI_1_29010_session_1_anat_1</td>\n",
       "      <td>4.287266</td>\n",
       "      <td>8.598315</td>\n",
       "      <td>0.041394</td>\n",
       "      <td>0.361352</td>\n",
       "      <td>4.494184</td>\n",
       "      <td>1389.710795</td>\n",
       "      <td>0.341943</td>\n",
       "    </tr>\n",
       "    <tr>\n",
       "      <th>...</th>\n",
       "      <td>...</td>\n",
       "      <td>...</td>\n",
       "      <td>...</td>\n",
       "      <td>...</td>\n",
       "      <td>...</td>\n",
       "      <td>...</td>\n",
       "      <td>...</td>\n",
       "      <td>...</td>\n",
       "      <td>...</td>\n",
       "      <td>...</td>\n",
       "      <td>...</td>\n",
       "      <td>...</td>\n",
       "    </tr>\n",
       "    <tr>\n",
       "      <th>1354</th>\n",
       "      <td>ABIDEII-UPSM_Long</td>\n",
       "      <td>50049</td>\n",
       "      <td>followup_1</td>\n",
       "      <td>anat_1</td>\n",
       "      <td>ABIDEII-UPSM_Long_50049_followup_1_anat_1</td>\n",
       "      <td>10.183135</td>\n",
       "      <td>19.976284</td>\n",
       "      <td>0.129605</td>\n",
       "      <td>0.414894</td>\n",
       "      <td>3.836040</td>\n",
       "      <td>429.727628</td>\n",
       "      <td>0.308980</td>\n",
       "    </tr>\n",
       "    <tr>\n",
       "      <th>1355</th>\n",
       "      <td>ABIDEII-UPSM_Long</td>\n",
       "      <td>50050</td>\n",
       "      <td>baseline</td>\n",
       "      <td>anat_1</td>\n",
       "      <td>ABIDEII-UPSM_Long_50050_baseline_anat_1</td>\n",
       "      <td>10.646528</td>\n",
       "      <td>18.945145</td>\n",
       "      <td>0.176975</td>\n",
       "      <td>0.476138</td>\n",
       "      <td>4.002291</td>\n",
       "      <td>283.147942</td>\n",
       "      <td>0.337274</td>\n",
       "    </tr>\n",
       "    <tr>\n",
       "      <th>1356</th>\n",
       "      <td>ABIDEII-UPSM_Long</td>\n",
       "      <td>50050</td>\n",
       "      <td>followup_1</td>\n",
       "      <td>anat_1</td>\n",
       "      <td>ABIDEII-UPSM_Long_50050_followup_1_anat_1</td>\n",
       "      <td>10.646528</td>\n",
       "      <td>18.945145</td>\n",
       "      <td>0.176975</td>\n",
       "      <td>0.476138</td>\n",
       "      <td>4.002291</td>\n",
       "      <td>283.147942</td>\n",
       "      <td>0.337274</td>\n",
       "    </tr>\n",
       "    <tr>\n",
       "      <th>1357</th>\n",
       "      <td>ABIDEII-UPSM_Long</td>\n",
       "      <td>50051</td>\n",
       "      <td>baseline</td>\n",
       "      <td>anat_1</td>\n",
       "      <td>ABIDEII-UPSM_Long_50051_baseline_anat_1</td>\n",
       "      <td>11.778542</td>\n",
       "      <td>20.563501</td>\n",
       "      <td>0.145473</td>\n",
       "      <td>0.458912</td>\n",
       "      <td>3.840600</td>\n",
       "      <td>352.891421</td>\n",
       "      <td>0.359032</td>\n",
       "    </tr>\n",
       "    <tr>\n",
       "      <th>1358</th>\n",
       "      <td>ABIDEII-UPSM_Long</td>\n",
       "      <td>50051</td>\n",
       "      <td>followup_1</td>\n",
       "      <td>anat_1</td>\n",
       "      <td>ABIDEII-UPSM_Long_50051_followup_1_anat_1</td>\n",
       "      <td>11.778542</td>\n",
       "      <td>20.563501</td>\n",
       "      <td>0.145473</td>\n",
       "      <td>0.458912</td>\n",
       "      <td>3.840600</td>\n",
       "      <td>352.891421</td>\n",
       "      <td>0.359032</td>\n",
       "    </tr>\n",
       "  </tbody>\n",
       "</table>\n",
       "<p>1359 rows × 12 columns</p>\n",
       "</div>"
      ],
      "text/plain": [
       "                Site_ID  Sub_ID     Session  Series  \\\n",
       "0         ABIDEII-BNI_1   29006   session_1  anat_1   \n",
       "1         ABIDEII-BNI_1   29007   session_1  anat_1   \n",
       "2         ABIDEII-BNI_1   29008   session_1  anat_1   \n",
       "3         ABIDEII-BNI_1   29009   session_1  anat_1   \n",
       "4         ABIDEII-BNI_1   29010   session_1  anat_1   \n",
       "...                 ...     ...         ...     ...   \n",
       "1354  ABIDEII-UPSM_Long   50049  followup_1  anat_1   \n",
       "1355  ABIDEII-UPSM_Long   50050    baseline  anat_1   \n",
       "1356  ABIDEII-UPSM_Long   50050  followup_1  anat_1   \n",
       "1357  ABIDEII-UPSM_Long   50051    baseline  anat_1   \n",
       "1358  ABIDEII-UPSM_Long   50051  followup_1  anat_1   \n",
       "\n",
       "                                      Unique_ID        CNR        SNR  \\\n",
       "0          ABIDEII-BNI_1_29006_session_1_anat_1   3.739700   8.044581   \n",
       "1          ABIDEII-BNI_1_29007_session_1_anat_1   3.909783   8.098633   \n",
       "2          ABIDEII-BNI_1_29008_session_1_anat_1   3.539676   8.064538   \n",
       "3          ABIDEII-BNI_1_29009_session_1_anat_1   4.340816   9.175651   \n",
       "4          ABIDEII-BNI_1_29010_session_1_anat_1   4.287266   8.598315   \n",
       "...                                         ...        ...        ...   \n",
       "1354  ABIDEII-UPSM_Long_50049_followup_1_anat_1  10.183135  19.976284   \n",
       "1355    ABIDEII-UPSM_Long_50050_baseline_anat_1  10.646528  18.945145   \n",
       "1356  ABIDEII-UPSM_Long_50050_followup_1_anat_1  10.646528  18.945145   \n",
       "1357    ABIDEII-UPSM_Long_50051_baseline_anat_1  11.778542  20.563501   \n",
       "1358  ABIDEII-UPSM_Long_50051_followup_1_anat_1  11.778542  20.563501   \n",
       "\n",
       "           Qi1       EFC  Smoothness_of_Voxels         FBER  Cortical Contrast  \n",
       "0     0.029466  0.374966              4.444132  1623.309074           0.346157  \n",
       "1     0.027127  0.383418              4.723703  1687.366231           0.345985  \n",
       "2     0.027055  0.355422              4.387167  1568.398781           0.323096  \n",
       "3     0.022776  0.370577              4.325262  2212.091689           0.349804  \n",
       "4     0.041394  0.361352              4.494184  1389.710795           0.341943  \n",
       "...        ...       ...                   ...          ...                ...  \n",
       "1354  0.129605  0.414894              3.836040   429.727628           0.308980  \n",
       "1355  0.176975  0.476138              4.002291   283.147942           0.337274  \n",
       "1356  0.176975  0.476138              4.002291   283.147942           0.337274  \n",
       "1357  0.145473  0.458912              3.840600   352.891421           0.359032  \n",
       "1358  0.145473  0.458912              3.840600   352.891421           0.359032  \n",
       "\n",
       "[1359 rows x 12 columns]"
      ]
     },
     "execution_count": 27,
     "metadata": {},
     "output_type": "execute_result"
    }
   ],
   "source": [
    "ABIDE.anat_q"
   ]
  },
  {
   "cell_type": "markdown",
   "metadata": {},
   "source": [
    "And also the demographic data"
   ]
  },
  {
   "cell_type": "code",
   "execution_count": 31,
   "metadata": {},
   "outputs": [
    {
     "data": {
      "text/html": [
       "<div>\n",
       "<style scoped>\n",
       "    .dataframe tbody tr th:only-of-type {\n",
       "        vertical-align: middle;\n",
       "    }\n",
       "\n",
       "    .dataframe tbody tr th {\n",
       "        vertical-align: top;\n",
       "    }\n",
       "\n",
       "    .dataframe thead th {\n",
       "        text-align: right;\n",
       "    }\n",
       "</style>\n",
       "<table border=\"1\" class=\"dataframe\">\n",
       "  <thead>\n",
       "    <tr style=\"text-align: right;\">\n",
       "      <th></th>\n",
       "      <th>SITE_ID</th>\n",
       "      <th>SUB_ID</th>\n",
       "      <th>NDAR_GUID</th>\n",
       "      <th>DX_GROUP</th>\n",
       "      <th>PDD_DSM_IV_TR</th>\n",
       "      <th>ASD_DSM_5</th>\n",
       "      <th>AGE_AT_SCAN</th>\n",
       "      <th>SEX</th>\n",
       "      <th>HANDEDNESS_CATEGORY</th>\n",
       "      <th>HANDEDNESS_SCORES</th>\n",
       "      <th>...</th>\n",
       "      <th>ADI_R_C3_TOTAL</th>\n",
       "      <th>ADI_R_C4_REPETITIVE_USE_OBJECTS</th>\n",
       "      <th>ADI_R_C4_HIGHER</th>\n",
       "      <th>ADI_R_C4_UNUSUAL_SENSORY_INTERESTS</th>\n",
       "      <th>ADI_R_C4_TOTAL</th>\n",
       "      <th>ADI_R_D_AGE_PARENT_NOTICED</th>\n",
       "      <th>ADI_R_D_AGE_FIRST_SINGLE_WORDS</th>\n",
       "      <th>ADI_R_D_AGE_FIRST_PHRASES</th>\n",
       "      <th>ADI_R_D_AGE_WHEN_ABNORMALITY</th>\n",
       "      <th>ADI_R_D_INTERVIEWER_JUDGMENT</th>\n",
       "    </tr>\n",
       "  </thead>\n",
       "  <tbody>\n",
       "    <tr>\n",
       "      <th>0</th>\n",
       "      <td>ABIDEII-BNI_1</td>\n",
       "      <td>29006</td>\n",
       "      <td>NaN</td>\n",
       "      <td>1</td>\n",
       "      <td>NaN</td>\n",
       "      <td>NaN</td>\n",
       "      <td>48.0000</td>\n",
       "      <td>1</td>\n",
       "      <td>1.0</td>\n",
       "      <td>NaN</td>\n",
       "      <td>...</td>\n",
       "      <td>NaN</td>\n",
       "      <td>NaN</td>\n",
       "      <td>NaN</td>\n",
       "      <td>NaN</td>\n",
       "      <td>NaN</td>\n",
       "      <td>NaN</td>\n",
       "      <td>NaN</td>\n",
       "      <td>NaN</td>\n",
       "      <td>NaN</td>\n",
       "      <td>NaN</td>\n",
       "    </tr>\n",
       "    <tr>\n",
       "      <th>1</th>\n",
       "      <td>ABIDEII-BNI_1</td>\n",
       "      <td>29007</td>\n",
       "      <td>NaN</td>\n",
       "      <td>1</td>\n",
       "      <td>NaN</td>\n",
       "      <td>NaN</td>\n",
       "      <td>41.0000</td>\n",
       "      <td>1</td>\n",
       "      <td>1.0</td>\n",
       "      <td>NaN</td>\n",
       "      <td>...</td>\n",
       "      <td>NaN</td>\n",
       "      <td>NaN</td>\n",
       "      <td>NaN</td>\n",
       "      <td>NaN</td>\n",
       "      <td>NaN</td>\n",
       "      <td>NaN</td>\n",
       "      <td>NaN</td>\n",
       "      <td>NaN</td>\n",
       "      <td>NaN</td>\n",
       "      <td>NaN</td>\n",
       "    </tr>\n",
       "    <tr>\n",
       "      <th>2</th>\n",
       "      <td>ABIDEII-BNI_1</td>\n",
       "      <td>29008</td>\n",
       "      <td>NaN</td>\n",
       "      <td>1</td>\n",
       "      <td>NaN</td>\n",
       "      <td>NaN</td>\n",
       "      <td>59.0000</td>\n",
       "      <td>1</td>\n",
       "      <td>1.0</td>\n",
       "      <td>NaN</td>\n",
       "      <td>...</td>\n",
       "      <td>NaN</td>\n",
       "      <td>NaN</td>\n",
       "      <td>NaN</td>\n",
       "      <td>NaN</td>\n",
       "      <td>NaN</td>\n",
       "      <td>NaN</td>\n",
       "      <td>NaN</td>\n",
       "      <td>NaN</td>\n",
       "      <td>NaN</td>\n",
       "      <td>NaN</td>\n",
       "    </tr>\n",
       "    <tr>\n",
       "      <th>3</th>\n",
       "      <td>ABIDEII-BNI_1</td>\n",
       "      <td>29009</td>\n",
       "      <td>NaN</td>\n",
       "      <td>1</td>\n",
       "      <td>NaN</td>\n",
       "      <td>NaN</td>\n",
       "      <td>57.0000</td>\n",
       "      <td>1</td>\n",
       "      <td>1.0</td>\n",
       "      <td>NaN</td>\n",
       "      <td>...</td>\n",
       "      <td>NaN</td>\n",
       "      <td>NaN</td>\n",
       "      <td>NaN</td>\n",
       "      <td>NaN</td>\n",
       "      <td>NaN</td>\n",
       "      <td>NaN</td>\n",
       "      <td>NaN</td>\n",
       "      <td>NaN</td>\n",
       "      <td>NaN</td>\n",
       "      <td>NaN</td>\n",
       "    </tr>\n",
       "    <tr>\n",
       "      <th>4</th>\n",
       "      <td>ABIDEII-BNI_1</td>\n",
       "      <td>29010</td>\n",
       "      <td>NaN</td>\n",
       "      <td>1</td>\n",
       "      <td>NaN</td>\n",
       "      <td>NaN</td>\n",
       "      <td>45.0000</td>\n",
       "      <td>1</td>\n",
       "      <td>1.0</td>\n",
       "      <td>NaN</td>\n",
       "      <td>...</td>\n",
       "      <td>NaN</td>\n",
       "      <td>NaN</td>\n",
       "      <td>NaN</td>\n",
       "      <td>NaN</td>\n",
       "      <td>NaN</td>\n",
       "      <td>NaN</td>\n",
       "      <td>NaN</td>\n",
       "      <td>NaN</td>\n",
       "      <td>NaN</td>\n",
       "      <td>NaN</td>\n",
       "    </tr>\n",
       "    <tr>\n",
       "      <th>...</th>\n",
       "      <td>...</td>\n",
       "      <td>...</td>\n",
       "      <td>...</td>\n",
       "      <td>...</td>\n",
       "      <td>...</td>\n",
       "      <td>...</td>\n",
       "      <td>...</td>\n",
       "      <td>...</td>\n",
       "      <td>...</td>\n",
       "      <td>...</td>\n",
       "      <td>...</td>\n",
       "      <td>...</td>\n",
       "      <td>...</td>\n",
       "      <td>...</td>\n",
       "      <td>...</td>\n",
       "      <td>...</td>\n",
       "      <td>...</td>\n",
       "      <td>...</td>\n",
       "      <td>...</td>\n",
       "      <td>...</td>\n",
       "      <td>...</td>\n",
       "    </tr>\n",
       "    <tr>\n",
       "      <th>1109</th>\n",
       "      <td>ABIDEII-USM_1</td>\n",
       "      <td>29523</td>\n",
       "      <td>NDARCL516DV3</td>\n",
       "      <td>2</td>\n",
       "      <td>0.0</td>\n",
       "      <td>NaN</td>\n",
       "      <td>36.1451</td>\n",
       "      <td>1</td>\n",
       "      <td>NaN</td>\n",
       "      <td>NaN</td>\n",
       "      <td>...</td>\n",
       "      <td>NaN</td>\n",
       "      <td>NaN</td>\n",
       "      <td>NaN</td>\n",
       "      <td>NaN</td>\n",
       "      <td>NaN</td>\n",
       "      <td>NaN</td>\n",
       "      <td>NaN</td>\n",
       "      <td>NaN</td>\n",
       "      <td>NaN</td>\n",
       "      <td>NaN</td>\n",
       "    </tr>\n",
       "    <tr>\n",
       "      <th>1110</th>\n",
       "      <td>ABIDEII-USM_1</td>\n",
       "      <td>29524</td>\n",
       "      <td>NDARKC441AZJ</td>\n",
       "      <td>2</td>\n",
       "      <td>0.0</td>\n",
       "      <td>NaN</td>\n",
       "      <td>11.7892</td>\n",
       "      <td>1</td>\n",
       "      <td>NaN</td>\n",
       "      <td>NaN</td>\n",
       "      <td>...</td>\n",
       "      <td>NaN</td>\n",
       "      <td>NaN</td>\n",
       "      <td>NaN</td>\n",
       "      <td>NaN</td>\n",
       "      <td>NaN</td>\n",
       "      <td>NaN</td>\n",
       "      <td>NaN</td>\n",
       "      <td>NaN</td>\n",
       "      <td>NaN</td>\n",
       "      <td>NaN</td>\n",
       "    </tr>\n",
       "    <tr>\n",
       "      <th>1111</th>\n",
       "      <td>ABIDEII-USM_1</td>\n",
       "      <td>29525</td>\n",
       "      <td>NDARCF644GKW</td>\n",
       "      <td>2</td>\n",
       "      <td>0.0</td>\n",
       "      <td>NaN</td>\n",
       "      <td>23.2909</td>\n",
       "      <td>1</td>\n",
       "      <td>1.0</td>\n",
       "      <td>80.0</td>\n",
       "      <td>...</td>\n",
       "      <td>NaN</td>\n",
       "      <td>NaN</td>\n",
       "      <td>NaN</td>\n",
       "      <td>NaN</td>\n",
       "      <td>NaN</td>\n",
       "      <td>NaN</td>\n",
       "      <td>NaN</td>\n",
       "      <td>NaN</td>\n",
       "      <td>NaN</td>\n",
       "      <td>NaN</td>\n",
       "    </tr>\n",
       "    <tr>\n",
       "      <th>1112</th>\n",
       "      <td>ABIDEII-USM_1</td>\n",
       "      <td>29526</td>\n",
       "      <td>NDARLE058ZZK</td>\n",
       "      <td>2</td>\n",
       "      <td>0.0</td>\n",
       "      <td>NaN</td>\n",
       "      <td>32.6242</td>\n",
       "      <td>1</td>\n",
       "      <td>NaN</td>\n",
       "      <td>NaN</td>\n",
       "      <td>...</td>\n",
       "      <td>NaN</td>\n",
       "      <td>NaN</td>\n",
       "      <td>NaN</td>\n",
       "      <td>NaN</td>\n",
       "      <td>NaN</td>\n",
       "      <td>NaN</td>\n",
       "      <td>NaN</td>\n",
       "      <td>NaN</td>\n",
       "      <td>NaN</td>\n",
       "      <td>NaN</td>\n",
       "    </tr>\n",
       "    <tr>\n",
       "      <th>1113</th>\n",
       "      <td>ABIDEII-USM_1</td>\n",
       "      <td>29527</td>\n",
       "      <td>NaN</td>\n",
       "      <td>2</td>\n",
       "      <td>0.0</td>\n",
       "      <td>NaN</td>\n",
       "      <td>11.4962</td>\n",
       "      <td>1</td>\n",
       "      <td>NaN</td>\n",
       "      <td>NaN</td>\n",
       "      <td>...</td>\n",
       "      <td>NaN</td>\n",
       "      <td>NaN</td>\n",
       "      <td>NaN</td>\n",
       "      <td>NaN</td>\n",
       "      <td>NaN</td>\n",
       "      <td>NaN</td>\n",
       "      <td>NaN</td>\n",
       "      <td>NaN</td>\n",
       "      <td>NaN</td>\n",
       "      <td>NaN</td>\n",
       "    </tr>\n",
       "  </tbody>\n",
       "</table>\n",
       "<p>1114 rows × 348 columns</p>\n",
       "</div>"
      ],
      "text/plain": [
       "            SITE_ID  SUB_ID     NDAR_GUID  DX_GROUP  PDD_DSM_IV_TR  ASD_DSM_5  \\\n",
       "0     ABIDEII-BNI_1   29006           NaN         1            NaN        NaN   \n",
       "1     ABIDEII-BNI_1   29007           NaN         1            NaN        NaN   \n",
       "2     ABIDEII-BNI_1   29008           NaN         1            NaN        NaN   \n",
       "3     ABIDEII-BNI_1   29009           NaN         1            NaN        NaN   \n",
       "4     ABIDEII-BNI_1   29010           NaN         1            NaN        NaN   \n",
       "...             ...     ...           ...       ...            ...        ...   \n",
       "1109  ABIDEII-USM_1   29523  NDARCL516DV3         2            0.0        NaN   \n",
       "1110  ABIDEII-USM_1   29524  NDARKC441AZJ         2            0.0        NaN   \n",
       "1111  ABIDEII-USM_1   29525  NDARCF644GKW         2            0.0        NaN   \n",
       "1112  ABIDEII-USM_1   29526  NDARLE058ZZK         2            0.0        NaN   \n",
       "1113  ABIDEII-USM_1   29527           NaN         2            0.0        NaN   \n",
       "\n",
       "      AGE_AT_SCAN   SEX  HANDEDNESS_CATEGORY  HANDEDNESS_SCORES  ...  \\\n",
       "0          48.0000    1                  1.0                NaN  ...   \n",
       "1          41.0000    1                  1.0                NaN  ...   \n",
       "2          59.0000    1                  1.0                NaN  ...   \n",
       "3          57.0000    1                  1.0                NaN  ...   \n",
       "4          45.0000    1                  1.0                NaN  ...   \n",
       "...            ...  ...                  ...                ...  ...   \n",
       "1109       36.1451    1                  NaN                NaN  ...   \n",
       "1110       11.7892    1                  NaN                NaN  ...   \n",
       "1111       23.2909    1                  1.0               80.0  ...   \n",
       "1112       32.6242    1                  NaN                NaN  ...   \n",
       "1113       11.4962    1                  NaN                NaN  ...   \n",
       "\n",
       "      ADI_R_C3_TOTAL  ADI_R_C4_REPETITIVE_USE_OBJECTS  ADI_R_C4_HIGHER  \\\n",
       "0                NaN                              NaN              NaN   \n",
       "1                NaN                              NaN              NaN   \n",
       "2                NaN                              NaN              NaN   \n",
       "3                NaN                              NaN              NaN   \n",
       "4                NaN                              NaN              NaN   \n",
       "...              ...                              ...              ...   \n",
       "1109             NaN                              NaN              NaN   \n",
       "1110             NaN                              NaN              NaN   \n",
       "1111             NaN                              NaN              NaN   \n",
       "1112             NaN                              NaN              NaN   \n",
       "1113             NaN                              NaN              NaN   \n",
       "\n",
       "     ADI_R_C4_UNUSUAL_SENSORY_INTERESTS ADI_R_C4_TOTAL  \\\n",
       "0                                   NaN            NaN   \n",
       "1                                   NaN            NaN   \n",
       "2                                   NaN            NaN   \n",
       "3                                   NaN            NaN   \n",
       "4                                   NaN            NaN   \n",
       "...                                 ...            ...   \n",
       "1109                                NaN            NaN   \n",
       "1110                                NaN            NaN   \n",
       "1111                                NaN            NaN   \n",
       "1112                                NaN            NaN   \n",
       "1113                                NaN            NaN   \n",
       "\n",
       "     ADI_R_D_AGE_PARENT_NOTICED  ADI_R_D_AGE_FIRST_SINGLE_WORDS  \\\n",
       "0                           NaN                             NaN   \n",
       "1                           NaN                             NaN   \n",
       "2                           NaN                             NaN   \n",
       "3                           NaN                             NaN   \n",
       "4                           NaN                             NaN   \n",
       "...                         ...                             ...   \n",
       "1109                        NaN                             NaN   \n",
       "1110                        NaN                             NaN   \n",
       "1111                        NaN                             NaN   \n",
       "1112                        NaN                             NaN   \n",
       "1113                        NaN                             NaN   \n",
       "\n",
       "      ADI_R_D_AGE_FIRST_PHRASES  ADI_R_D_AGE_WHEN_ABNORMALITY  \\\n",
       "0                           NaN                           NaN   \n",
       "1                           NaN                           NaN   \n",
       "2                           NaN                           NaN   \n",
       "3                           NaN                           NaN   \n",
       "4                           NaN                           NaN   \n",
       "...                         ...                           ...   \n",
       "1109                        NaN                           NaN   \n",
       "1110                        NaN                           NaN   \n",
       "1111                        NaN                           NaN   \n",
       "1112                        NaN                           NaN   \n",
       "1113                        NaN                           NaN   \n",
       "\n",
       "      ADI_R_D_INTERVIEWER_JUDGMENT  \n",
       "0                              NaN  \n",
       "1                              NaN  \n",
       "2                              NaN  \n",
       "3                              NaN  \n",
       "4                              NaN  \n",
       "...                            ...  \n",
       "1109                           NaN  \n",
       "1110                           NaN  \n",
       "1111                           NaN  \n",
       "1112                           NaN  \n",
       "1113                           NaN  \n",
       "\n",
       "[1114 rows x 348 columns]"
      ]
     },
     "execution_count": 31,
     "metadata": {},
     "output_type": "execute_result"
    }
   ],
   "source": [
    "ABIDE.demofile"
   ]
  },
  {
   "cell_type": "code",
   "execution_count": 29,
   "metadata": {},
   "outputs": [
    {
     "name": "stderr",
     "output_type": "stream",
     "text": [
      "[INFO] Cloning dataset to Dataset(/Users/nicholashedger/Documents/DATALAD_TEST) \n",
      "[INFO] Attempting to clone from http://datasets.datalad.org/abide2/RawData/BNI_1 to /Users/nicholashedger/Documents/DATALAD_TEST \n",
      "[INFO] Attempting to clone from http://datasets.datalad.org/abide2/RawData/BNI_1/.git to /Users/nicholashedger/Documents/DATALAD_TEST \n",
      "[INFO] Start enumerating objects \n",
      "[INFO] Start counting objects \n",
      "[INFO] Start compressing objects \n",
      "[INFO] Start receiving objects \n",
      "[INFO] Start resolving deltas \n",
      "[INFO] Completed clone attempts for Dataset(/Users/nicholashedger/Documents/DATALAD_TEST) \n",
      "[INFO] Scanning for unlocked files (this may take some time) \n"
     ]
    }
   ],
   "source": [
    "ABIDE.install()"
   ]
  },
  {
   "cell_type": "code",
   "execution_count": 32,
   "metadata": {},
   "outputs": [],
   "source": [
    "ABIDE.remove()"
   ]
  },
  {
   "cell_type": "markdown",
   "metadata": {},
   "source": [
    "I have written help for all of the methods written so far. "
   ]
  },
  {
   "cell_type": "code",
   "execution_count": 46,
   "metadata": {},
   "outputs": [
    {
     "name": "stdout",
     "output_type": "stream",
     "text": [
      "Help on method find_anats in module cnbpy.bids:\n",
      "\n",
      "find_anats(sub, ses, weight='T1') method of cnbpy.bids.BIDS instance\n",
      "    Finds anatomical files for a given subject, session.\n",
      "    \n",
      "    Parameters\n",
      "    ----------\n",
      "    sub: Subject identifier (string)\n",
      "    ses: Session identifier (string)\n",
      "    weight: What type of weight (optional, default ='T1')\n",
      "    \n",
      "    Returns\n",
      "    -------\n",
      "    anats: Anatomical files that meet the criteria (list).\n",
      "\n"
     ]
    }
   ],
   "source": [
    "help(myBIDS.find_anats)"
   ]
  },
  {
   "cell_type": "code",
   "execution_count": 30,
   "metadata": {},
   "outputs": [
    {
     "name": "stdout",
     "output_type": "stream",
     "text": [
      "Help on class ABIDE_DATASET in module cnbpy.datalad:\n",
      "\n",
      "class ABIDE_DATASET(DATASET)\n",
      " |  DATASET\n",
      " |  Class for an ABIDE dataset.\n",
      " |  \n",
      " |  Additional methods for the ABIDE dataset go here.\n",
      " |  Will inherit the properties of a regular DATASET class.\n",
      " |  \n",
      " |  Method resolution order:\n",
      " |      ABIDE_DATASET\n",
      " |      DATASET\n",
      " |      builtins.object\n",
      " |  \n",
      " |  Methods defined here:\n",
      " |  \n",
      " |  __init__(self, local_base, source)\n",
      " |      Retrieves ABIDE information.\n",
      " |      \n",
      " |      Returns\n",
      " |      -------\n",
      " |      self.demofile: The demographic files (pandas dataframe).\n",
      " |      self.anat_q: The anatomical quality file (pandas dataframe).\n",
      " |      self.func_q: The functional quality file (pandas dataframe).\n",
      " |  \n",
      " |  ----------------------------------------------------------------------\n",
      " |  Methods inherited from DATASET:\n",
      " |  \n",
      " |  install(self)\n",
      " |      Installs the dataset using http://docs.datalad.org/en/stable/generated/man/datalad-install.html\n",
      " |      It will create a bunch of symbolic links to the dataset.\n",
      " |      The subject data itself can be retrieved using the 'subject' class.\n",
      " |  \n",
      " |  remove(self)\n",
      " |      Removes the dataset using http://docs.datalad.org/en/stable/generated/man/datalad-remove.html\n",
      " |  \n",
      " |  ----------------------------------------------------------------------\n",
      " |  Data descriptors inherited from DATASET:\n",
      " |  \n",
      " |  __dict__\n",
      " |      dictionary for instance variables (if defined)\n",
      " |  \n",
      " |  __weakref__\n",
      " |      list of weak references to the object (if defined)\n",
      "\n"
     ]
    }
   ],
   "source": [
    "help(ABIDE_DATASET)"
   ]
  }
 ],
 "metadata": {
  "kernelspec": {
   "display_name": "Python 3",
   "language": "python",
   "name": "python3"
  },
  "language_info": {
   "codemirror_mode": {
    "name": "ipython",
    "version": 3
   },
   "file_extension": ".py",
   "mimetype": "text/x-python",
   "name": "python",
   "nbconvert_exporter": "python",
   "pygments_lexer": "ipython3",
   "version": "3.6.10"
  }
 },
 "nbformat": 4,
 "nbformat_minor": 4
}
