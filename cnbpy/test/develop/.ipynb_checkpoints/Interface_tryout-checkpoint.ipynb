{
 "cells": [
  {
   "cell_type": "code",
   "execution_count": 1,
   "metadata": {},
   "outputs": [],
   "source": [
    "%load_ext autoreload\n",
    "%autoreload 2\n",
    "\n",
    "from RSASD.Interface import ABIDE\n",
    "from RSASD.Interface import subject"
   ]
  },
  {
   "cell_type": "markdown",
   "metadata": {},
   "source": [
    "Instantiate ABIDE class"
   ]
  },
  {
   "cell_type": "code",
   "execution_count": 2,
   "metadata": {},
   "outputs": [],
   "source": [
    "test=ABIDE('/Volumes/BAHAMUT/AB_DOWNLOADS')"
   ]
  },
  {
   "cell_type": "code",
   "execution_count": 3,
   "metadata": {},
   "outputs": [
    {
     "data": {
      "text/html": [
       "<div>\n",
       "<style scoped>\n",
       "    .dataframe tbody tr th:only-of-type {\n",
       "        vertical-align: middle;\n",
       "    }\n",
       "\n",
       "    .dataframe tbody tr th {\n",
       "        vertical-align: top;\n",
       "    }\n",
       "\n",
       "    .dataframe thead th {\n",
       "        text-align: right;\n",
       "    }\n",
       "</style>\n",
       "<table border=\"1\" class=\"dataframe\">\n",
       "  <thead>\n",
       "    <tr style=\"text-align: right;\">\n",
       "      <th></th>\n",
       "      <th>SITE_ID</th>\n",
       "      <th>SUB_ID</th>\n",
       "      <th>NDAR_GUID</th>\n",
       "      <th>DX_GROUP</th>\n",
       "      <th>PDD_DSM_IV_TR</th>\n",
       "      <th>ASD_DSM_5</th>\n",
       "      <th>AGE_AT_SCAN</th>\n",
       "      <th>SEX</th>\n",
       "      <th>HANDEDNESS_CATEGORY</th>\n",
       "      <th>HANDEDNESS_SCORES</th>\n",
       "      <th>...</th>\n",
       "      <th>ADI_R_C3_TOTAL</th>\n",
       "      <th>ADI_R_C4_REPETITIVE_USE_OBJECTS</th>\n",
       "      <th>ADI_R_C4_HIGHER</th>\n",
       "      <th>ADI_R_C4_UNUSUAL_SENSORY_INTERESTS</th>\n",
       "      <th>ADI_R_C4_TOTAL</th>\n",
       "      <th>ADI_R_D_AGE_PARENT_NOTICED</th>\n",
       "      <th>ADI_R_D_AGE_FIRST_SINGLE_WORDS</th>\n",
       "      <th>ADI_R_D_AGE_FIRST_PHRASES</th>\n",
       "      <th>ADI_R_D_AGE_WHEN_ABNORMALITY</th>\n",
       "      <th>ADI_R_D_INTERVIEWER_JUDGMENT</th>\n",
       "    </tr>\n",
       "  </thead>\n",
       "  <tbody>\n",
       "    <tr>\n",
       "      <th>0</th>\n",
       "      <td>ABIDEII-BNI_1</td>\n",
       "      <td>29006</td>\n",
       "      <td>NaN</td>\n",
       "      <td>1</td>\n",
       "      <td>NaN</td>\n",
       "      <td>NaN</td>\n",
       "      <td>48.0</td>\n",
       "      <td>1</td>\n",
       "      <td>1.0</td>\n",
       "      <td>NaN</td>\n",
       "      <td>...</td>\n",
       "      <td>NaN</td>\n",
       "      <td>NaN</td>\n",
       "      <td>NaN</td>\n",
       "      <td>NaN</td>\n",
       "      <td>NaN</td>\n",
       "      <td>NaN</td>\n",
       "      <td>NaN</td>\n",
       "      <td>NaN</td>\n",
       "      <td>NaN</td>\n",
       "      <td>NaN</td>\n",
       "    </tr>\n",
       "    <tr>\n",
       "      <th>1</th>\n",
       "      <td>ABIDEII-BNI_1</td>\n",
       "      <td>29007</td>\n",
       "      <td>NaN</td>\n",
       "      <td>1</td>\n",
       "      <td>NaN</td>\n",
       "      <td>NaN</td>\n",
       "      <td>41.0</td>\n",
       "      <td>1</td>\n",
       "      <td>1.0</td>\n",
       "      <td>NaN</td>\n",
       "      <td>...</td>\n",
       "      <td>NaN</td>\n",
       "      <td>NaN</td>\n",
       "      <td>NaN</td>\n",
       "      <td>NaN</td>\n",
       "      <td>NaN</td>\n",
       "      <td>NaN</td>\n",
       "      <td>NaN</td>\n",
       "      <td>NaN</td>\n",
       "      <td>NaN</td>\n",
       "      <td>NaN</td>\n",
       "    </tr>\n",
       "    <tr>\n",
       "      <th>2</th>\n",
       "      <td>ABIDEII-BNI_1</td>\n",
       "      <td>29008</td>\n",
       "      <td>NaN</td>\n",
       "      <td>1</td>\n",
       "      <td>NaN</td>\n",
       "      <td>NaN</td>\n",
       "      <td>59.0</td>\n",
       "      <td>1</td>\n",
       "      <td>1.0</td>\n",
       "      <td>NaN</td>\n",
       "      <td>...</td>\n",
       "      <td>NaN</td>\n",
       "      <td>NaN</td>\n",
       "      <td>NaN</td>\n",
       "      <td>NaN</td>\n",
       "      <td>NaN</td>\n",
       "      <td>NaN</td>\n",
       "      <td>NaN</td>\n",
       "      <td>NaN</td>\n",
       "      <td>NaN</td>\n",
       "      <td>NaN</td>\n",
       "    </tr>\n",
       "    <tr>\n",
       "      <th>3</th>\n",
       "      <td>ABIDEII-BNI_1</td>\n",
       "      <td>29009</td>\n",
       "      <td>NaN</td>\n",
       "      <td>1</td>\n",
       "      <td>NaN</td>\n",
       "      <td>NaN</td>\n",
       "      <td>57.0</td>\n",
       "      <td>1</td>\n",
       "      <td>1.0</td>\n",
       "      <td>NaN</td>\n",
       "      <td>...</td>\n",
       "      <td>NaN</td>\n",
       "      <td>NaN</td>\n",
       "      <td>NaN</td>\n",
       "      <td>NaN</td>\n",
       "      <td>NaN</td>\n",
       "      <td>NaN</td>\n",
       "      <td>NaN</td>\n",
       "      <td>NaN</td>\n",
       "      <td>NaN</td>\n",
       "      <td>NaN</td>\n",
       "    </tr>\n",
       "    <tr>\n",
       "      <th>4</th>\n",
       "      <td>ABIDEII-BNI_1</td>\n",
       "      <td>29010</td>\n",
       "      <td>NaN</td>\n",
       "      <td>1</td>\n",
       "      <td>NaN</td>\n",
       "      <td>NaN</td>\n",
       "      <td>45.0</td>\n",
       "      <td>1</td>\n",
       "      <td>1.0</td>\n",
       "      <td>NaN</td>\n",
       "      <td>...</td>\n",
       "      <td>NaN</td>\n",
       "      <td>NaN</td>\n",
       "      <td>NaN</td>\n",
       "      <td>NaN</td>\n",
       "      <td>NaN</td>\n",
       "      <td>NaN</td>\n",
       "      <td>NaN</td>\n",
       "      <td>NaN</td>\n",
       "      <td>NaN</td>\n",
       "      <td>NaN</td>\n",
       "    </tr>\n",
       "  </tbody>\n",
       "</table>\n",
       "<p>5 rows × 348 columns</p>\n",
       "</div>"
      ],
      "text/plain": [
       "         SITE_ID  SUB_ID NDAR_GUID  DX_GROUP  PDD_DSM_IV_TR  ASD_DSM_5  \\\n",
       "0  ABIDEII-BNI_1   29006       NaN         1            NaN        NaN   \n",
       "1  ABIDEII-BNI_1   29007       NaN         1            NaN        NaN   \n",
       "2  ABIDEII-BNI_1   29008       NaN         1            NaN        NaN   \n",
       "3  ABIDEII-BNI_1   29009       NaN         1            NaN        NaN   \n",
       "4  ABIDEII-BNI_1   29010       NaN         1            NaN        NaN   \n",
       "\n",
       "   AGE_AT_SCAN   SEX  HANDEDNESS_CATEGORY  HANDEDNESS_SCORES  ...  \\\n",
       "0          48.0    1                  1.0                NaN  ...   \n",
       "1          41.0    1                  1.0                NaN  ...   \n",
       "2          59.0    1                  1.0                NaN  ...   \n",
       "3          57.0    1                  1.0                NaN  ...   \n",
       "4          45.0    1                  1.0                NaN  ...   \n",
       "\n",
       "   ADI_R_C3_TOTAL  ADI_R_C4_REPETITIVE_USE_OBJECTS  ADI_R_C4_HIGHER  \\\n",
       "0             NaN                              NaN              NaN   \n",
       "1             NaN                              NaN              NaN   \n",
       "2             NaN                              NaN              NaN   \n",
       "3             NaN                              NaN              NaN   \n",
       "4             NaN                              NaN              NaN   \n",
       "\n",
       "  ADI_R_C4_UNUSUAL_SENSORY_INTERESTS ADI_R_C4_TOTAL  \\\n",
       "0                                NaN            NaN   \n",
       "1                                NaN            NaN   \n",
       "2                                NaN            NaN   \n",
       "3                                NaN            NaN   \n",
       "4                                NaN            NaN   \n",
       "\n",
       "  ADI_R_D_AGE_PARENT_NOTICED  ADI_R_D_AGE_FIRST_SINGLE_WORDS  \\\n",
       "0                        NaN                             NaN   \n",
       "1                        NaN                             NaN   \n",
       "2                        NaN                             NaN   \n",
       "3                        NaN                             NaN   \n",
       "4                        NaN                             NaN   \n",
       "\n",
       "   ADI_R_D_AGE_FIRST_PHRASES  ADI_R_D_AGE_WHEN_ABNORMALITY  \\\n",
       "0                        NaN                           NaN   \n",
       "1                        NaN                           NaN   \n",
       "2                        NaN                           NaN   \n",
       "3                        NaN                           NaN   \n",
       "4                        NaN                           NaN   \n",
       "\n",
       "   ADI_R_D_INTERVIEWER_JUDGMENT  \n",
       "0                           NaN  \n",
       "1                           NaN  \n",
       "2                           NaN  \n",
       "3                           NaN  \n",
       "4                           NaN  \n",
       "\n",
       "[5 rows x 348 columns]"
      ]
     },
     "execution_count": 3,
     "metadata": {},
     "output_type": "execute_result"
    }
   ],
   "source": [
    "test.demofile.head()"
   ]
  },
  {
   "cell_type": "markdown",
   "metadata": {},
   "source": [
    "Anatomical quality"
   ]
  },
  {
   "cell_type": "code",
   "execution_count": 4,
   "metadata": {},
   "outputs": [
    {
     "data": {
      "text/html": [
       "<div>\n",
       "<style scoped>\n",
       "    .dataframe tbody tr th:only-of-type {\n",
       "        vertical-align: middle;\n",
       "    }\n",
       "\n",
       "    .dataframe tbody tr th {\n",
       "        vertical-align: top;\n",
       "    }\n",
       "\n",
       "    .dataframe thead th {\n",
       "        text-align: right;\n",
       "    }\n",
       "</style>\n",
       "<table border=\"1\" class=\"dataframe\">\n",
       "  <thead>\n",
       "    <tr style=\"text-align: right;\">\n",
       "      <th></th>\n",
       "      <th>Site_ID</th>\n",
       "      <th>Sub_ID</th>\n",
       "      <th>Session</th>\n",
       "      <th>Series</th>\n",
       "      <th>Unique_ID</th>\n",
       "      <th>CNR</th>\n",
       "      <th>SNR</th>\n",
       "      <th>Qi1</th>\n",
       "      <th>EFC</th>\n",
       "      <th>Smoothness_of_Voxels</th>\n",
       "      <th>FBER</th>\n",
       "      <th>Cortical Contrast</th>\n",
       "    </tr>\n",
       "  </thead>\n",
       "  <tbody>\n",
       "    <tr>\n",
       "      <th>0</th>\n",
       "      <td>ABIDEII-BNI_1</td>\n",
       "      <td>29006</td>\n",
       "      <td>session_1</td>\n",
       "      <td>anat_1</td>\n",
       "      <td>ABIDEII-BNI_1_29006_session_1_anat_1</td>\n",
       "      <td>3.739700</td>\n",
       "      <td>8.044581</td>\n",
       "      <td>0.029466</td>\n",
       "      <td>0.374966</td>\n",
       "      <td>4.444132</td>\n",
       "      <td>1623.309074</td>\n",
       "      <td>0.346157</td>\n",
       "    </tr>\n",
       "    <tr>\n",
       "      <th>1</th>\n",
       "      <td>ABIDEII-BNI_1</td>\n",
       "      <td>29007</td>\n",
       "      <td>session_1</td>\n",
       "      <td>anat_1</td>\n",
       "      <td>ABIDEII-BNI_1_29007_session_1_anat_1</td>\n",
       "      <td>3.909783</td>\n",
       "      <td>8.098633</td>\n",
       "      <td>0.027127</td>\n",
       "      <td>0.383418</td>\n",
       "      <td>4.723703</td>\n",
       "      <td>1687.366231</td>\n",
       "      <td>0.345985</td>\n",
       "    </tr>\n",
       "    <tr>\n",
       "      <th>2</th>\n",
       "      <td>ABIDEII-BNI_1</td>\n",
       "      <td>29008</td>\n",
       "      <td>session_1</td>\n",
       "      <td>anat_1</td>\n",
       "      <td>ABIDEII-BNI_1_29008_session_1_anat_1</td>\n",
       "      <td>3.539676</td>\n",
       "      <td>8.064538</td>\n",
       "      <td>0.027055</td>\n",
       "      <td>0.355422</td>\n",
       "      <td>4.387167</td>\n",
       "      <td>1568.398781</td>\n",
       "      <td>0.323096</td>\n",
       "    </tr>\n",
       "    <tr>\n",
       "      <th>3</th>\n",
       "      <td>ABIDEII-BNI_1</td>\n",
       "      <td>29009</td>\n",
       "      <td>session_1</td>\n",
       "      <td>anat_1</td>\n",
       "      <td>ABIDEII-BNI_1_29009_session_1_anat_1</td>\n",
       "      <td>4.340816</td>\n",
       "      <td>9.175651</td>\n",
       "      <td>0.022776</td>\n",
       "      <td>0.370577</td>\n",
       "      <td>4.325262</td>\n",
       "      <td>2212.091689</td>\n",
       "      <td>0.349804</td>\n",
       "    </tr>\n",
       "    <tr>\n",
       "      <th>4</th>\n",
       "      <td>ABIDEII-BNI_1</td>\n",
       "      <td>29010</td>\n",
       "      <td>session_1</td>\n",
       "      <td>anat_1</td>\n",
       "      <td>ABIDEII-BNI_1_29010_session_1_anat_1</td>\n",
       "      <td>4.287266</td>\n",
       "      <td>8.598315</td>\n",
       "      <td>0.041394</td>\n",
       "      <td>0.361352</td>\n",
       "      <td>4.494184</td>\n",
       "      <td>1389.710795</td>\n",
       "      <td>0.341943</td>\n",
       "    </tr>\n",
       "  </tbody>\n",
       "</table>\n",
       "</div>"
      ],
      "text/plain": [
       "         Site_ID  Sub_ID    Session  Series  \\\n",
       "0  ABIDEII-BNI_1   29006  session_1  anat_1   \n",
       "1  ABIDEII-BNI_1   29007  session_1  anat_1   \n",
       "2  ABIDEII-BNI_1   29008  session_1  anat_1   \n",
       "3  ABIDEII-BNI_1   29009  session_1  anat_1   \n",
       "4  ABIDEII-BNI_1   29010  session_1  anat_1   \n",
       "\n",
       "                              Unique_ID       CNR       SNR       Qi1  \\\n",
       "0  ABIDEII-BNI_1_29006_session_1_anat_1  3.739700  8.044581  0.029466   \n",
       "1  ABIDEII-BNI_1_29007_session_1_anat_1  3.909783  8.098633  0.027127   \n",
       "2  ABIDEII-BNI_1_29008_session_1_anat_1  3.539676  8.064538  0.027055   \n",
       "3  ABIDEII-BNI_1_29009_session_1_anat_1  4.340816  9.175651  0.022776   \n",
       "4  ABIDEII-BNI_1_29010_session_1_anat_1  4.287266  8.598315  0.041394   \n",
       "\n",
       "        EFC  Smoothness_of_Voxels         FBER  Cortical Contrast  \n",
       "0  0.374966              4.444132  1623.309074           0.346157  \n",
       "1  0.383418              4.723703  1687.366231           0.345985  \n",
       "2  0.355422              4.387167  1568.398781           0.323096  \n",
       "3  0.370577              4.325262  2212.091689           0.349804  \n",
       "4  0.361352              4.494184  1389.710795           0.341943  "
      ]
     },
     "execution_count": 4,
     "metadata": {},
     "output_type": "execute_result"
    }
   ],
   "source": [
    "test.anat_q.head()"
   ]
  },
  {
   "cell_type": "code",
   "execution_count": 5,
   "metadata": {},
   "outputs": [
    {
     "data": {
      "text/html": [
       "<div>\n",
       "<style scoped>\n",
       "    .dataframe tbody tr th:only-of-type {\n",
       "        vertical-align: middle;\n",
       "    }\n",
       "\n",
       "    .dataframe tbody tr th {\n",
       "        vertical-align: top;\n",
       "    }\n",
       "\n",
       "    .dataframe thead th {\n",
       "        text-align: right;\n",
       "    }\n",
       "</style>\n",
       "<table border=\"1\" class=\"dataframe\">\n",
       "  <thead>\n",
       "    <tr style=\"text-align: right;\">\n",
       "      <th></th>\n",
       "      <th>Site_ID</th>\n",
       "      <th>Sub_ID</th>\n",
       "      <th>Session</th>\n",
       "      <th>Series</th>\n",
       "      <th>Unique_ID</th>\n",
       "      <th>SNR</th>\n",
       "      <th>EFC</th>\n",
       "      <th>Smoothness_of_Voxels</th>\n",
       "      <th>FBER</th>\n",
       "      <th>GSR</th>\n",
       "      <th>mFD</th>\n",
       "      <th>PercentFD_greater_than_0.20</th>\n",
       "      <th>NumFD_greater_than_0.20</th>\n",
       "      <th>DVARS</th>\n",
       "      <th>Outliers</th>\n",
       "      <th>GCORR</th>\n",
       "      <th>Median_Distance_Index</th>\n",
       "      <th>Unnamed: 17</th>\n",
       "    </tr>\n",
       "  </thead>\n",
       "  <tbody>\n",
       "    <tr>\n",
       "      <th>0</th>\n",
       "      <td>ABIDEII-BNI_1</td>\n",
       "      <td>29006</td>\n",
       "      <td>session_1</td>\n",
       "      <td>rest_1</td>\n",
       "      <td>ABIDEII-BNI_1_29006_session_1_rest_1</td>\n",
       "      <td>13.685777</td>\n",
       "      <td>0.442160</td>\n",
       "      <td>2.008369</td>\n",
       "      <td>30.590680</td>\n",
       "      <td>0.027865</td>\n",
       "      <td>0.277081</td>\n",
       "      <td>1.6529</td>\n",
       "      <td>2</td>\n",
       "      <td>1.248626</td>\n",
       "      <td>0.004401</td>\n",
       "      <td>0.086727</td>\n",
       "      <td>0.025726</td>\n",
       "      <td>ABIDEII-BNI_1_29006_session_1_rest_1</td>\n",
       "    </tr>\n",
       "    <tr>\n",
       "      <th>1</th>\n",
       "      <td>ABIDEII-BNI_1</td>\n",
       "      <td>29007</td>\n",
       "      <td>session_1</td>\n",
       "      <td>rest_1</td>\n",
       "      <td>ABIDEII-BNI_1_29007_session_1_rest_1</td>\n",
       "      <td>14.824900</td>\n",
       "      <td>0.410426</td>\n",
       "      <td>2.186092</td>\n",
       "      <td>30.960059</td>\n",
       "      <td>0.020225</td>\n",
       "      <td>0.087523</td>\n",
       "      <td>0.0000</td>\n",
       "      <td>0</td>\n",
       "      <td>1.286947</td>\n",
       "      <td>0.002288</td>\n",
       "      <td>0.029517</td>\n",
       "      <td>0.028450</td>\n",
       "      <td>ABIDEII-BNI_1_29007_session_1_rest_1</td>\n",
       "    </tr>\n",
       "    <tr>\n",
       "      <th>2</th>\n",
       "      <td>ABIDEII-BNI_1</td>\n",
       "      <td>29008</td>\n",
       "      <td>session_1</td>\n",
       "      <td>rest_1</td>\n",
       "      <td>ABIDEII-BNI_1_29008_session_1_rest_1</td>\n",
       "      <td>12.619657</td>\n",
       "      <td>0.442346</td>\n",
       "      <td>2.055616</td>\n",
       "      <td>23.917162</td>\n",
       "      <td>0.028295</td>\n",
       "      <td>0.204968</td>\n",
       "      <td>0.0000</td>\n",
       "      <td>0</td>\n",
       "      <td>1.224414</td>\n",
       "      <td>0.001927</td>\n",
       "      <td>0.042229</td>\n",
       "      <td>0.031682</td>\n",
       "      <td>ABIDEII-BNI_1_29008_session_1_rest_1</td>\n",
       "    </tr>\n",
       "    <tr>\n",
       "      <th>3</th>\n",
       "      <td>ABIDEII-BNI_1</td>\n",
       "      <td>29009</td>\n",
       "      <td>session_1</td>\n",
       "      <td>rest_1</td>\n",
       "      <td>ABIDEII-BNI_1_29009_session_1_rest_1</td>\n",
       "      <td>11.194572</td>\n",
       "      <td>0.380077</td>\n",
       "      <td>1.951402</td>\n",
       "      <td>15.307414</td>\n",
       "      <td>0.015154</td>\n",
       "      <td>0.156332</td>\n",
       "      <td>21.4876</td>\n",
       "      <td>26</td>\n",
       "      <td>1.123361</td>\n",
       "      <td>0.004178</td>\n",
       "      <td>0.071626</td>\n",
       "      <td>0.028266</td>\n",
       "      <td>ABIDEII-BNI_1_29009_session_1_rest_1</td>\n",
       "    </tr>\n",
       "    <tr>\n",
       "      <th>4</th>\n",
       "      <td>ABIDEII-BNI_1</td>\n",
       "      <td>29010</td>\n",
       "      <td>session_1</td>\n",
       "      <td>rest_1</td>\n",
       "      <td>ABIDEII-BNI_1_29010_session_1_rest_1</td>\n",
       "      <td>10.688543</td>\n",
       "      <td>0.379325</td>\n",
       "      <td>1.928866</td>\n",
       "      <td>13.992231</td>\n",
       "      <td>0.013318</td>\n",
       "      <td>0.163731</td>\n",
       "      <td>25.6198</td>\n",
       "      <td>31</td>\n",
       "      <td>0.903128</td>\n",
       "      <td>0.006831</td>\n",
       "      <td>0.031094</td>\n",
       "      <td>0.034052</td>\n",
       "      <td>ABIDEII-BNI_1_29010_session_1_rest_1</td>\n",
       "    </tr>\n",
       "  </tbody>\n",
       "</table>\n",
       "</div>"
      ],
      "text/plain": [
       "         Site_ID  Sub_ID    Session  Series  \\\n",
       "0  ABIDEII-BNI_1   29006  session_1  rest_1   \n",
       "1  ABIDEII-BNI_1   29007  session_1  rest_1   \n",
       "2  ABIDEII-BNI_1   29008  session_1  rest_1   \n",
       "3  ABIDEII-BNI_1   29009  session_1  rest_1   \n",
       "4  ABIDEII-BNI_1   29010  session_1  rest_1   \n",
       "\n",
       "                              Unique_ID        SNR       EFC  \\\n",
       "0  ABIDEII-BNI_1_29006_session_1_rest_1  13.685777  0.442160   \n",
       "1  ABIDEII-BNI_1_29007_session_1_rest_1  14.824900  0.410426   \n",
       "2  ABIDEII-BNI_1_29008_session_1_rest_1  12.619657  0.442346   \n",
       "3  ABIDEII-BNI_1_29009_session_1_rest_1  11.194572  0.380077   \n",
       "4  ABIDEII-BNI_1_29010_session_1_rest_1  10.688543  0.379325   \n",
       "\n",
       "   Smoothness_of_Voxels       FBER       GSR       mFD  \\\n",
       "0              2.008369  30.590680  0.027865  0.277081   \n",
       "1              2.186092  30.960059  0.020225  0.087523   \n",
       "2              2.055616  23.917162  0.028295  0.204968   \n",
       "3              1.951402  15.307414  0.015154  0.156332   \n",
       "4              1.928866  13.992231  0.013318  0.163731   \n",
       "\n",
       "   PercentFD_greater_than_0.20  NumFD_greater_than_0.20     DVARS  Outliers  \\\n",
       "0                       1.6529                        2  1.248626  0.004401   \n",
       "1                       0.0000                        0  1.286947  0.002288   \n",
       "2                       0.0000                        0  1.224414  0.001927   \n",
       "3                      21.4876                       26  1.123361  0.004178   \n",
       "4                      25.6198                       31  0.903128  0.006831   \n",
       "\n",
       "      GCORR  Median_Distance_Index                           Unnamed: 17  \n",
       "0  0.086727               0.025726  ABIDEII-BNI_1_29006_session_1_rest_1  \n",
       "1  0.029517               0.028450  ABIDEII-BNI_1_29007_session_1_rest_1  \n",
       "2  0.042229               0.031682  ABIDEII-BNI_1_29008_session_1_rest_1  \n",
       "3  0.071626               0.028266  ABIDEII-BNI_1_29009_session_1_rest_1  \n",
       "4  0.031094               0.034052  ABIDEII-BNI_1_29010_session_1_rest_1  "
      ]
     },
     "execution_count": 5,
     "metadata": {},
     "output_type": "execute_result"
    }
   ],
   "source": [
    "test.func_q.head()"
   ]
  },
  {
   "cell_type": "markdown",
   "metadata": {},
   "source": [
    "Paths in the S3 bucket"
   ]
  },
  {
   "cell_type": "code",
   "execution_count": 6,
   "metadata": {},
   "outputs": [
    {
     "data": {
      "text/plain": [
       "('fcp-indi/data/Projects/ABIDE2/RawData',\n",
       " 'fcp-indi/data/Projects/ABIDE2/Outputs/fmriprep/freesurfer',\n",
       " 'fcp-indi/data/Projects/ABIDE2/Outputs/mriqc/mriqc')"
      ]
     },
     "execution_count": 6,
     "metadata": {},
     "output_type": "execute_result"
    }
   ],
   "source": [
    "test.raw_path, test.freesurfer_path,test.mriqc_path"
   ]
  },
  {
   "cell_type": "markdown",
   "metadata": {},
   "source": [
    "Instantiate subject"
   ]
  },
  {
   "cell_type": "code",
   "execution_count": 6,
   "metadata": {},
   "outputs": [],
   "source": [
    "sub=subject(29006,test)"
   ]
  },
  {
   "cell_type": "markdown",
   "metadata": {},
   "source": [
    "Remote paths for this subject."
   ]
  },
  {
   "cell_type": "code",
   "execution_count": 7,
   "metadata": {},
   "outputs": [
    {
     "data": {
      "text/plain": [
       "['fcp-indi/data/Projects/ABIDE2/RawData/ABIDEII-BNI_1/sub-29006',\n",
       " 'fcp-indi/data/Projects/ABIDE2/Outputs/fmriprep/fmriprep/sub-29006',\n",
       " 'fcp-indi/data/Projects/ABIDE2/Outputs/fmriprep/freesurfer/sub-29006']"
      ]
     },
     "execution_count": 7,
     "metadata": {},
     "output_type": "execute_result"
    }
   ],
   "source": [
    "sub.rpaths"
   ]
  },
  {
   "cell_type": "markdown",
   "metadata": {},
   "source": [
    "The path where this subject will be downloaded to"
   ]
  },
  {
   "cell_type": "code",
   "execution_count": 8,
   "metadata": {},
   "outputs": [
    {
     "data": {
      "text/plain": [
       "'/Volumes/BAHAMUT/AB_DOWNLOADS/sub-29006'"
      ]
     },
     "execution_count": 8,
     "metadata": {},
     "output_type": "execute_result"
    }
   ],
   "source": [
    "sub.local_dir"
   ]
  },
  {
   "cell_type": "markdown",
   "metadata": {},
   "source": [
    "Show the mriqc and fmriprep reports for this subject (opens in browser)."
   ]
  },
  {
   "cell_type": "code",
   "execution_count": 9,
   "metadata": {},
   "outputs": [],
   "source": [
    "sub.show_report(test)"
   ]
  },
  {
   "cell_type": "code",
   "execution_count": 11,
   "metadata": {},
   "outputs": [
    {
     "ename": "FileExistsError",
     "evalue": "[Errno 17] File exists: '/Volumes/BAHAMUT/AB_DOWNLOADS/sub-29006'",
     "output_type": "error",
     "traceback": [
      "\u001b[0;31m---------------------------------------------------------------------------\u001b[0m",
      "\u001b[0;31mFileExistsError\u001b[0m                           Traceback (most recent call last)",
      "\u001b[0;32m<ipython-input-11-6927460de626>\u001b[0m in \u001b[0;36m<module>\u001b[0;34m\u001b[0m\n\u001b[0;32m----> 1\u001b[0;31m \u001b[0msub\u001b[0m\u001b[0;34m.\u001b[0m\u001b[0mdownload\u001b[0m\u001b[0;34m(\u001b[0m\u001b[0mtest\u001b[0m\u001b[0;34m)\u001b[0m\u001b[0;34m\u001b[0m\u001b[0;34m\u001b[0m\u001b[0m\n\u001b[0m",
      "\u001b[0;32m~/Code/RS_ASD/Interface.py\u001b[0m in \u001b[0;36mdownload\u001b[0;34m(self, ABIDE)\u001b[0m\n\u001b[1;32m     52\u001b[0m     \u001b[0;32mdef\u001b[0m \u001b[0mdownload\u001b[0m\u001b[0;34m(\u001b[0m\u001b[0mself\u001b[0m\u001b[0;34m,\u001b[0m\u001b[0mABIDE\u001b[0m\u001b[0;34m)\u001b[0m\u001b[0;34m:\u001b[0m\u001b[0;34m\u001b[0m\u001b[0;34m\u001b[0m\u001b[0m\n\u001b[1;32m     53\u001b[0m \u001b[0;34m\u001b[0m\u001b[0m\n\u001b[0;32m---> 54\u001b[0;31m         \u001b[0mos\u001b[0m\u001b[0;34m.\u001b[0m\u001b[0mmkdir\u001b[0m\u001b[0;34m(\u001b[0m\u001b[0mself\u001b[0m\u001b[0;34m.\u001b[0m\u001b[0mlocal_dir\u001b[0m\u001b[0;34m)\u001b[0m\u001b[0;34m\u001b[0m\u001b[0;34m\u001b[0m\u001b[0m\n\u001b[0m\u001b[1;32m     55\u001b[0m \u001b[0;34m\u001b[0m\u001b[0m\n\u001b[1;32m     56\u001b[0m         \u001b[0;32mfor\u001b[0m \u001b[0mpath\u001b[0m \u001b[0;32min\u001b[0m \u001b[0mself\u001b[0m\u001b[0;34m.\u001b[0m\u001b[0mlpaths\u001b[0m\u001b[0;34m:\u001b[0m\u001b[0;34m\u001b[0m\u001b[0;34m\u001b[0m\u001b[0m\n",
      "\u001b[0;31mFileExistsError\u001b[0m: [Errno 17] File exists: '/Volumes/BAHAMUT/AB_DOWNLOADS/sub-29006'"
     ]
    }
   ],
   "source": [
    "sub.download(test)"
   ]
  },
  {
   "cell_type": "markdown",
   "metadata": {},
   "source": [
    "Download the subject."
   ]
  },
  {
   "cell_type": "code",
   "execution_count": 14,
   "metadata": {},
   "outputs": [],
   "source": [
    "from nilearn import surface \n",
    "\n",
    "x=surface.load_surf_data('/Volumes/BAHAMUT/AB_DOWNLOADS/sub-29006/fmriprep/ses-1/func/sub-29006_ses-1_task-rest_run-1_space-fsaverage5_hemi-L.func.gii')"
   ]
  },
  {
   "cell_type": "code",
   "execution_count": 18,
   "metadata": {},
   "outputs": [
    {
     "data": {
      "text/plain": [
       "[<matplotlib.lines.Line2D at 0x7f80a6b9eb00>]"
      ]
     },
     "execution_count": 18,
     "metadata": {},
     "output_type": "execute_result"
    },
    {
     "data": {
      "image/png": "[encoded data removed]",
      "text/plain": [
       "<Figure size 432x288 with 1 Axes>"
      ]
     },
     "metadata": {
      "needs_background": "light"
     },
     "output_type": "display_data"
    }
   ],
   "source": [
    "import matplotlib.pyplot as plt\n",
    "\n",
    "plt.plot(x[34,:])"
   ]
  },
  {
   "cell_type": "code",
   "execution_count": null,
   "metadata": {},
   "outputs": [],
   "source": []
  }
 ],
 "metadata": {
  "kernelspec": {
   "display_name": "Python 3",
   "language": "python",
   "name": "python3"
  },
  "language_info": {
   "codemirror_mode": {
    "name": "ipython",
    "version": 3
   },
   "file_extension": ".py",
   "mimetype": "text/x-python",
   "name": "python",
   "nbconvert_exporter": "python",
   "pygments_lexer": "ipython3",
   "version": "3.6.10"
  }
 },
 "nbformat": 4,
 "nbformat_minor": 4
}
